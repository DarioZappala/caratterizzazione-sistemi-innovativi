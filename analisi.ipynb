{
 "cells": [
  {
   "cell_type": "code",
   "execution_count": 1,
   "id": "a6228d84-f994-49dd-ba84-962aea7e99cd",
   "metadata": {},
   "outputs": [],
   "source": [
    "from collections import defaultdict\n",
    "import numpy as np\n",
    "import pandas as pd\n",
    "from unidecode import unidecode\n",
    "\n",
    "from sklearn.preprocessing import StandardScaler, Normalizer\n",
    "from sklearn.pipeline import Pipeline\n",
    "from sklearn.cluster import AgglomerativeClustering\n",
    "from sklearn.metrics import silhouette_score\n",
    "\n",
    "from scipy.cluster.hierarchy import dendrogram\n",
    "\n",
    "from matplotlib import rcParams\n",
    "from matplotlib.pyplot import subplots, figure, show, savefig\n",
    "from matplotlib.gridspec import GridSpec\n",
    "from matplotlib.patheffects import withStroke\n",
    "\n",
    "\n",
    "path_data = '/Users/dariozappala/Library/CloudStorage/Dropbox/università/RTD-A/progetti/dati/Crunchbase/'\n",
    "path_images = './immagini/'"
   ]
  },
  {
   "cell_type": "code",
   "execution_count": 2,
   "id": "ffcf9b8c-dde2-414e-9225-c0996fe51a24",
   "metadata": {},
   "outputs": [],
   "source": [
    "def linkage_matrix(model):\n",
    "    # Create linkage matrix from the fitted model\n",
    "    \n",
    "    # create the counts of samples under each node\n",
    "    counts = np.zeros(model.children_.shape[0])\n",
    "    n_samples = len(model.labels_)\n",
    "    for i, merge in enumerate(model.children_):\n",
    "        current_count = 0\n",
    "        for child_idx in merge:\n",
    "            if child_idx < n_samples:\n",
    "                current_count += 1  # leaf node\n",
    "            else:\n",
    "                current_count += counts[child_idx - n_samples]\n",
    "        counts[i] = current_count\n",
    "\n",
    "    return np.column_stack(\n",
    "        [model.children_, model.distances_, counts]\n",
    "    ).astype(float)\n",
    "\n",
    "\n",
    "def plot_dendrogram(model, **kwargs):\n",
    "    matrix_links = linkage_matrix(model)\n",
    "    dendrogram(matrix_links, **kwargs)"
   ]
  },
  {
   "cell_type": "markdown",
   "id": "ae023cd5-bb84-41da-a1fa-432481321a30",
   "metadata": {},
   "source": [
    "# Lettura"
   ]
  },
  {
   "cell_type": "markdown",
   "id": "9ba1de02-e9a0-4995-8a49-fac20aeac7a5",
   "metadata": {
    "tags": []
   },
   "source": [
    "## Distribuzione dei ruoli\n",
    "\n",
    "- `title` indica il ruolo dettagliato\n",
    "- `job_type` indica la categoria generale del ruolo. Può avere 5 valori:\n",
    "    - `executive` (1.869.260): Circa 723.000 ruoli con la parola 'founder'. Per il resto, ruoli dirigenziali.\n",
    "    - `employee` (626.450): Ruoli vari. Circa 18.000 ruoli con la parola 'founder'.\n",
    "    - `board_member` (218.030): Vari ruoli con 'member' e 'board'. Circa 8000 ruoli con 'founder'.\n",
    "    - `advisor` (84.071): Quasi tutti ruoli con la parola 'advisor'. Circa 2000 'Mentor' e 1000 'founder'\n",
    "    - `board_observer` (8855)"
   ]
  },
  {
   "cell_type": "code",
   "execution_count": 3,
   "id": "cfa336d4-34cb-43e7-b421-dc46c7b6368e",
   "metadata": {},
   "outputs": [
    {
     "name": "stdout",
     "output_type": "stream",
     "text": [
      "CPU times: user 11.4 s, sys: 699 ms, total: 12.1 s\n",
      "Wall time: 12.2 s\n"
     ]
    },
    {
     "data": {
      "text/plain": [
       "(2806666, 17)"
      ]
     },
     "execution_count": 3,
     "metadata": {},
     "output_type": "execute_result"
    }
   ],
   "source": [
    "%%time\n",
    "df_jobs = pd.read_csv(path_data + 'jobs.csv')\n",
    "df_jobs.shape"
   ]
  },
  {
   "cell_type": "code",
   "execution_count": 4,
   "id": "6bbd0c06-af8d-4aad-b5a0-b0e231d3aac5",
   "metadata": {},
   "outputs": [
    {
     "data": {
      "text/plain": [
       "job_type      \n",
       "executive         1869260\n",
       "employee           626450\n",
       "board_member       218030\n",
       "advisor             84071\n",
       "board_observer       8855\n",
       "Name: count, dtype: int64"
      ]
     },
     "execution_count": 4,
     "metadata": {},
     "output_type": "execute_result"
    }
   ],
   "source": [
    "(df_jobs.value_counts(['job_type'], sort = True, normalize = False, dropna = False))"
   ]
  },
  {
   "cell_type": "markdown",
   "id": "6c4bc729-f805-4dde-8ef7-09cefc9cdd74",
   "metadata": {},
   "source": [
    "## Compagnie"
   ]
  },
  {
   "cell_type": "code",
   "execution_count": 5,
   "id": "cd376cd4-acf5-4c99-b0ea-779fb4bf4002",
   "metadata": {},
   "outputs": [
    {
     "name": "stdout",
     "output_type": "stream",
     "text": [
      "CPU times: user 23.3 s, sys: 5.77 s, total: 29.1 s\n",
      "Wall time: 30.8 s\n"
     ]
    },
    {
     "data": {
      "text/plain": [
       "(3090736, 41)"
      ]
     },
     "execution_count": 5,
     "metadata": {},
     "output_type": "execute_result"
    }
   ],
   "source": [
    "%%time\n",
    "df_organizations = pd.read_csv(path_data + 'organizations.csv')\n",
    "df_organizations.shape"
   ]
  },
  {
   "cell_type": "code",
   "execution_count": 6,
   "id": "b624b0fd-6e42-4d54-a188-007b885f494b",
   "metadata": {},
   "outputs": [],
   "source": [
    "dict_country_to_area = defaultdict(lambda: None)\n",
    "dict_country_to_area.update(\n",
    "    {c: 'USA' for c in ['USA', 'ASM', 'GUM', 'MNP', 'PRI', 'UMI', 'VIR']} |\n",
    "    {c: 'Europe' for c in [\n",
    "        'ALB', 'AND', 'ARM', 'AUT', 'AZE', 'BLR', 'BEL', 'BIH', 'BGR', 'HRV', 'CYP', 'CZE', 'DNK', 'EST', 'FIN', 'FRA', 'GEO', 'DEU', 'GRC',\n",
    "        'HUN', 'ISL', 'IRL', 'ITA', 'KAZ', 'LVA', 'LIE', 'LTU', 'LUX', 'MLT', 'MDA', 'MCO', 'MNE', 'NLD', 'MKD', 'NOR', 'POL', 'PRT', 'ROM',\n",
    "        'RUS', 'SMR', 'SRB', 'SVK', 'SVN', 'ESP', 'SWE', 'CHE', 'TUR', 'UKR', 'GBR', 'VAT', 'ALA', 'GGY', 'JEY', 'FRO', 'GIB', 'GRL', 'IMN', 'SJM']}\n",
    ")\n",
    "\n",
    "df_organizations['area'] = df_organizations['country_code'].map(dict_country_to_area)\n",
    "cols_area = df_organizations['area'].dropna().unique().tolist()\n",
    "cols_area.sort()"
   ]
  },
  {
   "cell_type": "markdown",
   "id": "6889b9f4-a610-4f97-9449-7bdb23792e63",
   "metadata": {},
   "source": [
    "# Analisi"
   ]
  },
  {
   "cell_type": "markdown",
   "id": "f6e12b21-3c4b-4976-857b-28d6a44ac4dd",
   "metadata": {},
   "source": [
    "## Number of employees"
   ]
  },
  {
   "cell_type": "code",
   "execution_count": 7,
   "id": "34e26916-3e7f-49aa-8192-3453009eb344",
   "metadata": {
    "tags": []
   },
   "outputs": [
    {
     "name": "stdout",
     "output_type": "stream",
     "text": [
      "(2806657, 11)\n"
     ]
    },
    {
     "data": {
      "text/html": [
       "<div>\n",
       "<style scoped>\n",
       "    .dataframe tbody tr th:only-of-type {\n",
       "        vertical-align: middle;\n",
       "    }\n",
       "\n",
       "    .dataframe tbody tr th {\n",
       "        vertical-align: top;\n",
       "    }\n",
       "\n",
       "    .dataframe thead th {\n",
       "        text-align: right;\n",
       "    }\n",
       "</style>\n",
       "<table border=\"1\" class=\"dataframe\">\n",
       "  <thead>\n",
       "    <tr style=\"text-align: right;\">\n",
       "      <th></th>\n",
       "      <th>job_uuid</th>\n",
       "      <th>person_uuid</th>\n",
       "      <th>person_name</th>\n",
       "      <th>org_uuid</th>\n",
       "      <th>started_on</th>\n",
       "      <th>ended_on</th>\n",
       "      <th>is_current</th>\n",
       "      <th>org_name</th>\n",
       "      <th>area</th>\n",
       "      <th>country_code</th>\n",
       "      <th>city</th>\n",
       "    </tr>\n",
       "  </thead>\n",
       "  <tbody>\n",
       "    <tr>\n",
       "      <th>0</th>\n",
       "      <td>697b6934-fc1f-9d63-cfb2-1a10759b378e</td>\n",
       "      <td>ed13cd36-fe2b-3707-197b-0c2d56e37a71</td>\n",
       "      <td>Ben Elowitz</td>\n",
       "      <td>e1393508-30ea-8a36-3f96-dd3226033abd</td>\n",
       "      <td>2005-10-01</td>\n",
       "      <td>2014-06-01</td>\n",
       "      <td>False</td>\n",
       "      <td>Wetpaint</td>\n",
       "      <td>USA</td>\n",
       "      <td>USA</td>\n",
       "      <td>New York</td>\n",
       "    </tr>\n",
       "    <tr>\n",
       "      <th>1</th>\n",
       "      <td>b1de3765-442e-b556-9304-551c2a055901</td>\n",
       "      <td>5ceca97b-493c-1446-6249-5aaa33464763</td>\n",
       "      <td>Kevin Flaherty</td>\n",
       "      <td>e1393508-30ea-8a36-3f96-dd3226033abd</td>\n",
       "      <td>NaN</td>\n",
       "      <td>NaN</td>\n",
       "      <td>False</td>\n",
       "      <td>Wetpaint</td>\n",
       "      <td>USA</td>\n",
       "      <td>USA</td>\n",
       "      <td>New York</td>\n",
       "    </tr>\n",
       "    <tr>\n",
       "      <th>2</th>\n",
       "      <td>50431b3a-5d24-eb44-2fce-37e0a6b03275</td>\n",
       "      <td>c324fcb6-8bae-360a-9e29-64e6cb955c80</td>\n",
       "      <td>Theresia Gouw</td>\n",
       "      <td>e1393508-30ea-8a36-3f96-dd3226033abd</td>\n",
       "      <td>NaN</td>\n",
       "      <td>NaN</td>\n",
       "      <td>True</td>\n",
       "      <td>Wetpaint</td>\n",
       "      <td>USA</td>\n",
       "      <td>USA</td>\n",
       "      <td>New York</td>\n",
       "    </tr>\n",
       "    <tr>\n",
       "      <th>3</th>\n",
       "      <td>5a136f4e-a491-6930-09a2-50f2bcccd34d</td>\n",
       "      <td>ca57f009-0bd7-ae7b-f061-84140baaa014</td>\n",
       "      <td>Alex Berg</td>\n",
       "      <td>e1393508-30ea-8a36-3f96-dd3226033abd</td>\n",
       "      <td>NaN</td>\n",
       "      <td>NaN</td>\n",
       "      <td>False</td>\n",
       "      <td>Wetpaint</td>\n",
       "      <td>USA</td>\n",
       "      <td>USA</td>\n",
       "      <td>New York</td>\n",
       "    </tr>\n",
       "    <tr>\n",
       "      <th>4</th>\n",
       "      <td>40287a0a-89d2-451f-5dd8-29db03abe180</td>\n",
       "      <td>f3d54c02-c619-edbf-e4d5-50342f6ed9c5</td>\n",
       "      <td>Chris Kollas</td>\n",
       "      <td>e1393508-30ea-8a36-3f96-dd3226033abd</td>\n",
       "      <td>NaN</td>\n",
       "      <td>NaN</td>\n",
       "      <td>False</td>\n",
       "      <td>Wetpaint</td>\n",
       "      <td>USA</td>\n",
       "      <td>USA</td>\n",
       "      <td>New York</td>\n",
       "    </tr>\n",
       "  </tbody>\n",
       "</table>\n",
       "</div>"
      ],
      "text/plain": [
       "                               job_uuid                           person_uuid  \\\n",
       "0  697b6934-fc1f-9d63-cfb2-1a10759b378e  ed13cd36-fe2b-3707-197b-0c2d56e37a71   \n",
       "1  b1de3765-442e-b556-9304-551c2a055901  5ceca97b-493c-1446-6249-5aaa33464763   \n",
       "2  50431b3a-5d24-eb44-2fce-37e0a6b03275  c324fcb6-8bae-360a-9e29-64e6cb955c80   \n",
       "3  5a136f4e-a491-6930-09a2-50f2bcccd34d  ca57f009-0bd7-ae7b-f061-84140baaa014   \n",
       "4  40287a0a-89d2-451f-5dd8-29db03abe180  f3d54c02-c619-edbf-e4d5-50342f6ed9c5   \n",
       "\n",
       "      person_name                              org_uuid  started_on  \\\n",
       "0     Ben Elowitz  e1393508-30ea-8a36-3f96-dd3226033abd  2005-10-01   \n",
       "1  Kevin Flaherty  e1393508-30ea-8a36-3f96-dd3226033abd         NaN   \n",
       "2   Theresia Gouw  e1393508-30ea-8a36-3f96-dd3226033abd         NaN   \n",
       "3       Alex Berg  e1393508-30ea-8a36-3f96-dd3226033abd         NaN   \n",
       "4    Chris Kollas  e1393508-30ea-8a36-3f96-dd3226033abd         NaN   \n",
       "\n",
       "     ended_on  is_current  org_name area country_code      city  \n",
       "0  2014-06-01       False  Wetpaint  USA          USA  New York  \n",
       "1         NaN       False  Wetpaint  USA          USA  New York  \n",
       "2         NaN        True  Wetpaint  USA          USA  New York  \n",
       "3         NaN       False  Wetpaint  USA          USA  New York  \n",
       "4         NaN       False  Wetpaint  USA          USA  New York  "
      ]
     },
     "execution_count": 7,
     "metadata": {},
     "output_type": "execute_result"
    }
   ],
   "source": [
    "df_jobs_stats = df_jobs[['uuid', 'person_uuid', 'person_name', 'org_uuid', 'started_on', 'ended_on', 'is_current']].rename(columns = {'uuid': 'job_uuid'}).merge(\n",
    "    df_organizations[['uuid', 'name', 'area', 'country_code', 'city']].rename(columns = {'uuid': 'org_uuid', 'name': 'org_name'}),\n",
    "    how = 'inner',\n",
    "    on = 'org_uuid'\n",
    ")\n",
    "\n",
    "print(df_jobs_stats.shape)\n",
    "df_jobs_stats.head()"
   ]
  },
  {
   "cell_type": "code",
   "execution_count": 8,
   "id": "04b1f7bb-2e45-415e-beb7-055f9c66efb5",
   "metadata": {
    "tags": []
   },
   "outputs": [
    {
     "data": {
      "text/plain": [
       "2806657"
      ]
     },
     "execution_count": 8,
     "metadata": {},
     "output_type": "execute_result"
    }
   ],
   "source": [
    "df_jobs_stats.shape[0]"
   ]
  },
  {
   "cell_type": "code",
   "execution_count": 9,
   "id": "12e20bdc-2193-407f-ae58-763ce5c24c91",
   "metadata": {
    "tags": []
   },
   "outputs": [
    {
     "data": {
      "text/plain": [
       "1583122"
      ]
     },
     "execution_count": 9,
     "metadata": {},
     "output_type": "execute_result"
    }
   ],
   "source": [
    "df_jobs_stats[df_jobs_stats['area'] == 'USA'].shape[0]"
   ]
  },
  {
   "cell_type": "code",
   "execution_count": 10,
   "id": "22489667-5651-4719-adc0-c64a96a32716",
   "metadata": {
    "tags": []
   },
   "outputs": [
    {
     "data": {
      "text/plain": [
       "612365"
      ]
     },
     "execution_count": 10,
     "metadata": {},
     "output_type": "execute_result"
    }
   ],
   "source": [
    "df_jobs_stats[df_jobs_stats['area'] == 'Europe'].shape[0]"
   ]
  },
  {
   "cell_type": "code",
   "execution_count": 11,
   "id": "3e146ef8-262b-418c-a7ff-f6f43bcd7ee8",
   "metadata": {
    "tags": []
   },
   "outputs": [
    {
     "data": {
      "text/plain": [
       "23881"
      ]
     },
     "execution_count": 11,
     "metadata": {},
     "output_type": "execute_result"
    }
   ],
   "source": [
    "df_jobs_stats[df_jobs_stats['country_code'] == 'ITA'].shape[0]"
   ]
  },
  {
   "cell_type": "code",
   "execution_count": 12,
   "id": "fe80948a-e48f-40ae-bf08-e9a7e337336e",
   "metadata": {
    "tags": []
   },
   "outputs": [
    {
     "data": {
      "text/plain": [
       "6697"
      ]
     },
     "execution_count": 12,
     "metadata": {},
     "output_type": "execute_result"
    }
   ],
   "source": [
    "df_jobs_stats[(df_jobs_stats['country_code'] == 'ITA') & (df_jobs_stats['city'].isin(['Milano', 'Milan']))].shape[0]"
   ]
  },
  {
   "cell_type": "code",
   "execution_count": 13,
   "id": "3d25e815-b78a-4c27-b442-d55101ace813",
   "metadata": {
    "tags": []
   },
   "outputs": [
    {
     "data": {
      "text/plain": [
       "3075"
      ]
     },
     "execution_count": 13,
     "metadata": {},
     "output_type": "execute_result"
    }
   ],
   "source": [
    "df_jobs_stats[(df_jobs_stats['country_code'] == 'ITA') & (df_jobs_stats['city'].isin(['Roma', 'Rome']))].shape[0]"
   ]
  },
  {
   "cell_type": "code",
   "execution_count": 14,
   "id": "845f9770-ff97-436e-8237-6b8831041d0d",
   "metadata": {
    "tags": []
   },
   "outputs": [
    {
     "data": {
      "text/plain": [
       "131"
      ]
     },
     "execution_count": 14,
     "metadata": {},
     "output_type": "execute_result"
    }
   ],
   "source": [
    "df_jobs_stats[(df_jobs_stats['country_code'] == 'ITA') & (df_jobs_stats['city'].isin(['Catania']))].shape[0]"
   ]
  },
  {
   "cell_type": "code",
   "execution_count": 15,
   "id": "339be4a7-a316-4f10-aa52-be35ad375fd5",
   "metadata": {
    "tags": []
   },
   "outputs": [
    {
     "data": {
      "image/png": "[encoded data removed]",
      "text/plain": [
       "<Figure size 600x450 with 1 Axes>"
      ]
     },
     "metadata": {},
     "output_type": "display_data"
    }
   ],
   "source": [
    "#df_sel = df_jobs_stats\n",
    "#df_sel = df_jobs_stats[df_jobs_stats['area'] == 'Europe']\n",
    "df_sel = df_jobs_stats[df_jobs_stats['country_code'] == 'ITA']\n",
    "\n",
    "ser_dates = pd.to_datetime(df_sel['started_on'], errors = 'coerce')\n",
    "ser_dates = ser_dates[~ser_dates.isna()]\n",
    "ser_dates = ser_dates.dt.year\n",
    "\n",
    "df_stats_dates = pd.DataFrame(ser_dates.groupby(ser_dates).count().rename('count'))\n",
    "df_stats_dates.index.names = ['date']\n",
    "df_stats_dates['cumulative count'] = df_stats_dates['count'].cumsum()\n",
    "\n",
    "data_plot = df_stats_dates.iloc[:-1]\n",
    "\n",
    "fig, ax = subplots(figsize = (6, 4.5))\n",
    "ax.plot(data_plot.index, data_plot['count'])\n",
    "ax.set_xlim(1970, 2025)\n",
    "ax.set_xlabel('year')\n",
    "ax.set_ylabel('count')\n",
    "ax.set_title('Count of employments')\n",
    "#savefig(path_images + 'count_employments.png', bbox_inches = 'tight')\n",
    "show()"
   ]
  },
  {
   "cell_type": "markdown",
   "id": "c5f3bcf0-16ce-4f32-80ac-679a2d24732b",
   "metadata": {},
   "source": [
    "## Stats of companies"
   ]
  },
  {
   "cell_type": "code",
   "execution_count": 16,
   "id": "735ce65f-8abd-45ae-8a7e-f99034242b39",
   "metadata": {},
   "outputs": [
    {
     "data": {
      "text/html": [
       "<div>\n",
       "<style scoped>\n",
       "    .dataframe tbody tr th:only-of-type {\n",
       "        vertical-align: middle;\n",
       "    }\n",
       "\n",
       "    .dataframe tbody tr th {\n",
       "        vertical-align: top;\n",
       "    }\n",
       "\n",
       "    .dataframe thead th {\n",
       "        text-align: right;\n",
       "    }\n",
       "</style>\n",
       "<table border=\"1\" class=\"dataframe\">\n",
       "  <thead>\n",
       "    <tr style=\"text-align: right;\">\n",
       "      <th></th>\n",
       "      <th>name</th>\n",
       "      <th>area</th>\n",
       "      <th>country_code</th>\n",
       "      <th>city</th>\n",
       "      <th>advisor</th>\n",
       "      <th>board_member</th>\n",
       "      <th>board_observer</th>\n",
       "      <th>employee</th>\n",
       "      <th>executive</th>\n",
       "    </tr>\n",
       "  </thead>\n",
       "  <tbody>\n",
       "    <tr>\n",
       "      <th>0</th>\n",
       "      <td>Wetpaint</td>\n",
       "      <td>USA</td>\n",
       "      <td>USA</td>\n",
       "      <td>New York</td>\n",
       "      <td>0</td>\n",
       "      <td>2</td>\n",
       "      <td>0</td>\n",
       "      <td>3</td>\n",
       "      <td>11</td>\n",
       "    </tr>\n",
       "    <tr>\n",
       "      <th>1</th>\n",
       "      <td>Zoho</td>\n",
       "      <td>USA</td>\n",
       "      <td>USA</td>\n",
       "      <td>Pleasanton</td>\n",
       "      <td>0</td>\n",
       "      <td>1</td>\n",
       "      <td>0</td>\n",
       "      <td>52</td>\n",
       "      <td>30</td>\n",
       "    </tr>\n",
       "    <tr>\n",
       "      <th>2</th>\n",
       "      <td>Digg</td>\n",
       "      <td>USA</td>\n",
       "      <td>USA</td>\n",
       "      <td>New York</td>\n",
       "      <td>0</td>\n",
       "      <td>4</td>\n",
       "      <td>0</td>\n",
       "      <td>34</td>\n",
       "      <td>34</td>\n",
       "    </tr>\n",
       "    <tr>\n",
       "      <th>3</th>\n",
       "      <td>Omidyar Network</td>\n",
       "      <td>USA</td>\n",
       "      <td>USA</td>\n",
       "      <td>Redwood City</td>\n",
       "      <td>3</td>\n",
       "      <td>1</td>\n",
       "      <td>0</td>\n",
       "      <td>53</td>\n",
       "      <td>94</td>\n",
       "    </tr>\n",
       "    <tr>\n",
       "      <th>4</th>\n",
       "      <td>Meta</td>\n",
       "      <td>USA</td>\n",
       "      <td>USA</td>\n",
       "      <td>Menlo Park</td>\n",
       "      <td>19</td>\n",
       "      <td>21</td>\n",
       "      <td>2</td>\n",
       "      <td>2047</td>\n",
       "      <td>935</td>\n",
       "    </tr>\n",
       "    <tr>\n",
       "      <th>...</th>\n",
       "      <td>...</td>\n",
       "      <td>...</td>\n",
       "      <td>...</td>\n",
       "      <td>...</td>\n",
       "      <td>...</td>\n",
       "      <td>...</td>\n",
       "      <td>...</td>\n",
       "      <td>...</td>\n",
       "      <td>...</td>\n",
       "    </tr>\n",
       "    <tr>\n",
       "      <th>995008</th>\n",
       "      <td>AiXGen</td>\n",
       "      <td>None</td>\n",
       "      <td>None</td>\n",
       "      <td>None</td>\n",
       "      <td>0</td>\n",
       "      <td>0</td>\n",
       "      <td>0</td>\n",
       "      <td>0</td>\n",
       "      <td>1</td>\n",
       "    </tr>\n",
       "    <tr>\n",
       "      <th>995009</th>\n",
       "      <td>Mokaos</td>\n",
       "      <td>None</td>\n",
       "      <td>None</td>\n",
       "      <td>None</td>\n",
       "      <td>0</td>\n",
       "      <td>0</td>\n",
       "      <td>0</td>\n",
       "      <td>0</td>\n",
       "      <td>1</td>\n",
       "    </tr>\n",
       "    <tr>\n",
       "      <th>995010</th>\n",
       "      <td>CRM Mentors</td>\n",
       "      <td>USA</td>\n",
       "      <td>USA</td>\n",
       "      <td>Chicago</td>\n",
       "      <td>0</td>\n",
       "      <td>0</td>\n",
       "      <td>0</td>\n",
       "      <td>0</td>\n",
       "      <td>1</td>\n",
       "    </tr>\n",
       "    <tr>\n",
       "      <th>995011</th>\n",
       "      <td>The Bagel Authority</td>\n",
       "      <td>USA</td>\n",
       "      <td>USA</td>\n",
       "      <td>Spokane</td>\n",
       "      <td>0</td>\n",
       "      <td>0</td>\n",
       "      <td>0</td>\n",
       "      <td>0</td>\n",
       "      <td>1</td>\n",
       "    </tr>\n",
       "    <tr>\n",
       "      <th>995012</th>\n",
       "      <td>Homegrown</td>\n",
       "      <td>USA</td>\n",
       "      <td>USA</td>\n",
       "      <td>Atlanta</td>\n",
       "      <td>0</td>\n",
       "      <td>0</td>\n",
       "      <td>0</td>\n",
       "      <td>0</td>\n",
       "      <td>1</td>\n",
       "    </tr>\n",
       "  </tbody>\n",
       "</table>\n",
       "<p>995013 rows × 9 columns</p>\n",
       "</div>"
      ],
      "text/plain": [
       "                       name  area country_code          city  advisor  \\\n",
       "0                  Wetpaint   USA          USA      New York        0   \n",
       "1                      Zoho   USA          USA    Pleasanton        0   \n",
       "2                      Digg   USA          USA      New York        0   \n",
       "3           Omidyar Network   USA          USA  Redwood City        3   \n",
       "4                      Meta   USA          USA    Menlo Park       19   \n",
       "...                     ...   ...          ...           ...      ...   \n",
       "995008               AiXGen  None         None          None        0   \n",
       "995009               Mokaos  None         None          None        0   \n",
       "995010          CRM Mentors   USA          USA       Chicago        0   \n",
       "995011  The Bagel Authority   USA          USA       Spokane        0   \n",
       "995012            Homegrown   USA          USA       Atlanta        0   \n",
       "\n",
       "        board_member  board_observer  employee  executive  \n",
       "0                  2               0         3         11  \n",
       "1                  1               0        52         30  \n",
       "2                  4               0        34         34  \n",
       "3                  1               0        53         94  \n",
       "4                 21               2      2047        935  \n",
       "...              ...             ...       ...        ...  \n",
       "995008             0               0         0          1  \n",
       "995009             0               0         0          1  \n",
       "995010             0               0         0          1  \n",
       "995011             0               0         0          1  \n",
       "995012             0               0         0          1  \n",
       "\n",
       "[995013 rows x 9 columns]"
      ]
     },
     "execution_count": 16,
     "metadata": {},
     "output_type": "execute_result"
    }
   ],
   "source": [
    "df_stats_companies = (\n",
    "    df_jobs.groupby('org_uuid', as_index = False).value_counts(['job_type'])   # group by id of company and count the occurrences of each 'job_type' in separate rows\n",
    "    .pivot_table(index = 'org_uuid', columns = 'job_type', values = 'count', aggfunc = 'sum', fill_value = 0)   # turn the different values of 'job_type' into separate columns\n",
    ")\n",
    "\n",
    "cols_fingerprint = df_stats_companies.columns.values.tolist()\n",
    "\n",
    "df_stats_companies = df_organizations[['uuid', 'name', 'area', 'country_code', 'city']].merge(   # add info for each company\n",
    "    df_stats_companies,\n",
    "    how = 'inner',\n",
    "    left_on = 'uuid',\n",
    "    right_on = 'org_uuid'\n",
    ").drop('uuid', axis = 1)\n",
    "\n",
    "df_stats_companies['country_code'] = df_stats_companies['country_code'].apply(lambda x: x if type(x) == str else None)\n",
    "df_stats_companies['city'] = df_stats_companies['city'].apply(lambda x: unidecode(x) if type(x) == str else None)\n",
    "\n",
    "df_stats_companies"
   ]
  },
  {
   "cell_type": "code",
   "execution_count": 17,
   "id": "a536b55b-4420-4a8d-a969-04e64d2e2bd2",
   "metadata": {
    "tags": []
   },
   "outputs": [
    {
     "data": {
      "text/plain": [
       "995013"
      ]
     },
     "execution_count": 17,
     "metadata": {},
     "output_type": "execute_result"
    }
   ],
   "source": [
    "df_stats_companies.shape[0]"
   ]
  },
  {
   "cell_type": "code",
   "execution_count": 18,
   "id": "a636a0a3-aa6a-4003-a1b3-eb0d03bd33bb",
   "metadata": {
    "tags": []
   },
   "outputs": [
    {
     "data": {
      "text/plain": [
       "474268"
      ]
     },
     "execution_count": 18,
     "metadata": {},
     "output_type": "execute_result"
    }
   ],
   "source": [
    "df_stats_companies[df_stats_companies['area'] == 'USA'].shape[0]"
   ]
  },
  {
   "cell_type": "code",
   "execution_count": 19,
   "id": "62c5c2fe-f65f-465e-ab9c-f3f6f2010c52",
   "metadata": {
    "tags": []
   },
   "outputs": [
    {
     "data": {
      "text/plain": [
       "230508"
      ]
     },
     "execution_count": 19,
     "metadata": {},
     "output_type": "execute_result"
    }
   ],
   "source": [
    "df_stats_companies[df_stats_companies['area'] == 'Europe'].shape[0]"
   ]
  },
  {
   "cell_type": "code",
   "execution_count": 20,
   "id": "f2c3f8bf-d459-4f25-8743-fdd4d7058e6b",
   "metadata": {
    "tags": []
   },
   "outputs": [
    {
     "data": {
      "text/plain": [
       "12063"
      ]
     },
     "execution_count": 20,
     "metadata": {},
     "output_type": "execute_result"
    }
   ],
   "source": [
    "df_stats_companies[df_stats_companies['country_code'] == 'ITA'].shape[0]"
   ]
  },
  {
   "cell_type": "code",
   "execution_count": 21,
   "id": "fdc069e3-33d9-4d35-9cbe-3e1941056597",
   "metadata": {
    "tags": []
   },
   "outputs": [
    {
     "data": {
      "text/plain": [
       "2866"
      ]
     },
     "execution_count": 21,
     "metadata": {},
     "output_type": "execute_result"
    }
   ],
   "source": [
    "df_stats_companies[(df_stats_companies['country_code'] == 'ITA') & (df_stats_companies['city'].isin(['Milano', 'Milan']))].shape[0]"
   ]
  },
  {
   "cell_type": "code",
   "execution_count": 22,
   "id": "22ee79cd-2b5d-4093-a374-68fc738b8282",
   "metadata": {
    "tags": []
   },
   "outputs": [
    {
     "data": {
      "text/plain": [
       "1275"
      ]
     },
     "execution_count": 22,
     "metadata": {},
     "output_type": "execute_result"
    }
   ],
   "source": [
    "df_stats_companies[(df_stats_companies['country_code'] == 'ITA') & (df_stats_companies['city'].isin(['Roma', 'Rome']))].shape[0]"
   ]
  },
  {
   "cell_type": "code",
   "execution_count": 23,
   "id": "a78f21f3-1005-4a34-87d6-1a4102aeb50a",
   "metadata": {
    "tags": []
   },
   "outputs": [
    {
     "data": {
      "text/plain": [
       "71"
      ]
     },
     "execution_count": 23,
     "metadata": {},
     "output_type": "execute_result"
    }
   ],
   "source": [
    "df_stats_companies[(df_stats_companies['country_code'] == 'ITA') & (df_stats_companies['city'].isin(['Catania']))].shape[0]"
   ]
  },
  {
   "cell_type": "markdown",
   "id": "bfb0817d-f25b-47d0-b249-63a0e7fa085a",
   "metadata": {},
   "source": [
    "## Stats of cites"
   ]
  },
  {
   "cell_type": "code",
   "execution_count": 24,
   "id": "4c01db14-bc90-4cfe-819a-dac418856e3c",
   "metadata": {},
   "outputs": [
    {
     "data": {
      "text/html": [
       "<div>\n",
       "<style scoped>\n",
       "    .dataframe tbody tr th:only-of-type {\n",
       "        vertical-align: middle;\n",
       "    }\n",
       "\n",
       "    .dataframe tbody tr th {\n",
       "        vertical-align: top;\n",
       "    }\n",
       "\n",
       "    .dataframe thead th {\n",
       "        text-align: right;\n",
       "    }\n",
       "</style>\n",
       "<table border=\"1\" class=\"dataframe\">\n",
       "  <thead>\n",
       "    <tr style=\"text-align: right;\">\n",
       "      <th></th>\n",
       "      <th>city</th>\n",
       "      <th>country_code</th>\n",
       "      <th>area</th>\n",
       "      <th>companies</th>\n",
       "      <th>advisor</th>\n",
       "      <th>board_member</th>\n",
       "      <th>board_observer</th>\n",
       "      <th>employee</th>\n",
       "      <th>executive</th>\n",
       "    </tr>\n",
       "  </thead>\n",
       "  <tbody>\n",
       "    <tr>\n",
       "      <th>0</th>\n",
       "      <td>'s-hertogenbosch</td>\n",
       "      <td>NLD</td>\n",
       "      <td>Europe</td>\n",
       "      <td>114</td>\n",
       "      <td>2</td>\n",
       "      <td>7</td>\n",
       "      <td>0</td>\n",
       "      <td>32</td>\n",
       "      <td>143</td>\n",
       "    </tr>\n",
       "    <tr>\n",
       "      <th>1</th>\n",
       "      <td>Aachen</td>\n",
       "      <td>DEU</td>\n",
       "      <td>Europe</td>\n",
       "      <td>164</td>\n",
       "      <td>8</td>\n",
       "      <td>32</td>\n",
       "      <td>2</td>\n",
       "      <td>91</td>\n",
       "      <td>306</td>\n",
       "    </tr>\n",
       "    <tr>\n",
       "      <th>2</th>\n",
       "      <td>Aalborg</td>\n",
       "      <td>DNK</td>\n",
       "      <td>Europe</td>\n",
       "      <td>118</td>\n",
       "      <td>2</td>\n",
       "      <td>30</td>\n",
       "      <td>1</td>\n",
       "      <td>56</td>\n",
       "      <td>187</td>\n",
       "    </tr>\n",
       "    <tr>\n",
       "      <th>3</th>\n",
       "      <td>Aarhus</td>\n",
       "      <td>DNK</td>\n",
       "      <td>Europe</td>\n",
       "      <td>319</td>\n",
       "      <td>15</td>\n",
       "      <td>49</td>\n",
       "      <td>3</td>\n",
       "      <td>157</td>\n",
       "      <td>536</td>\n",
       "    </tr>\n",
       "    <tr>\n",
       "      <th>4</th>\n",
       "      <td>Aberdeen</td>\n",
       "      <td>GBR</td>\n",
       "      <td>Europe</td>\n",
       "      <td>287</td>\n",
       "      <td>10</td>\n",
       "      <td>41</td>\n",
       "      <td>0</td>\n",
       "      <td>124</td>\n",
       "      <td>437</td>\n",
       "    </tr>\n",
       "    <tr>\n",
       "      <th>...</th>\n",
       "      <td>...</td>\n",
       "      <td>...</td>\n",
       "      <td>...</td>\n",
       "      <td>...</td>\n",
       "      <td>...</td>\n",
       "      <td>...</td>\n",
       "      <td>...</td>\n",
       "      <td>...</td>\n",
       "      <td>...</td>\n",
       "    </tr>\n",
       "    <tr>\n",
       "      <th>895</th>\n",
       "      <td>Youngstown</td>\n",
       "      <td>USA</td>\n",
       "      <td>USA</td>\n",
       "      <td>110</td>\n",
       "      <td>0</td>\n",
       "      <td>8</td>\n",
       "      <td>0</td>\n",
       "      <td>20</td>\n",
       "      <td>166</td>\n",
       "    </tr>\n",
       "    <tr>\n",
       "      <th>896</th>\n",
       "      <td>Zagreb</td>\n",
       "      <td>HRV</td>\n",
       "      <td>Europe</td>\n",
       "      <td>359</td>\n",
       "      <td>27</td>\n",
       "      <td>38</td>\n",
       "      <td>0</td>\n",
       "      <td>139</td>\n",
       "      <td>505</td>\n",
       "    </tr>\n",
       "    <tr>\n",
       "      <th>897</th>\n",
       "      <td>Zaragoza</td>\n",
       "      <td>ESP</td>\n",
       "      <td>Europe</td>\n",
       "      <td>142</td>\n",
       "      <td>3</td>\n",
       "      <td>8</td>\n",
       "      <td>0</td>\n",
       "      <td>57</td>\n",
       "      <td>186</td>\n",
       "    </tr>\n",
       "    <tr>\n",
       "      <th>898</th>\n",
       "      <td>Zug</td>\n",
       "      <td>CHE</td>\n",
       "      <td>Europe</td>\n",
       "      <td>641</td>\n",
       "      <td>115</td>\n",
       "      <td>196</td>\n",
       "      <td>6</td>\n",
       "      <td>384</td>\n",
       "      <td>1395</td>\n",
       "    </tr>\n",
       "    <tr>\n",
       "      <th>899</th>\n",
       "      <td>Zurich</td>\n",
       "      <td>CHE</td>\n",
       "      <td>Europe</td>\n",
       "      <td>2062</td>\n",
       "      <td>296</td>\n",
       "      <td>878</td>\n",
       "      <td>28</td>\n",
       "      <td>2382</td>\n",
       "      <td>5266</td>\n",
       "    </tr>\n",
       "  </tbody>\n",
       "</table>\n",
       "<p>900 rows × 9 columns</p>\n",
       "</div>"
      ],
      "text/plain": [
       "                 city country_code    area  companies  advisor  board_member  \\\n",
       "0    's-hertogenbosch          NLD  Europe        114        2             7   \n",
       "1              Aachen          DEU  Europe        164        8            32   \n",
       "2             Aalborg          DNK  Europe        118        2            30   \n",
       "3              Aarhus          DNK  Europe        319       15            49   \n",
       "4            Aberdeen          GBR  Europe        287       10            41   \n",
       "..                ...          ...     ...        ...      ...           ...   \n",
       "895        Youngstown          USA     USA        110        0             8   \n",
       "896            Zagreb          HRV  Europe        359       27            38   \n",
       "897          Zaragoza          ESP  Europe        142        3             8   \n",
       "898               Zug          CHE  Europe        641      115           196   \n",
       "899            Zurich          CHE  Europe       2062      296           878   \n",
       "\n",
       "     board_observer  employee  executive  \n",
       "0                 0        32        143  \n",
       "1                 2        91        306  \n",
       "2                 1        56        187  \n",
       "3                 3       157        536  \n",
       "4                 0       124        437  \n",
       "..              ...       ...        ...  \n",
       "895               0        20        166  \n",
       "896               0       139        505  \n",
       "897               0        57        186  \n",
       "898               6       384       1395  \n",
       "899              28      2382       5266  \n",
       "\n",
       "[900 rows x 9 columns]"
      ]
     },
     "execution_count": 24,
     "metadata": {},
     "output_type": "execute_result"
    }
   ],
   "source": [
    "n_min_of_companies = 100\n",
    "\n",
    "cols_num = df_stats_companies.select_dtypes(include = 'number').columns.tolist()\n",
    "\n",
    "df_stats_cities = (\n",
    "    df_stats_companies\n",
    "    .groupby(['city', 'country_code', 'area'])\n",
    "    .agg({'name': 'count'} | {c: 'sum' for c in cols_num})\n",
    "    .rename(columns = {'name': 'companies'})\n",
    ")\n",
    "\n",
    "df_stats_cities = df_stats_cities[df_stats_cities['companies'] > n_min_of_companies].reset_index()\n",
    "df_stats_cities"
   ]
  },
  {
   "cell_type": "code",
   "execution_count": 25,
   "id": "93b4b3ad-3bcd-4364-8523-0670319762a1",
   "metadata": {
    "tags": []
   },
   "outputs": [
    {
     "data": {
      "text/html": [
       "<div>\n",
       "<style scoped>\n",
       "    .dataframe tbody tr th:only-of-type {\n",
       "        vertical-align: middle;\n",
       "    }\n",
       "\n",
       "    .dataframe tbody tr th {\n",
       "        vertical-align: top;\n",
       "    }\n",
       "\n",
       "    .dataframe thead th {\n",
       "        text-align: right;\n",
       "    }\n",
       "</style>\n",
       "<table border=\"1\" class=\"dataframe\">\n",
       "  <thead>\n",
       "    <tr style=\"text-align: right;\">\n",
       "      <th></th>\n",
       "      <th>city</th>\n",
       "      <th>country_code</th>\n",
       "      <th>area</th>\n",
       "      <th>companies</th>\n",
       "      <th>advisor</th>\n",
       "      <th>board_member</th>\n",
       "      <th>board_observer</th>\n",
       "      <th>employee</th>\n",
       "      <th>executive</th>\n",
       "    </tr>\n",
       "  </thead>\n",
       "  <tbody>\n",
       "    <tr>\n",
       "      <th>689</th>\n",
       "      <td>Rome</td>\n",
       "      <td>ITA</td>\n",
       "      <td>Europe</td>\n",
       "      <td>807</td>\n",
       "      <td>48</td>\n",
       "      <td>139</td>\n",
       "      <td>5</td>\n",
       "      <td>461</td>\n",
       "      <td>1297</td>\n",
       "    </tr>\n",
       "  </tbody>\n",
       "</table>\n",
       "</div>"
      ],
      "text/plain": [
       "     city country_code    area  companies  advisor  board_member  \\\n",
       "689  Rome          ITA  Europe        807       48           139   \n",
       "\n",
       "     board_observer  employee  executive  \n",
       "689               5       461       1297  "
      ]
     },
     "execution_count": 25,
     "metadata": {},
     "output_type": "execute_result"
    }
   ],
   "source": [
    "df_stats_cities[df_stats_cities['city'] == 'Rome']"
   ]
  },
  {
   "cell_type": "code",
   "execution_count": 26,
   "id": "f4f05f1d-edfc-4188-95f9-de9fee64b567",
   "metadata": {
    "tags": []
   },
   "outputs": [
    {
     "data": {
      "text/html": [
       "<div>\n",
       "<style scoped>\n",
       "    .dataframe tbody tr th:only-of-type {\n",
       "        vertical-align: middle;\n",
       "    }\n",
       "\n",
       "    .dataframe tbody tr th {\n",
       "        vertical-align: top;\n",
       "    }\n",
       "\n",
       "    .dataframe thead th {\n",
       "        text-align: right;\n",
       "    }\n",
       "</style>\n",
       "<table border=\"1\" class=\"dataframe\">\n",
       "  <thead>\n",
       "    <tr style=\"text-align: right;\">\n",
       "      <th></th>\n",
       "      <th>city</th>\n",
       "      <th>country_code</th>\n",
       "      <th>area</th>\n",
       "      <th>companies</th>\n",
       "      <th>advisor</th>\n",
       "      <th>board_member</th>\n",
       "      <th>board_observer</th>\n",
       "      <th>employee</th>\n",
       "      <th>executive</th>\n",
       "    </tr>\n",
       "  </thead>\n",
       "  <tbody>\n",
       "    <tr>\n",
       "      <th>689</th>\n",
       "      <td>Rome</td>\n",
       "      <td>ITA</td>\n",
       "      <td>Europe</td>\n",
       "      <td>807</td>\n",
       "      <td>48</td>\n",
       "      <td>139</td>\n",
       "      <td>5</td>\n",
       "      <td>461</td>\n",
       "      <td>1297</td>\n",
       "    </tr>\n",
       "  </tbody>\n",
       "</table>\n",
       "</div>"
      ],
      "text/plain": [
       "     city country_code    area  companies  advisor  board_member  \\\n",
       "689  Rome          ITA  Europe        807       48           139   \n",
       "\n",
       "     board_observer  employee  executive  \n",
       "689               5       461       1297  "
      ]
     },
     "execution_count": 26,
     "metadata": {},
     "output_type": "execute_result"
    }
   ],
   "source": [
    "df_stats_cities[df_stats_cities['city'] == 'Rome']"
   ]
  },
  {
   "cell_type": "code",
   "execution_count": 28,
   "id": "61195ef1-11c2-40e1-89f3-6e74c75ebe92",
   "metadata": {
    "tags": []
   },
   "outputs": [
    {
     "data": {
      "text/html": [
       "<div>\n",
       "<style scoped>\n",
       "    .dataframe tbody tr th:only-of-type {\n",
       "        vertical-align: middle;\n",
       "    }\n",
       "\n",
       "    .dataframe tbody tr th {\n",
       "        vertical-align: top;\n",
       "    }\n",
       "\n",
       "    .dataframe thead th {\n",
       "        text-align: right;\n",
       "    }\n",
       "</style>\n",
       "<table border=\"1\" class=\"dataframe\">\n",
       "  <thead>\n",
       "    <tr style=\"text-align: right;\">\n",
       "      <th></th>\n",
       "      <th>city</th>\n",
       "      <th>country_code</th>\n",
       "      <th>area</th>\n",
       "      <th>companies</th>\n",
       "      <th>advisor</th>\n",
       "      <th>board_member</th>\n",
       "      <th>board_observer</th>\n",
       "      <th>employee</th>\n",
       "      <th>executive</th>\n",
       "    </tr>\n",
       "  </thead>\n",
       "  <tbody>\n",
       "  </tbody>\n",
       "</table>\n",
       "</div>"
      ],
      "text/plain": [
       "Empty DataFrame\n",
       "Columns: [city, country_code, area, companies, advisor, board_member, board_observer, employee, executive]\n",
       "Index: []"
      ]
     },
     "execution_count": 28,
     "metadata": {},
     "output_type": "execute_result"
    }
   ],
   "source": [
    "df_stats_cities[df_stats_cities['city'] == 'Catania']"
   ]
  },
  {
   "cell_type": "code",
   "execution_count": null,
   "id": "66966157-44c1-4dce-bac4-53184f4e7b32",
   "metadata": {},
   "outputs": [],
   "source": []
  },
  {
   "cell_type": "code",
   "execution_count": 29,
   "id": "18158860-b2d2-4fa0-a3ab-a7613392b48b",
   "metadata": {
    "tags": []
   },
   "outputs": [
    {
     "data": {
      "text/html": [
       "<div>\n",
       "<style scoped>\n",
       "    .dataframe tbody tr th:only-of-type {\n",
       "        vertical-align: middle;\n",
       "    }\n",
       "\n",
       "    .dataframe tbody tr th {\n",
       "        vertical-align: top;\n",
       "    }\n",
       "\n",
       "    .dataframe thead th {\n",
       "        text-align: right;\n",
       "    }\n",
       "</style>\n",
       "<table border=\"1\" class=\"dataframe\">\n",
       "  <thead>\n",
       "    <tr style=\"text-align: right;\">\n",
       "      <th></th>\n",
       "      <th>cities</th>\n",
       "      <th>companies</th>\n",
       "    </tr>\n",
       "    <tr>\n",
       "      <th>area</th>\n",
       "      <th></th>\n",
       "      <th></th>\n",
       "    </tr>\n",
       "  </thead>\n",
       "  <tbody>\n",
       "    <tr>\n",
       "      <th>Europe</th>\n",
       "      <td>256</td>\n",
       "      <td>151358</td>\n",
       "    </tr>\n",
       "    <tr>\n",
       "      <th>USA</th>\n",
       "      <td>644</td>\n",
       "      <td>377168</td>\n",
       "    </tr>\n",
       "  </tbody>\n",
       "</table>\n",
       "</div>"
      ],
      "text/plain": [
       "        cities  companies\n",
       "area                     \n",
       "Europe     256     151358\n",
       "USA        644     377168"
      ]
     },
     "execution_count": 29,
     "metadata": {},
     "output_type": "execute_result"
    }
   ],
   "source": [
    "df_stats_cities.groupby('area').agg({'city': 'count', 'companies': 'sum'}).rename(columns = {'city': 'cities'})"
   ]
  },
  {
   "cell_type": "code",
   "execution_count": 129,
   "id": "c4891644-b0b1-4bc0-ac16-c011edbe80bf",
   "metadata": {},
   "outputs": [],
   "source": [
    "#pd.isnull(df_stats_cities['city']).values.sum()\n",
    "#pd.isnull(df_stats_cities['country_code']).values.sum()"
   ]
  },
  {
   "cell_type": "markdown",
   "id": "626ff21a-b898-4514-8b74-74915bfddc7f",
   "metadata": {},
   "source": [
    "### Clustering"
   ]
  },
  {
   "cell_type": "code",
   "execution_count": 30,
   "id": "66b065f1-c49d-4d7c-868b-8fe006f3bae6",
   "metadata": {
    "tags": []
   },
   "outputs": [
    {
     "data": {
      "image/png": "[encoded data removed]",
      "text/plain": [
       "<Figure size 1000x1000 with 5 Axes>"
      ]
     },
     "metadata": {},
     "output_type": "display_data"
    }
   ],
   "source": [
    "features = df_stats_cities[cols_fingerprint].div(df_stats_cities[cols_fingerprint].sum(axis = 1), axis = 0)\n",
    "\n",
    "preprocess = Pipeline([\n",
    "    ('scaler', StandardScaler()), # Scaling the data so that all the features become comparable\n",
    "    #('normalizer', Normalizer()) # Normalizing the data so that each sample has unit norm\n",
    "])\n",
    "\n",
    "#features_processed = features.copy()\n",
    "features_processed = pd.DataFrame(preprocess.fit_transform(features), columns = features.columns)\n",
    "\n",
    "fig, axs = subplots(nrows = 5, ncols = 1, figsize = (10, 10), sharex = True, tight_layout = True)\n",
    "for i in range(features_processed.shape[1]):\n",
    "    ax = axs[i]\n",
    "    ax.hist(features_processed.iloc[:, i], bins = 'doane')\n",
    "    ax.set_title(features_processed.columns[i])\n",
    "fig.suptitle('Distribution of features among cities', size = 16)\n",
    "savefig('preprocessed features.png', bbox_inches = 'tight')\n",
    "show()"
   ]
  },
  {
   "cell_type": "code",
   "execution_count": 31,
   "id": "eb4ab867-24e0-43f0-9e62-a7a17ac4a8ff",
   "metadata": {},
   "outputs": [
    {
     "data": {
      "image/png": "[encoded data removed]",
      "text/plain": [
       "<Figure size 800x600 with 1 Axes>"
      ]
     },
     "metadata": {},
     "output_type": "display_data"
    }
   ],
   "source": [
    "metric = 'euclidean'; linkage = 'ward'\n",
    "#metric = 'euclidean'; linkage = 'average'\n",
    "#metric = 'cosine'; linkage = 'average'\n",
    "\n",
    "list_k = []\n",
    "list_scores = []\n",
    "\n",
    "for k in range(2, 10):\n",
    "    labels = AgglomerativeClustering(n_clusters = k, metric = metric, linkage = linkage).fit_predict(features_processed)\n",
    "    list_k.append(k)\n",
    "    list_scores.append(silhouette_score(X = features_processed, labels = labels, metric = metric))\n",
    "\n",
    "###\n",
    "\n",
    "rcParams['font.size'] = 14\n",
    "\n",
    "fig, ax = subplots(figsize = (8, 6))\n",
    "ax.plot(list_k, list_scores)\n",
    "ax.scatter(list_k, list_scores)\n",
    "#ax.set_xlim(0, 10)\n",
    "#ax.set_ylim(-1, 1)\n",
    "ax.set_xlabel('Number of clusters')\n",
    "ax.set_ylabel('Score')\n",
    "ax.set_title('Silhouette score')\n",
    "savefig('score.png', bbox_inches = 'tight')\n",
    "show()"
   ]
  },
  {
   "cell_type": "code",
   "execution_count": 32,
   "id": "36307518-e498-485a-8305-0843ffb8eb17",
   "metadata": {},
   "outputs": [
    {
     "data": {
      "image/png": "[encoded data removed]",
      "text/plain": [
       "<Figure size 800x600 with 1 Axes>"
      ]
     },
     "metadata": {},
     "output_type": "display_data"
    }
   ],
   "source": [
    "n_clusters = 4\n",
    "\n",
    "model = AgglomerativeClustering(n_clusters = n_clusters, metric = metric, linkage = linkage, compute_distances = True)\n",
    "model = model.fit(features_processed)\n",
    "\n",
    "threshold_separation = 24\n",
    "\n",
    "fig, ax = subplots(figsize = (8, 6))\n",
    "plot_dendrogram(model, p = 5, truncate_mode = 'level', color_threshold = threshold_separation)\n",
    "ax.axhline(y = threshold_separation, color = 'grey', linestyle = '--')\n",
    "ax.set_xlabel('Number of points in node (or index of point if no parenthesis).')\n",
    "ax.set_title('Hierarchical clustering: dendrogram')\n",
    "savefig('dendrogram.png', bbox_inches = 'tight')\n",
    "show()"
   ]
  },
  {
   "cell_type": "code",
   "execution_count": 33,
   "id": "16e101f4-a23b-470c-9011-b633903d4543",
   "metadata": {},
   "outputs": [
    {
     "data": {
      "text/html": [
       "<div>\n",
       "<style scoped>\n",
       "    .dataframe tbody tr th:only-of-type {\n",
       "        vertical-align: middle;\n",
       "    }\n",
       "\n",
       "    .dataframe tbody tr th {\n",
       "        vertical-align: top;\n",
       "    }\n",
       "\n",
       "    .dataframe thead th {\n",
       "        text-align: right;\n",
       "    }\n",
       "</style>\n",
       "<table border=\"1\" class=\"dataframe\">\n",
       "  <thead>\n",
       "    <tr style=\"text-align: right;\">\n",
       "      <th></th>\n",
       "      <th>cities</th>\n",
       "      <th>companies</th>\n",
       "      <th>Europe</th>\n",
       "      <th>USA</th>\n",
       "      <th>advisor</th>\n",
       "      <th>board_member</th>\n",
       "      <th>board_observer</th>\n",
       "      <th>employee</th>\n",
       "      <th>executive</th>\n",
       "    </tr>\n",
       "    <tr>\n",
       "      <th>cluster</th>\n",
       "      <th></th>\n",
       "      <th></th>\n",
       "      <th></th>\n",
       "      <th></th>\n",
       "      <th></th>\n",
       "      <th></th>\n",
       "      <th></th>\n",
       "      <th></th>\n",
       "      <th></th>\n",
       "    </tr>\n",
       "  </thead>\n",
       "  <tbody>\n",
       "    <tr>\n",
       "      <th>0</th>\n",
       "      <td>319</td>\n",
       "      <td>312396</td>\n",
       "      <td>0.347645</td>\n",
       "      <td>0.652355</td>\n",
       "      <td>0.033283</td>\n",
       "      <td>0.084309</td>\n",
       "      <td>0.003460</td>\n",
       "      <td>0.264402</td>\n",
       "      <td>0.614547</td>\n",
       "    </tr>\n",
       "    <tr>\n",
       "      <th>1</th>\n",
       "      <td>480</td>\n",
       "      <td>140998</td>\n",
       "      <td>0.275493</td>\n",
       "      <td>0.724507</td>\n",
       "      <td>0.019429</td>\n",
       "      <td>0.064233</td>\n",
       "      <td>0.002099</td>\n",
       "      <td>0.172981</td>\n",
       "      <td>0.741258</td>\n",
       "    </tr>\n",
       "    <tr>\n",
       "      <th>2</th>\n",
       "      <td>55</td>\n",
       "      <td>19267</td>\n",
       "      <td>0.120880</td>\n",
       "      <td>0.879120</td>\n",
       "      <td>0.034476</td>\n",
       "      <td>0.121383</td>\n",
       "      <td>0.009475</td>\n",
       "      <td>0.217947</td>\n",
       "      <td>0.616719</td>\n",
       "    </tr>\n",
       "    <tr>\n",
       "      <th>3</th>\n",
       "      <td>46</td>\n",
       "      <td>55865</td>\n",
       "      <td>0.028318</td>\n",
       "      <td>0.971682</td>\n",
       "      <td>0.066015</td>\n",
       "      <td>0.079788</td>\n",
       "      <td>0.005522</td>\n",
       "      <td>0.256675</td>\n",
       "      <td>0.592000</td>\n",
       "    </tr>\n",
       "  </tbody>\n",
       "</table>\n",
       "</div>"
      ],
      "text/plain": [
       "         cities  companies    Europe       USA   advisor  board_member  \\\n",
       "cluster                                                                  \n",
       "0           319     312396  0.347645  0.652355  0.033283      0.084309   \n",
       "1           480     140998  0.275493  0.724507  0.019429      0.064233   \n",
       "2            55      19267  0.120880  0.879120  0.034476      0.121383   \n",
       "3            46      55865  0.028318  0.971682  0.066015      0.079788   \n",
       "\n",
       "         board_observer  employee  executive  \n",
       "cluster                                       \n",
       "0              0.003460  0.264402   0.614547  \n",
       "1              0.002099  0.172981   0.741258  \n",
       "2              0.009475  0.217947   0.616719  \n",
       "3              0.005522  0.256675   0.592000  "
      ]
     },
     "execution_count": 33,
     "metadata": {},
     "output_type": "execute_result"
    }
   ],
   "source": [
    "#values = 1   # per contare il numero di città in USA/Europe\n",
    "values = df_stats_cities['companies']   # per contare il numero di compagnie in USA/Europe\n",
    "\n",
    "stats_clusters = df_stats_cities.assign(\n",
    "    Europe = values * (df_stats_cities['area'] == 'Europe'),\n",
    "    USA = values * (df_stats_cities['area'] == 'USA')\n",
    ").assign(cluster = model.labels_, cities = 1).groupby('cluster')[['cities', 'companies'] + cols_area + cols_fingerprint].sum()\n",
    "\n",
    "for cols in [cols_area, cols_fingerprint]:\n",
    "    stats_clusters[cols] = stats_clusters[cols].div(stats_clusters[cols].sum(axis = 1), axis = 0)\n",
    "\n",
    "stats_clusters.sort_values(by = cols_area[0], axis = 0, ascending = False, inplace = True)   # sort by fraction of first area\n",
    "stats_clusters.index = pd.Index(list(range(n_clusters)), name = 'cluster')   # reset index\n",
    "\n",
    "stats_clusters"
   ]
  },
  {
   "cell_type": "code",
   "execution_count": 34,
   "id": "43957cac-d6f2-4f40-86f2-c3bc350972e6",
   "metadata": {
    "tags": []
   },
   "outputs": [
    {
     "data": {
      "image/png": "[encoded data removed]",
      "text/plain": [
       "<Figure size 1200x800 with 7 Axes>"
      ]
     },
     "metadata": {},
     "output_type": "display_data"
    }
   ],
   "source": [
    "fig = figure(figsize = (12, 8))\n",
    "gs = GridSpec(\n",
    "    nrows = 2, ncols = n_clusters + 2, figure = fig,\n",
    "    hspace = 0.3, height_ratios = [3, 2],\n",
    "    width_ratios = [0.01] + [1] * n_clusters + [0.01]   # 2 extra columns to align pie charts with bar charts\n",
    ")\n",
    "\n",
    "ax_bar = fig.add_subplot(gs[0, :])\n",
    "axs_pie = []\n",
    "for i in range(n_clusters + 2):\n",
    "    axs_pie.append(fig.add_subplot(gs[1, i]))\n",
    "\n",
    "###\n",
    "\n",
    "x_base = np.arange(n_clusters)\n",
    "n_features = len(cols_fingerprint)\n",
    "width = 0.75 / n_features\n",
    "x_labels = x_base + width * (n_features - 1) / 2\n",
    "\n",
    "labels = [\n",
    "    'Cluster ' + str(i + 1)\n",
    "    + '\\n(' + str(stats_clusters.loc[i, 'cities']) + ' cities)'\n",
    "#    + '\\n(' + str(stats_clusters.loc[i, 'companies']) + ' companies)'\n",
    "    for i in range(n_clusters)\n",
    "]\n",
    "\n",
    "for i in range(n_features):\n",
    "    ax_bar.bar(x_base + i * width, stats_clusters[cols_fingerprint[i]], width = width, label = cols_fingerprint[i], zorder = 2)\n",
    "\n",
    "ax_bar.spines[['left', 'right', 'top']].set_visible(False)\n",
    "ax_bar.grid(axis = 'y')\n",
    "for tick in ax_bar.yaxis.get_major_ticks():\n",
    "    tick.tick1line.set_visible(False)\n",
    "    tick.tick2line.set_visible(False)\n",
    "ax_bar.set_xticks(x_labels, labels)\n",
    "ax_bar.legend(loc = 'center left', bbox_to_anchor = (1, 0.5), frameon = False)\n",
    "ax_bar.set_title(' / '.join(cols_area) + ' - Fingerprints of clusters')\n",
    "\n",
    "###\n",
    "\n",
    "for i in [0, -1]:\n",
    "    axs_pie[i].axis('off')\n",
    "\n",
    "for i in range(n_clusters):\n",
    "    ax = axs_pie[i + 1]\n",
    "    wedges, texts, autotexts = ax.pie(\n",
    "        stats_clusters.loc[i, cols_area].values,\n",
    "        explode = [0.03] * len(cols_area),\n",
    "        colors = ['grey', 'lightgrey'],\n",
    "        startangle = 90,\n",
    "        counterclock = False,\n",
    "        autopct = lambda x: f'{x:.0f}%',\n",
    "        textprops = dict(\n",
    "            color = 'white', size = 'large', weight = 'bold',\n",
    "            path_effects = [withStroke(linewidth = 3, foreground = 'black')]\n",
    "        )\n",
    "    )\n",
    "    #ax.set_title('Cluster ' + str(i + 1))\n",
    "axs_pie[-1].legend(wedges, cols_area, loc = 'center left', bbox_to_anchor = (1, 0.5), frameon = False)\n",
    "\n",
    "###\n",
    "\n",
    "savefig('a.png', bbox_inches = 'tight')\n",
    "show()"
   ]
  },
  {
   "cell_type": "code",
   "execution_count": null,
   "id": "867c33d9-7c85-4770-824b-2cd889e4dff1",
   "metadata": {},
   "outputs": [],
   "source": []
  }
 ],
 "metadata": {
  "kernelspec": {
   "display_name": "Python 3 (ipykernel)",
   "language": "python",
   "name": "python3"
  },
  "language_info": {
   "codemirror_mode": {
    "name": "ipython",
    "version": 3
   },
   "file_extension": ".py",
   "mimetype": "text/x-python",
   "name": "python",
   "nbconvert_exporter": "python",
   "pygments_lexer": "ipython3",
   "version": "3.11.5"
  }
 },
 "nbformat": 4,
 "nbformat_minor": 5
}
