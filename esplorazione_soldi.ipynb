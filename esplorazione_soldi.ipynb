{
 "cells": [
  {
   "cell_type": "code",
   "execution_count": 1,
   "id": "a6228d84-f994-49dd-ba84-962aea7e99cd",
   "metadata": {
    "tags": []
   },
   "outputs": [],
   "source": [
    "import numpy as np\n",
    "import pandas as pd\n",
    "\n",
    "from utils import *\n",
    "\n",
    "path_data = '/Users/dariozappala/Library/CloudStorage/Dropbox/università/RTD-A/progetti/dati/Crunchbase/'\n",
    "path_images = './immagini/'"
   ]
  },
  {
   "cell_type": "markdown",
   "id": "04c2431e-dc16-4237-8c4d-73843d20bcb4",
   "metadata": {},
   "source": [
    "# Acquisitions"
   ]
  },
  {
   "cell_type": "code",
   "execution_count": 9,
   "id": "aa2fc7b9-cd92-4823-a0a8-0005b4d4a7be",
   "metadata": {
    "tags": []
   },
   "outputs": [
    {
     "data": {
      "text/html": [
       "<div>\n",
       "<style scoped>\n",
       "    .dataframe tbody tr th:only-of-type {\n",
       "        vertical-align: middle;\n",
       "    }\n",
       "\n",
       "    .dataframe tbody tr th {\n",
       "        vertical-align: top;\n",
       "    }\n",
       "\n",
       "    .dataframe thead th {\n",
       "        text-align: right;\n",
       "    }\n",
       "</style>\n",
       "<table border=\"1\" class=\"dataframe\">\n",
       "  <thead>\n",
       "    <tr style=\"text-align: right;\">\n",
       "      <th></th>\n",
       "      <th>acquired_on</th>\n",
       "      <th>type</th>\n",
       "      <th>acquisition_type</th>\n",
       "      <th>acquiree_uuid</th>\n",
       "      <th>acquirer_uuid</th>\n",
       "      <th>price_usd</th>\n",
       "      <th>price</th>\n",
       "      <th>price_currency_code</th>\n",
       "    </tr>\n",
       "  </thead>\n",
       "  <tbody>\n",
       "    <tr>\n",
       "      <th>0</th>\n",
       "      <td>2007-05-30</td>\n",
       "      <td>acquisition</td>\n",
       "      <td>NaN</td>\n",
       "      <td>180ebf67-68d0-2316-e93d-8e1e546330ba</td>\n",
       "      <td>d70777cc-14bd-2416-0692-5a483781b78b</td>\n",
       "      <td>NaN</td>\n",
       "      <td>NaN</td>\n",
       "      <td>NaN</td>\n",
       "    </tr>\n",
       "    <tr>\n",
       "      <th>1</th>\n",
       "      <td>2007-07-01</td>\n",
       "      <td>acquisition</td>\n",
       "      <td>NaN</td>\n",
       "      <td>5b05e013-a448-3a0b-d872-a6ae668e1192</td>\n",
       "      <td>6acfa7da-1dbd-936e-d985-cf07a1b27711</td>\n",
       "      <td>60000000.0</td>\n",
       "      <td>60000000.0</td>\n",
       "      <td>USD</td>\n",
       "    </tr>\n",
       "    <tr>\n",
       "      <th>2</th>\n",
       "      <td>2007-05-01</td>\n",
       "      <td>acquisition</td>\n",
       "      <td>NaN</td>\n",
       "      <td>8249dffa-1ca6-6f99-9f76-d56c83f85f2d</td>\n",
       "      <td>f09c1228-2e7d-1889-6647-ba5021b2e4ea</td>\n",
       "      <td>280000000.0</td>\n",
       "      <td>280000000.0</td>\n",
       "      <td>USD</td>\n",
       "    </tr>\n",
       "    <tr>\n",
       "      <th>3</th>\n",
       "      <td>2007-05-23</td>\n",
       "      <td>acquisition</td>\n",
       "      <td>acquisition</td>\n",
       "      <td>10dd03fa-69ff-3a82-6321-c6b16c9a9f41</td>\n",
       "      <td>6acfa7da-1dbd-936e-d985-cf07a1b27711</td>\n",
       "      <td>100000000.0</td>\n",
       "      <td>100000000.0</td>\n",
       "      <td>USD</td>\n",
       "    </tr>\n",
       "    <tr>\n",
       "      <th>4</th>\n",
       "      <td>2007-07-01</td>\n",
       "      <td>acquisition</td>\n",
       "      <td>NaN</td>\n",
       "      <td>0af10345-613d-e144-f8bd-b62e288985a0</td>\n",
       "      <td>b5a96cd7-044d-70f0-04c5-f125e57a4b35</td>\n",
       "      <td>NaN</td>\n",
       "      <td>NaN</td>\n",
       "      <td>NaN</td>\n",
       "    </tr>\n",
       "    <tr>\n",
       "      <th>...</th>\n",
       "      <td>...</td>\n",
       "      <td>...</td>\n",
       "      <td>...</td>\n",
       "      <td>...</td>\n",
       "      <td>...</td>\n",
       "      <td>...</td>\n",
       "      <td>...</td>\n",
       "      <td>...</td>\n",
       "    </tr>\n",
       "    <tr>\n",
       "      <th>154333</th>\n",
       "      <td>2021-03-31</td>\n",
       "      <td>acquisition</td>\n",
       "      <td>acquisition</td>\n",
       "      <td>8e45af48-0ef5-49af-9e37-4d3dbdbc83b8</td>\n",
       "      <td>f7665d90-8128-2f56-3136-e1842867c6d2</td>\n",
       "      <td>NaN</td>\n",
       "      <td>NaN</td>\n",
       "      <td>NaN</td>\n",
       "    </tr>\n",
       "    <tr>\n",
       "      <th>154334</th>\n",
       "      <td>2018-06-26</td>\n",
       "      <td>acquisition</td>\n",
       "      <td>acquisition</td>\n",
       "      <td>05b2069f-0712-49ce-a304-ad7516c6e4ec</td>\n",
       "      <td>f7665d90-8128-2f56-3136-e1842867c6d2</td>\n",
       "      <td>NaN</td>\n",
       "      <td>NaN</td>\n",
       "      <td>NaN</td>\n",
       "    </tr>\n",
       "    <tr>\n",
       "      <th>154335</th>\n",
       "      <td>2023-07-10</td>\n",
       "      <td>acquisition</td>\n",
       "      <td>acquisition</td>\n",
       "      <td>1ecb0284-6bf6-4c9a-8c03-936de260dcd5</td>\n",
       "      <td>2cbc5190-9fa6-4cef-9419-e1fb0cfc011a</td>\n",
       "      <td>NaN</td>\n",
       "      <td>NaN</td>\n",
       "      <td>NaN</td>\n",
       "    </tr>\n",
       "    <tr>\n",
       "      <th>154336</th>\n",
       "      <td>2023-09-01</td>\n",
       "      <td>acquisition</td>\n",
       "      <td>merge</td>\n",
       "      <td>cb7cba2c-f4b9-490c-b622-a82c0b1ec835</td>\n",
       "      <td>633d376f-67c4-4bc1-8ed4-78c95e5e0e99</td>\n",
       "      <td>NaN</td>\n",
       "      <td>NaN</td>\n",
       "      <td>NaN</td>\n",
       "    </tr>\n",
       "    <tr>\n",
       "      <th>154337</th>\n",
       "      <td>2023-09-07</td>\n",
       "      <td>acquisition</td>\n",
       "      <td>acquisition</td>\n",
       "      <td>76187038-6fac-48cb-8bbb-4d5d47f31281</td>\n",
       "      <td>d7ea2f8c-f3e3-4042-9598-6c7783619764</td>\n",
       "      <td>NaN</td>\n",
       "      <td>NaN</td>\n",
       "      <td>NaN</td>\n",
       "    </tr>\n",
       "  </tbody>\n",
       "</table>\n",
       "<p>154338 rows × 8 columns</p>\n",
       "</div>"
      ],
      "text/plain": [
       "       acquired_on         type acquisition_type  \\\n",
       "0       2007-05-30  acquisition              NaN   \n",
       "1       2007-07-01  acquisition              NaN   \n",
       "2       2007-05-01  acquisition              NaN   \n",
       "3       2007-05-23  acquisition      acquisition   \n",
       "4       2007-07-01  acquisition              NaN   \n",
       "...            ...          ...              ...   \n",
       "154333  2021-03-31  acquisition      acquisition   \n",
       "154334  2018-06-26  acquisition      acquisition   \n",
       "154335  2023-07-10  acquisition      acquisition   \n",
       "154336  2023-09-01  acquisition            merge   \n",
       "154337  2023-09-07  acquisition      acquisition   \n",
       "\n",
       "                               acquiree_uuid  \\\n",
       "0       180ebf67-68d0-2316-e93d-8e1e546330ba   \n",
       "1       5b05e013-a448-3a0b-d872-a6ae668e1192   \n",
       "2       8249dffa-1ca6-6f99-9f76-d56c83f85f2d   \n",
       "3       10dd03fa-69ff-3a82-6321-c6b16c9a9f41   \n",
       "4       0af10345-613d-e144-f8bd-b62e288985a0   \n",
       "...                                      ...   \n",
       "154333  8e45af48-0ef5-49af-9e37-4d3dbdbc83b8   \n",
       "154334  05b2069f-0712-49ce-a304-ad7516c6e4ec   \n",
       "154335  1ecb0284-6bf6-4c9a-8c03-936de260dcd5   \n",
       "154336  cb7cba2c-f4b9-490c-b622-a82c0b1ec835   \n",
       "154337  76187038-6fac-48cb-8bbb-4d5d47f31281   \n",
       "\n",
       "                               acquirer_uuid    price_usd        price  \\\n",
       "0       d70777cc-14bd-2416-0692-5a483781b78b          NaN          NaN   \n",
       "1       6acfa7da-1dbd-936e-d985-cf07a1b27711   60000000.0   60000000.0   \n",
       "2       f09c1228-2e7d-1889-6647-ba5021b2e4ea  280000000.0  280000000.0   \n",
       "3       6acfa7da-1dbd-936e-d985-cf07a1b27711  100000000.0  100000000.0   \n",
       "4       b5a96cd7-044d-70f0-04c5-f125e57a4b35          NaN          NaN   \n",
       "...                                      ...          ...          ...   \n",
       "154333  f7665d90-8128-2f56-3136-e1842867c6d2          NaN          NaN   \n",
       "154334  f7665d90-8128-2f56-3136-e1842867c6d2          NaN          NaN   \n",
       "154335  2cbc5190-9fa6-4cef-9419-e1fb0cfc011a          NaN          NaN   \n",
       "154336  633d376f-67c4-4bc1-8ed4-78c95e5e0e99          NaN          NaN   \n",
       "154337  d7ea2f8c-f3e3-4042-9598-6c7783619764          NaN          NaN   \n",
       "\n",
       "       price_currency_code  \n",
       "0                      NaN  \n",
       "1                      USD  \n",
       "2                      USD  \n",
       "3                      USD  \n",
       "4                      NaN  \n",
       "...                    ...  \n",
       "154333                 NaN  \n",
       "154334                 NaN  \n",
       "154335                 NaN  \n",
       "154336                 NaN  \n",
       "154337                 NaN  \n",
       "\n",
       "[154338 rows x 8 columns]"
      ]
     },
     "execution_count": 9,
     "metadata": {},
     "output_type": "execute_result"
    }
   ],
   "source": [
    "df_acquisitions = pd.read_csv(path_data + 'acquisitions.csv')\n",
    "df_acquisitions = df_acquisitions[['acquired_on', 'type', 'acquisition_type', 'acquiree_uuid', 'acquirer_uuid', 'price_usd', 'price', 'price_currency_code']]\n",
    "df_acquisitions"
   ]
  },
  {
   "cell_type": "code",
   "execution_count": 30,
   "id": "12c9e34a-ffc7-473c-acc1-994b6def69a3",
   "metadata": {
    "tags": []
   },
   "outputs": [
    {
     "data": {
      "text/plain": [
       "'2007-07-01'"
      ]
     },
     "execution_count": 30,
     "metadata": {},
     "output_type": "execute_result"
    }
   ],
   "source": [
    "df_acquisitions.loc[1, 'acquired_on']"
   ]
  },
  {
   "cell_type": "code",
   "execution_count": 21,
   "id": "0f06712d-1c6b-4cda-aaf7-c8c089a7f9b4",
   "metadata": {
    "tags": []
   },
   "outputs": [
    {
     "data": {
      "text/plain": [
       "acquired_on             object\n",
       "type                    object\n",
       "acquisition_type        object\n",
       "acquiree_uuid           object\n",
       "acquirer_uuid           object\n",
       "price_usd              float64\n",
       "price                  float64\n",
       "price_currency_code     object\n",
       "dtype: object"
      ]
     },
     "execution_count": 21,
     "metadata": {},
     "output_type": "execute_result"
    }
   ],
   "source": [
    "df_acquisitions.dtypes"
   ]
  },
  {
   "cell_type": "code",
   "execution_count": 10,
   "id": "a10a184a-9748-48ec-9d7e-37df9940d099",
   "metadata": {
    "tags": []
   },
   "outputs": [
    {
     "data": {
      "text/plain": [
       "type\n",
       "acquisition    154338\n",
       "Name: count, dtype: int64"
      ]
     },
     "execution_count": 10,
     "metadata": {},
     "output_type": "execute_result"
    }
   ],
   "source": [
    "df_acquisitions['type'].value_counts(dropna = False)"
   ]
  },
  {
   "cell_type": "code",
   "execution_count": 11,
   "id": "201db3e9-0450-4cf6-9578-0c42cff30d0e",
   "metadata": {
    "tags": []
   },
   "outputs": [
    {
     "data": {
      "text/plain": [
       "acquisition_type\n",
       "acquisition          125360\n",
       "lbo                   12276\n",
       "NaN                   11167\n",
       "merge                  3030\n",
       "management_buyout      1959\n",
       "acquihire               546\n",
       "Name: count, dtype: int64"
      ]
     },
     "execution_count": 11,
     "metadata": {},
     "output_type": "execute_result"
    }
   ],
   "source": [
    "df_acquisitions['acquisition_type'].value_counts(dropna = False)"
   ]
  },
  {
   "cell_type": "code",
   "execution_count": 12,
   "id": "6d560d9f-0196-4d65-a13d-ab7efa6efe97",
   "metadata": {
    "tags": []
   },
   "outputs": [
    {
     "data": {
      "text/html": [
       "<div>\n",
       "<style scoped>\n",
       "    .dataframe tbody tr th:only-of-type {\n",
       "        vertical-align: middle;\n",
       "    }\n",
       "\n",
       "    .dataframe tbody tr th {\n",
       "        vertical-align: top;\n",
       "    }\n",
       "\n",
       "    .dataframe thead th {\n",
       "        text-align: right;\n",
       "    }\n",
       "</style>\n",
       "<table border=\"1\" class=\"dataframe\">\n",
       "  <thead>\n",
       "    <tr style=\"text-align: right;\">\n",
       "      <th></th>\n",
       "      <th></th>\n",
       "      <th></th>\n",
       "      <th>count</th>\n",
       "    </tr>\n",
       "    <tr>\n",
       "      <th>price_currency_code</th>\n",
       "      <th>price</th>\n",
       "      <th>price_usd</th>\n",
       "      <th></th>\n",
       "    </tr>\n",
       "  </thead>\n",
       "  <tbody>\n",
       "    <tr>\n",
       "      <th>False</th>\n",
       "      <th>False</th>\n",
       "      <th>False</th>\n",
       "      <td>128642</td>\n",
       "    </tr>\n",
       "    <tr>\n",
       "      <th>True</th>\n",
       "      <th>True</th>\n",
       "      <th>True</th>\n",
       "      <td>25696</td>\n",
       "    </tr>\n",
       "  </tbody>\n",
       "</table>\n",
       "</div>"
      ],
      "text/plain": [
       "                                      count\n",
       "price_currency_code price price_usd        \n",
       "False               False False      128642\n",
       "True                True  True        25696"
      ]
     },
     "execution_count": 12,
     "metadata": {},
     "output_type": "execute_result"
    }
   ],
   "source": [
    "(\n",
    "    df_acquisitions\n",
    "    .assign(count = 1)\n",
    "    .groupby([~df_acquisitions['price_currency_code'].isna(), ~df_acquisitions['price'].isna(), ~df_acquisitions['price_usd'].isna()])\n",
    "    [['count']].count()\n",
    ")"
   ]
  },
  {
   "cell_type": "code",
   "execution_count": 13,
   "id": "8ce39cdf-298f-4f7f-b82e-7f34026f2537",
   "metadata": {},
   "outputs": [
    {
     "data": {
      "text/plain": [
       "(25696, 8)"
      ]
     },
     "execution_count": 13,
     "metadata": {},
     "output_type": "execute_result"
    }
   ],
   "source": [
    "df_acquisitions = df_acquisitions.loc[~df_acquisitions['price_usd'].isna()]\n",
    "df_acquisitions.shape"
   ]
  },
  {
   "cell_type": "markdown",
   "id": "92de8fc4-58ea-4f89-8331-13c13473cf6d",
   "metadata": {},
   "source": [
    "# IPOs"
   ]
  },
  {
   "cell_type": "code",
   "execution_count": 17,
   "id": "dba0490c-1148-4a32-8a8d-5a3d806accae",
   "metadata": {},
   "outputs": [
    {
     "data": {
      "text/html": [
       "<div>\n",
       "<style scoped>\n",
       "    .dataframe tbody tr th:only-of-type {\n",
       "        vertical-align: middle;\n",
       "    }\n",
       "\n",
       "    .dataframe tbody tr th {\n",
       "        vertical-align: top;\n",
       "    }\n",
       "\n",
       "    .dataframe thead th {\n",
       "        text-align: right;\n",
       "    }\n",
       "</style>\n",
       "<table border=\"1\" class=\"dataframe\">\n",
       "  <thead>\n",
       "    <tr style=\"text-align: right;\">\n",
       "      <th></th>\n",
       "      <th>went_public_on</th>\n",
       "      <th>type</th>\n",
       "      <th>org_uuid</th>\n",
       "      <th>valuation_price_usd</th>\n",
       "      <th>valuation_price</th>\n",
       "      <th>valuation_price_currency_code</th>\n",
       "      <th>money_raised_usd</th>\n",
       "    </tr>\n",
       "  </thead>\n",
       "  <tbody>\n",
       "    <tr>\n",
       "      <th>0</th>\n",
       "      <td>1986-03-13</td>\n",
       "      <td>ipo</td>\n",
       "      <td>fd80725f-53fc-7009-9878-aeecf1e9ffbb</td>\n",
       "      <td>NaN</td>\n",
       "      <td>NaN</td>\n",
       "      <td>NaN</td>\n",
       "      <td>NaN</td>\n",
       "    </tr>\n",
       "    <tr>\n",
       "      <th>1</th>\n",
       "      <td>1978-01-13</td>\n",
       "      <td>ipo</td>\n",
       "      <td>756936c0-c335-f0ae-0a3d-fe26bdff5695</td>\n",
       "      <td>NaN</td>\n",
       "      <td>NaN</td>\n",
       "      <td>NaN</td>\n",
       "      <td>300000000.0</td>\n",
       "    </tr>\n",
       "    <tr>\n",
       "      <th>2</th>\n",
       "      <td>2006-10-22</td>\n",
       "      <td>ipo</td>\n",
       "      <td>73296f0d-85a5-78d5-90b3-86c5f8981ba9</td>\n",
       "      <td>1.600000e+08</td>\n",
       "      <td>1.600000e+08</td>\n",
       "      <td>USD</td>\n",
       "      <td>145000000.0</td>\n",
       "    </tr>\n",
       "    <tr>\n",
       "      <th>3</th>\n",
       "      <td>1999-12-02</td>\n",
       "      <td>ipo</td>\n",
       "      <td>ff8439cf-097c-a88a-9bb9-dd83d23aa14b</td>\n",
       "      <td>NaN</td>\n",
       "      <td>NaN</td>\n",
       "      <td>NaN</td>\n",
       "      <td>35000000.0</td>\n",
       "    </tr>\n",
       "    <tr>\n",
       "      <th>4</th>\n",
       "      <td>1988-08-12</td>\n",
       "      <td>ipo</td>\n",
       "      <td>ab8e5ba4-df5d-121b-93b6-eae7a0c89245</td>\n",
       "      <td>6.000000e+09</td>\n",
       "      <td>6.000000e+09</td>\n",
       "      <td>USD</td>\n",
       "      <td>NaN</td>\n",
       "    </tr>\n",
       "    <tr>\n",
       "      <th>...</th>\n",
       "      <td>...</td>\n",
       "      <td>...</td>\n",
       "      <td>...</td>\n",
       "      <td>...</td>\n",
       "      <td>...</td>\n",
       "      <td>...</td>\n",
       "      <td>...</td>\n",
       "    </tr>\n",
       "    <tr>\n",
       "      <th>49422</th>\n",
       "      <td>2023-09-08</td>\n",
       "      <td>ipo</td>\n",
       "      <td>b8e1f56b-49b0-4272-87f1-60e90d51e76b</td>\n",
       "      <td>NaN</td>\n",
       "      <td>NaN</td>\n",
       "      <td>NaN</td>\n",
       "      <td>NaN</td>\n",
       "    </tr>\n",
       "    <tr>\n",
       "      <th>49423</th>\n",
       "      <td>2023-09-08</td>\n",
       "      <td>ipo</td>\n",
       "      <td>f38dd25a-995d-361f-6754-1e420d3460b9</td>\n",
       "      <td>1.000000e+08</td>\n",
       "      <td>1.000000e+08</td>\n",
       "      <td>USD</td>\n",
       "      <td>NaN</td>\n",
       "    </tr>\n",
       "    <tr>\n",
       "      <th>49424</th>\n",
       "      <td>1996-10-28</td>\n",
       "      <td>ipo</td>\n",
       "      <td>8c18c487-e747-4df1-82cf-1c5bb1c9fe96</td>\n",
       "      <td>NaN</td>\n",
       "      <td>NaN</td>\n",
       "      <td>NaN</td>\n",
       "      <td>NaN</td>\n",
       "    </tr>\n",
       "    <tr>\n",
       "      <th>49425</th>\n",
       "      <td>2022-08-26</td>\n",
       "      <td>ipo</td>\n",
       "      <td>57879f0f-5cde-44a1-98a7-9ef249c23a46</td>\n",
       "      <td>NaN</td>\n",
       "      <td>NaN</td>\n",
       "      <td>NaN</td>\n",
       "      <td>NaN</td>\n",
       "    </tr>\n",
       "    <tr>\n",
       "      <th>49426</th>\n",
       "      <td>2023-01-01</td>\n",
       "      <td>ipo</td>\n",
       "      <td>2e481d47-e4f2-4df3-9d33-c02f2a77d726</td>\n",
       "      <td>6.940000e+05</td>\n",
       "      <td>6.940000e+05</td>\n",
       "      <td>USD</td>\n",
       "      <td>250000.0</td>\n",
       "    </tr>\n",
       "  </tbody>\n",
       "</table>\n",
       "<p>49427 rows × 7 columns</p>\n",
       "</div>"
      ],
      "text/plain": [
       "      went_public_on type                              org_uuid  \\\n",
       "0         1986-03-13  ipo  fd80725f-53fc-7009-9878-aeecf1e9ffbb   \n",
       "1         1978-01-13  ipo  756936c0-c335-f0ae-0a3d-fe26bdff5695   \n",
       "2         2006-10-22  ipo  73296f0d-85a5-78d5-90b3-86c5f8981ba9   \n",
       "3         1999-12-02  ipo  ff8439cf-097c-a88a-9bb9-dd83d23aa14b   \n",
       "4         1988-08-12  ipo  ab8e5ba4-df5d-121b-93b6-eae7a0c89245   \n",
       "...              ...  ...                                   ...   \n",
       "49422     2023-09-08  ipo  b8e1f56b-49b0-4272-87f1-60e90d51e76b   \n",
       "49423     2023-09-08  ipo  f38dd25a-995d-361f-6754-1e420d3460b9   \n",
       "49424     1996-10-28  ipo  8c18c487-e747-4df1-82cf-1c5bb1c9fe96   \n",
       "49425     2022-08-26  ipo  57879f0f-5cde-44a1-98a7-9ef249c23a46   \n",
       "49426     2023-01-01  ipo  2e481d47-e4f2-4df3-9d33-c02f2a77d726   \n",
       "\n",
       "       valuation_price_usd  valuation_price valuation_price_currency_code  \\\n",
       "0                      NaN              NaN                           NaN   \n",
       "1                      NaN              NaN                           NaN   \n",
       "2             1.600000e+08     1.600000e+08                           USD   \n",
       "3                      NaN              NaN                           NaN   \n",
       "4             6.000000e+09     6.000000e+09                           USD   \n",
       "...                    ...              ...                           ...   \n",
       "49422                  NaN              NaN                           NaN   \n",
       "49423         1.000000e+08     1.000000e+08                           USD   \n",
       "49424                  NaN              NaN                           NaN   \n",
       "49425                  NaN              NaN                           NaN   \n",
       "49426         6.940000e+05     6.940000e+05                           USD   \n",
       "\n",
       "       money_raised_usd  \n",
       "0                   NaN  \n",
       "1           300000000.0  \n",
       "2           145000000.0  \n",
       "3            35000000.0  \n",
       "4                   NaN  \n",
       "...                 ...  \n",
       "49422               NaN  \n",
       "49423               NaN  \n",
       "49424               NaN  \n",
       "49425               NaN  \n",
       "49426          250000.0  \n",
       "\n",
       "[49427 rows x 7 columns]"
      ]
     },
     "execution_count": 17,
     "metadata": {},
     "output_type": "execute_result"
    }
   ],
   "source": [
    "df_ipos = pd.read_csv(path_data + 'ipos.csv')\n",
    "df_ipos = df_ipos[['went_public_on', 'type', 'org_uuid', 'valuation_price_usd', 'valuation_price', 'valuation_price_currency_code', 'money_raised_usd']]\n",
    "df_ipos"
   ]
  },
  {
   "cell_type": "code",
   "execution_count": 31,
   "id": "ef053328-a581-4bf2-95bc-052cd9f42d1d",
   "metadata": {
    "tags": []
   },
   "outputs": [
    {
     "data": {
      "text/plain": [
       "'1978-01-13'"
      ]
     },
     "execution_count": 31,
     "metadata": {},
     "output_type": "execute_result"
    }
   ],
   "source": [
    "df_ipos.loc[1, 'went_public_on']"
   ]
  },
  {
   "cell_type": "code",
   "execution_count": 22,
   "id": "cc18d60e-de66-4dfc-9a2a-0e9966d4e818",
   "metadata": {
    "tags": []
   },
   "outputs": [
    {
     "data": {
      "text/plain": [
       "went_public_on                    object\n",
       "type                              object\n",
       "org_uuid                          object\n",
       "valuation_price_usd              float64\n",
       "valuation_price                  float64\n",
       "valuation_price_currency_code     object\n",
       "money_raised_usd                 float64\n",
       "dtype: object"
      ]
     },
     "execution_count": 22,
     "metadata": {},
     "output_type": "execute_result"
    }
   ],
   "source": [
    "df_ipos.dtypes"
   ]
  },
  {
   "cell_type": "code",
   "execution_count": 18,
   "id": "bd628d12-0010-4923-8ee4-376b14b650c6",
   "metadata": {
    "tags": []
   },
   "outputs": [
    {
     "data": {
      "text/plain": [
       "type\n",
       "ipo    49427\n",
       "Name: count, dtype: int64"
      ]
     },
     "execution_count": 18,
     "metadata": {},
     "output_type": "execute_result"
    }
   ],
   "source": [
    "df_ipos['type'].value_counts(dropna = False)"
   ]
  },
  {
   "cell_type": "code",
   "execution_count": 19,
   "id": "94603519-66c0-4853-aef9-d7a2291caecc",
   "metadata": {},
   "outputs": [
    {
     "data": {
      "text/html": [
       "<div>\n",
       "<style scoped>\n",
       "    .dataframe tbody tr th:only-of-type {\n",
       "        vertical-align: middle;\n",
       "    }\n",
       "\n",
       "    .dataframe tbody tr th {\n",
       "        vertical-align: top;\n",
       "    }\n",
       "\n",
       "    .dataframe thead th {\n",
       "        text-align: right;\n",
       "    }\n",
       "</style>\n",
       "<table border=\"1\" class=\"dataframe\">\n",
       "  <thead>\n",
       "    <tr style=\"text-align: right;\">\n",
       "      <th></th>\n",
       "      <th></th>\n",
       "      <th></th>\n",
       "      <th>count</th>\n",
       "    </tr>\n",
       "    <tr>\n",
       "      <th>valuation_price_currency_code</th>\n",
       "      <th>valuation_price</th>\n",
       "      <th>valuation_price_usd</th>\n",
       "      <th></th>\n",
       "    </tr>\n",
       "  </thead>\n",
       "  <tbody>\n",
       "    <tr>\n",
       "      <th>False</th>\n",
       "      <th>False</th>\n",
       "      <th>False</th>\n",
       "      <td>45903</td>\n",
       "    </tr>\n",
       "    <tr>\n",
       "      <th>True</th>\n",
       "      <th>True</th>\n",
       "      <th>True</th>\n",
       "      <td>3524</td>\n",
       "    </tr>\n",
       "  </tbody>\n",
       "</table>\n",
       "</div>"
      ],
      "text/plain": [
       "                                                                   count\n",
       "valuation_price_currency_code valuation_price valuation_price_usd       \n",
       "False                         False           False                45903\n",
       "True                          True            True                  3524"
      ]
     },
     "execution_count": 19,
     "metadata": {},
     "output_type": "execute_result"
    }
   ],
   "source": [
    "(\n",
    "    df_ipos\n",
    "    .assign(count = 1)\n",
    "    .groupby([~df_ipos['valuation_price_currency_code'].isna(), ~df_ipos['valuation_price'].isna(), ~df_ipos['valuation_price_usd'].isna()])\n",
    "    [['count']].count()\n",
    ")"
   ]
  },
  {
   "cell_type": "code",
   "execution_count": 20,
   "id": "8f711c26-be39-41b7-a1f1-a4d313c9fb10",
   "metadata": {
    "tags": []
   },
   "outputs": [
    {
     "data": {
      "text/html": [
       "<div>\n",
       "<style scoped>\n",
       "    .dataframe tbody tr th:only-of-type {\n",
       "        vertical-align: middle;\n",
       "    }\n",
       "\n",
       "    .dataframe tbody tr th {\n",
       "        vertical-align: top;\n",
       "    }\n",
       "\n",
       "    .dataframe thead th {\n",
       "        text-align: right;\n",
       "    }\n",
       "</style>\n",
       "<table border=\"1\" class=\"dataframe\">\n",
       "  <thead>\n",
       "    <tr style=\"text-align: right;\">\n",
       "      <th></th>\n",
       "      <th></th>\n",
       "      <th>count</th>\n",
       "    </tr>\n",
       "    <tr>\n",
       "      <th>valuation_price_usd</th>\n",
       "      <th>money_raised_usd</th>\n",
       "      <th></th>\n",
       "    </tr>\n",
       "  </thead>\n",
       "  <tbody>\n",
       "    <tr>\n",
       "      <th rowspan=\"2\" valign=\"top\">False</th>\n",
       "      <th>False</th>\n",
       "      <td>42354</td>\n",
       "    </tr>\n",
       "    <tr>\n",
       "      <th>True</th>\n",
       "      <td>3549</td>\n",
       "    </tr>\n",
       "    <tr>\n",
       "      <th rowspan=\"2\" valign=\"top\">True</th>\n",
       "      <th>False</th>\n",
       "      <td>281</td>\n",
       "    </tr>\n",
       "    <tr>\n",
       "      <th>True</th>\n",
       "      <td>3243</td>\n",
       "    </tr>\n",
       "  </tbody>\n",
       "</table>\n",
       "</div>"
      ],
      "text/plain": [
       "                                      count\n",
       "valuation_price_usd money_raised_usd       \n",
       "False               False             42354\n",
       "                    True               3549\n",
       "True                False               281\n",
       "                    True               3243"
      ]
     },
     "execution_count": 20,
     "metadata": {},
     "output_type": "execute_result"
    }
   ],
   "source": [
    "(\n",
    "    df_ipos\n",
    "    .assign(count = 1)\n",
    "    .groupby([~df_ipos['valuation_price_usd'].isna(), ~df_ipos['money_raised_usd'].isna()])\n",
    "    [['count']].count()\n",
    ")"
   ]
  },
  {
   "cell_type": "code",
   "execution_count": null,
   "id": "4f6669f4-28c3-4e1d-b528-6b78244622d8",
   "metadata": {},
   "outputs": [],
   "source": []
  }
 ],
 "metadata": {
  "kernelspec": {
   "display_name": "Python 3 (ipykernel)",
   "language": "python",
   "name": "python3"
  },
  "language_info": {
   "codemirror_mode": {
    "name": "ipython",
    "version": 3
   },
   "file_extension": ".py",
   "mimetype": "text/x-python",
   "name": "python",
   "nbconvert_exporter": "python",
   "pygments_lexer": "ipython3",
   "version": "3.11.5"
  }
 },
 "nbformat": 4,
 "nbformat_minor": 5
}
