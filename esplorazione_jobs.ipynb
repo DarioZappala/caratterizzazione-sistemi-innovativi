{
 "cells": [
  {
   "cell_type": "code",
   "execution_count": 1,
   "id": "a6228d84-f994-49dd-ba84-962aea7e99cd",
   "metadata": {},
   "outputs": [],
   "source": [
    "import numpy as np\n",
    "import pandas as pd\n",
    "from matplotlib import pyplot as plt\n",
    "\n",
    "path_data = '/Users/dariozappala/Library/CloudStorage/Dropbox/università/RTD-A/progetti/dati/Crunchbase/'\n",
    "path_images = './immagini/'"
   ]
  },
  {
   "cell_type": "markdown",
   "id": "a2341e28-ce70-49a6-aca8-45d37620a28f",
   "metadata": {},
   "source": [
    "# Lettura"
   ]
  },
  {
   "cell_type": "code",
   "execution_count": 2,
   "id": "78e8cca5-8fe4-468e-8227-dbe7f72ee09f",
   "metadata": {},
   "outputs": [
    {
     "name": "stdout",
     "output_type": "stream",
     "text": [
      "CPU times: user 11.5 s, sys: 572 ms, total: 12.1 s\n",
      "Wall time: 12.1 s\n"
     ]
    }
   ],
   "source": [
    "%%time\n",
    "df_jobs = pd.read_csv(path_data + 'jobs.csv')\n",
    "\n",
    "# converte le colonne scelte da testo a Timestamp\n",
    "df_jobs['started_on'] = pd.to_datetime(df_jobs['started_on'], errors = 'coerce')\n",
    "df_jobs['ended_on'] = pd.to_datetime(df_jobs['ended_on'], errors = 'coerce')"
   ]
  },
  {
   "cell_type": "markdown",
   "id": "bb3c1cd8-5964-4679-8510-6001c589e8b3",
   "metadata": {},
   "source": [
    "# Esplorazione"
   ]
  },
  {
   "cell_type": "markdown",
   "id": "14f72a08-ba78-457e-b154-6be5c4e732bf",
   "metadata": {
    "tags": []
   },
   "source": [
    "- `title` indica il ruolo dettagliato\n",
    "- `job_type` indica la categoria generale del ruolo. Può avere 5 valori:\n",
    "    - `executive` (1.869.260): Circa 723.000 ruoli con la parola 'founder'. Per il resto, ruoli dirigenziali.\n",
    "    - `employee` (626.450): Ruoli vari. Circa 18.000 ruoli con la parola 'founder'.\n",
    "    - `board_member` (218.030): Vari ruoli con 'member' e 'board'. Circa 8000 ruoli con 'founder'.\n",
    "    - `advisor` (84.071): Quasi tutti ruoli con la parola 'advisor'. Circa 2000 'Mentor' e 1000 'founder'\n",
    "    - `board_observer` (8855)"
   ]
  },
  {
   "cell_type": "code",
   "execution_count": 3,
   "id": "e3564242-f341-4011-9fa6-0c36a92d902a",
   "metadata": {
    "tags": []
   },
   "outputs": [
    {
     "name": "stdout",
     "output_type": "stream",
     "text": [
      "(2806666, 17) \n",
      "\n",
      "started_on\n",
      "1682-01-01 00:00:00\n",
      "2023-09-09 00:00:00\n",
      "'started_on' < '1900-01-01':\t 1774\n",
      "\n",
      "ended_on\n",
      "1791-01-01 00:00:00\n",
      "2023-09-01 00:00:00\n",
      "'ended_on' < '1900-01-01':\t 13\n",
      "\n"
     ]
    }
   ],
   "source": [
    "print(df_jobs.shape, '\\n')\n",
    "\n",
    "# Informazioni sulle date\n",
    "for col in ['started_on', 'ended_on']:\n",
    "    print(col)\n",
    "    print(df_jobs[col].min())\n",
    "    print(df_jobs[col].max())\n",
    "    print(\"'\" + col + \"' < '1900-01-01':\\t\", (df_jobs[col] < '1900-01-01').sum())\n",
    "    print()"
   ]
  },
  {
   "cell_type": "code",
   "execution_count": 4,
   "id": "e42f1c7f-3375-42e3-bc0a-aafd3e59f99e",
   "metadata": {
    "tags": []
   },
   "outputs": [
    {
     "data": {
      "text/html": [
       "<div>\n",
       "<style scoped>\n",
       "    .dataframe tbody tr th:only-of-type {\n",
       "        vertical-align: middle;\n",
       "    }\n",
       "\n",
       "    .dataframe tbody tr th {\n",
       "        vertical-align: top;\n",
       "    }\n",
       "\n",
       "    .dataframe thead th {\n",
       "        text-align: right;\n",
       "    }\n",
       "</style>\n",
       "<table border=\"1\" class=\"dataframe\">\n",
       "  <thead>\n",
       "    <tr style=\"text-align: right;\">\n",
       "      <th></th>\n",
       "      <th>uuid</th>\n",
       "      <th>name</th>\n",
       "      <th>type</th>\n",
       "      <th>permalink</th>\n",
       "      <th>cb_url</th>\n",
       "      <th>rank</th>\n",
       "      <th>created_at</th>\n",
       "      <th>updated_at</th>\n",
       "      <th>person_uuid</th>\n",
       "      <th>person_name</th>\n",
       "      <th>org_uuid</th>\n",
       "      <th>org_name</th>\n",
       "      <th>started_on</th>\n",
       "      <th>ended_on</th>\n",
       "      <th>is_current</th>\n",
       "      <th>title</th>\n",
       "      <th>job_type</th>\n",
       "    </tr>\n",
       "  </thead>\n",
       "  <tbody>\n",
       "    <tr>\n",
       "      <th>0</th>\n",
       "      <td>697b6934-fc1f-9d63-cfb2-1a10759b378e</td>\n",
       "      <td>Ben Elowitz Co-Founder and CEO @ Wetpaint</td>\n",
       "      <td>job</td>\n",
       "      <td>ben-elowitz-executive-wetpaint--697b6934</td>\n",
       "      <td>https://www.crunchbase.com/job/ben-elowitz-exe...</td>\n",
       "      <td>NaN</td>\n",
       "      <td>2007-05-25 07:03:54</td>\n",
       "      <td>2021-03-25 03:59:21</td>\n",
       "      <td>ed13cd36-fe2b-3707-197b-0c2d56e37a71</td>\n",
       "      <td>Ben Elowitz</td>\n",
       "      <td>e1393508-30ea-8a36-3f96-dd3226033abd</td>\n",
       "      <td>Wetpaint</td>\n",
       "      <td>2005-10-01</td>\n",
       "      <td>2014-06-01</td>\n",
       "      <td>False</td>\n",
       "      <td>Co-Founder and CEO</td>\n",
       "      <td>executive</td>\n",
       "    </tr>\n",
       "    <tr>\n",
       "      <th>1</th>\n",
       "      <td>b1de3765-442e-b556-9304-551c2a055901</td>\n",
       "      <td>Kevin Flaherty VP Marketing @ Wetpaint</td>\n",
       "      <td>job</td>\n",
       "      <td>kevin-flaherty-executive-wetpaint--b1de3765</td>\n",
       "      <td>https://www.crunchbase.com/job/kevin-flaherty-...</td>\n",
       "      <td>NaN</td>\n",
       "      <td>2007-05-25 07:04:16</td>\n",
       "      <td>2018-02-13 01:32:51</td>\n",
       "      <td>5ceca97b-493c-1446-6249-5aaa33464763</td>\n",
       "      <td>Kevin Flaherty</td>\n",
       "      <td>e1393508-30ea-8a36-3f96-dd3226033abd</td>\n",
       "      <td>Wetpaint</td>\n",
       "      <td>NaT</td>\n",
       "      <td>NaT</td>\n",
       "      <td>False</td>\n",
       "      <td>VP Marketing</td>\n",
       "      <td>executive</td>\n",
       "    </tr>\n",
       "    <tr>\n",
       "      <th>2</th>\n",
       "      <td>1319cd30-f5e8-c700-0af6-64029c6f7124</td>\n",
       "      <td>Raju Vegesna Chief Evangelist @ Zoho</td>\n",
       "      <td>job</td>\n",
       "      <td>raju-vegesna-employee-zoho--1319cd30</td>\n",
       "      <td>https://www.crunchbase.com/job/raju-vegesna-em...</td>\n",
       "      <td>NaN</td>\n",
       "      <td>2007-05-25 19:33:03</td>\n",
       "      <td>2018-02-13 01:19:53</td>\n",
       "      <td>9f99a98a-aa97-b30b-0d36-db67c1d277e0</td>\n",
       "      <td>Raju Vegesna</td>\n",
       "      <td>bf4d7b0e-b34d-2fd8-d292-6049c4f7efc7</td>\n",
       "      <td>Zoho</td>\n",
       "      <td>2000-11-01</td>\n",
       "      <td>NaT</td>\n",
       "      <td>True</td>\n",
       "      <td>Chief Evangelist</td>\n",
       "      <td>employee</td>\n",
       "    </tr>\n",
       "    <tr>\n",
       "      <th>3</th>\n",
       "      <td>27a252de-1ea8-c620-b2d4-5b889fa9b40f</td>\n",
       "      <td>Ian Wenig VP Business Development @ Zoho</td>\n",
       "      <td>job</td>\n",
       "      <td>ian-wenig-executive-zoho--27a252de</td>\n",
       "      <td>https://www.crunchbase.com/job/ian-wenig-execu...</td>\n",
       "      <td>NaN</td>\n",
       "      <td>2007-05-25 19:34:53</td>\n",
       "      <td>2018-02-13 01:21:35</td>\n",
       "      <td>6e1bca72-a865-b518-b305-31214ce2d1b0</td>\n",
       "      <td>Ian Wenig</td>\n",
       "      <td>bf4d7b0e-b34d-2fd8-d292-6049c4f7efc7</td>\n",
       "      <td>Zoho</td>\n",
       "      <td>2006-03-01</td>\n",
       "      <td>NaT</td>\n",
       "      <td>True</td>\n",
       "      <td>VP Business Development</td>\n",
       "      <td>executive</td>\n",
       "    </tr>\n",
       "    <tr>\n",
       "      <th>4</th>\n",
       "      <td>5a802a79-229f-44ae-0aba-db330f10b67a</td>\n",
       "      <td>Jay Adelson CEO @ Digg</td>\n",
       "      <td>job</td>\n",
       "      <td>jay-adelson-executive-digg--5a802a79</td>\n",
       "      <td>https://www.crunchbase.com/job/jay-adelson-exe...</td>\n",
       "      <td>NaN</td>\n",
       "      <td>2007-05-25 20:05:33</td>\n",
       "      <td>2018-02-13 01:25:38</td>\n",
       "      <td>c92a1f00-8c19-bf2e-0f28-dbbd383dc968</td>\n",
       "      <td>Jay Adelson</td>\n",
       "      <td>5f2b40b8-d1b3-d323-d81a-b7a8e89553d0</td>\n",
       "      <td>Digg</td>\n",
       "      <td>2005-07-01</td>\n",
       "      <td>2010-04-05</td>\n",
       "      <td>False</td>\n",
       "      <td>CEO</td>\n",
       "      <td>executive</td>\n",
       "    </tr>\n",
       "  </tbody>\n",
       "</table>\n",
       "</div>"
      ],
      "text/plain": [
       "                                   uuid  \\\n",
       "0  697b6934-fc1f-9d63-cfb2-1a10759b378e   \n",
       "1  b1de3765-442e-b556-9304-551c2a055901   \n",
       "2  1319cd30-f5e8-c700-0af6-64029c6f7124   \n",
       "3  27a252de-1ea8-c620-b2d4-5b889fa9b40f   \n",
       "4  5a802a79-229f-44ae-0aba-db330f10b67a   \n",
       "\n",
       "                                        name type  \\\n",
       "0  Ben Elowitz Co-Founder and CEO @ Wetpaint  job   \n",
       "1     Kevin Flaherty VP Marketing @ Wetpaint  job   \n",
       "2       Raju Vegesna Chief Evangelist @ Zoho  job   \n",
       "3   Ian Wenig VP Business Development @ Zoho  job   \n",
       "4                     Jay Adelson CEO @ Digg  job   \n",
       "\n",
       "                                     permalink  \\\n",
       "0     ben-elowitz-executive-wetpaint--697b6934   \n",
       "1  kevin-flaherty-executive-wetpaint--b1de3765   \n",
       "2         raju-vegesna-employee-zoho--1319cd30   \n",
       "3           ian-wenig-executive-zoho--27a252de   \n",
       "4         jay-adelson-executive-digg--5a802a79   \n",
       "\n",
       "                                              cb_url  rank  \\\n",
       "0  https://www.crunchbase.com/job/ben-elowitz-exe...   NaN   \n",
       "1  https://www.crunchbase.com/job/kevin-flaherty-...   NaN   \n",
       "2  https://www.crunchbase.com/job/raju-vegesna-em...   NaN   \n",
       "3  https://www.crunchbase.com/job/ian-wenig-execu...   NaN   \n",
       "4  https://www.crunchbase.com/job/jay-adelson-exe...   NaN   \n",
       "\n",
       "            created_at           updated_at  \\\n",
       "0  2007-05-25 07:03:54  2021-03-25 03:59:21   \n",
       "1  2007-05-25 07:04:16  2018-02-13 01:32:51   \n",
       "2  2007-05-25 19:33:03  2018-02-13 01:19:53   \n",
       "3  2007-05-25 19:34:53  2018-02-13 01:21:35   \n",
       "4  2007-05-25 20:05:33  2018-02-13 01:25:38   \n",
       "\n",
       "                            person_uuid     person_name  \\\n",
       "0  ed13cd36-fe2b-3707-197b-0c2d56e37a71     Ben Elowitz   \n",
       "1  5ceca97b-493c-1446-6249-5aaa33464763  Kevin Flaherty   \n",
       "2  9f99a98a-aa97-b30b-0d36-db67c1d277e0    Raju Vegesna   \n",
       "3  6e1bca72-a865-b518-b305-31214ce2d1b0       Ian Wenig   \n",
       "4  c92a1f00-8c19-bf2e-0f28-dbbd383dc968     Jay Adelson   \n",
       "\n",
       "                               org_uuid  org_name started_on   ended_on  \\\n",
       "0  e1393508-30ea-8a36-3f96-dd3226033abd  Wetpaint 2005-10-01 2014-06-01   \n",
       "1  e1393508-30ea-8a36-3f96-dd3226033abd  Wetpaint        NaT        NaT   \n",
       "2  bf4d7b0e-b34d-2fd8-d292-6049c4f7efc7      Zoho 2000-11-01        NaT   \n",
       "3  bf4d7b0e-b34d-2fd8-d292-6049c4f7efc7      Zoho 2006-03-01        NaT   \n",
       "4  5f2b40b8-d1b3-d323-d81a-b7a8e89553d0      Digg 2005-07-01 2010-04-05   \n",
       "\n",
       "   is_current                    title   job_type  \n",
       "0       False       Co-Founder and CEO  executive  \n",
       "1       False             VP Marketing  executive  \n",
       "2        True         Chief Evangelist   employee  \n",
       "3        True  VP Business Development  executive  \n",
       "4       False                      CEO  executive  "
      ]
     },
     "execution_count": 4,
     "metadata": {},
     "output_type": "execute_result"
    }
   ],
   "source": [
    "df_jobs.head()"
   ]
  },
  {
   "cell_type": "code",
   "execution_count": 5,
   "id": "ed9814f4-c690-46ca-98fb-d041c08858c3",
   "metadata": {},
   "outputs": [
    {
     "data": {
      "text/plain": [
       "job_type      \n",
       "executive         1869260\n",
       "employee           626450\n",
       "board_member       218030\n",
       "advisor             84071\n",
       "board_observer       8855\n",
       "Name: count, dtype: int64"
      ]
     },
     "execution_count": 5,
     "metadata": {},
     "output_type": "execute_result"
    }
   ],
   "source": [
    "(df_jobs.value_counts(['job_type'], sort = True, normalize = False, dropna = False))[:20]"
   ]
  },
  {
   "cell_type": "code",
   "execution_count": 7,
   "id": "d3728401-68a9-4cd3-9833-0378249ec041",
   "metadata": {
    "tags": []
   },
   "outputs": [
    {
     "data": {
      "image/png": "[encoded data removed]",
      "text/plain": [
       "<Figure size 500x400 with 1 Axes>"
      ]
     },
     "metadata": {},
     "output_type": "display_data"
    }
   ],
   "source": [
    "col = 'started_on'\n",
    "#col = 'ended_on'\n",
    "\n",
    "values, counts = np.unique(~df_jobs[col].isna(), return_counts = True)\n",
    "percents = 100 * counts / counts.sum()\n",
    "Delta_y = percents.max() * 1/100\n",
    "\n",
    "fig, ax = plt.subplots(figsize = (5, 4))\n",
    "ax.bar(x = range(len(values)), height = percents)\n",
    "for tick in ax.yaxis.get_major_ticks():\n",
    "    tick.tick1line.set_visible(False)\n",
    "    tick.tick2line.set_visible(False)\n",
    "ax.set_xticks(range(len(values)), values)\n",
    "for i in range(len(values)):\n",
    "    plt.text(i, percents[i] + Delta_y, f'{percents[i]:.1f}% ({counts[i]})', ha = 'center')\n",
    "ax.set_ylabel('count')\n",
    "ax.set_title(col + '\\nhas a value')\n",
    "plt.savefig(path_images + 'has_value.png', bbox_inches = 'tight')\n",
    "plt.show()"
   ]
  },
  {
   "cell_type": "markdown",
   "id": "8d95244a-98e6-4326-bc95-5a731344e215",
   "metadata": {},
   "source": [
    "## Ruoli"
   ]
  },
  {
   "cell_type": "code",
   "execution_count": 8,
   "id": "a7f79db0-d1fe-4e69-8617-92e9a12ad3b6",
   "metadata": {
    "tags": []
   },
   "outputs": [],
   "source": [
    "df_jobs_clean = df_jobs[['job_type', 'title']].copy()"
   ]
  },
  {
   "cell_type": "code",
   "execution_count": 9,
   "id": "7065cedd-57d1-4ff1-a04a-cc3eaef8a7ed",
   "metadata": {},
   "outputs": [
    {
     "data": {
      "text/plain": [
       "job_type      \n",
       "executive         1146700\n",
       "founder            749792\n",
       "employee           608402\n",
       "board_member       210017\n",
       "advisor             83026\n",
       "board_observer       8729\n",
       "Name: count, dtype: int64"
      ]
     },
     "execution_count": 9,
     "metadata": {},
     "output_type": "execute_result"
    }
   ],
   "source": [
    "df_jobs_clean.loc[\n",
    "    df_jobs_clean['title'].str.contains('founder', case = False, na = False),\n",
    "    'job_type'\n",
    "] = 'founder'\n",
    "\n",
    "(df_jobs_clean.value_counts(['job_type'], sort = True, normalize = False, dropna = False))[:20]"
   ]
  },
  {
   "cell_type": "code",
   "execution_count": 10,
   "id": "4f2404fe-3ce1-40c7-ae6d-020312b5c20b",
   "metadata": {},
   "outputs": [],
   "source": [
    "stats = pd.DataFrame(\n",
    "    df_jobs_clean.value_counts(['job_type', 'title'], sort = True, normalize = False, dropna = False)\n",
    ").reset_index()"
   ]
  },
  {
   "cell_type": "code",
   "execution_count": 12,
   "id": "48f95a3c-7c58-41b0-a6a8-283987d0f039",
   "metadata": {},
   "outputs": [
    {
     "data": {
      "text/html": [
       "<div>\n",
       "<style scoped>\n",
       "    .dataframe tbody tr th:only-of-type {\n",
       "        vertical-align: middle;\n",
       "    }\n",
       "\n",
       "    .dataframe tbody tr th {\n",
       "        vertical-align: top;\n",
       "    }\n",
       "\n",
       "    .dataframe thead th {\n",
       "        text-align: right;\n",
       "    }\n",
       "</style>\n",
       "<table border=\"1\" class=\"dataframe\">\n",
       "  <thead>\n",
       "    <tr style=\"text-align: right;\">\n",
       "      <th></th>\n",
       "      <th>job_type</th>\n",
       "      <th>title</th>\n",
       "      <th>count</th>\n",
       "    </tr>\n",
       "  </thead>\n",
       "  <tbody>\n",
       "    <tr>\n",
       "      <th>1</th>\n",
       "      <td>executive</td>\n",
       "      <td>CEO</td>\n",
       "      <td>117646</td>\n",
       "    </tr>\n",
       "    <tr>\n",
       "      <th>5</th>\n",
       "      <td>executive</td>\n",
       "      <td>Chief Executive Officer</td>\n",
       "      <td>35784</td>\n",
       "    </tr>\n",
       "    <tr>\n",
       "      <th>8</th>\n",
       "      <td>executive</td>\n",
       "      <td>President</td>\n",
       "      <td>31727</td>\n",
       "    </tr>\n",
       "    <tr>\n",
       "      <th>9</th>\n",
       "      <td>executive</td>\n",
       "      <td>CTO</td>\n",
       "      <td>30807</td>\n",
       "    </tr>\n",
       "    <tr>\n",
       "      <th>10</th>\n",
       "      <td>executive</td>\n",
       "      <td>Managing Director</td>\n",
       "      <td>28536</td>\n",
       "    </tr>\n",
       "    <tr>\n",
       "      <th>12</th>\n",
       "      <td>executive</td>\n",
       "      <td>Owner</td>\n",
       "      <td>24752</td>\n",
       "    </tr>\n",
       "    <tr>\n",
       "      <th>13</th>\n",
       "      <td>executive</td>\n",
       "      <td>Director</td>\n",
       "      <td>24712</td>\n",
       "    </tr>\n",
       "    <tr>\n",
       "      <th>14</th>\n",
       "      <td>executive</td>\n",
       "      <td>CFO</td>\n",
       "      <td>24118</td>\n",
       "    </tr>\n",
       "    <tr>\n",
       "      <th>16</th>\n",
       "      <td>executive</td>\n",
       "      <td>Chief Financial Officer</td>\n",
       "      <td>21094</td>\n",
       "    </tr>\n",
       "    <tr>\n",
       "      <th>17</th>\n",
       "      <td>executive</td>\n",
       "      <td>Partner</td>\n",
       "      <td>20669</td>\n",
       "    </tr>\n",
       "    <tr>\n",
       "      <th>18</th>\n",
       "      <td>executive</td>\n",
       "      <td>COO</td>\n",
       "      <td>19324</td>\n",
       "    </tr>\n",
       "    <tr>\n",
       "      <th>21</th>\n",
       "      <td>executive</td>\n",
       "      <td>Chief Operating Officer</td>\n",
       "      <td>16600</td>\n",
       "    </tr>\n",
       "    <tr>\n",
       "      <th>23</th>\n",
       "      <td>executive</td>\n",
       "      <td>President &amp; CEO</td>\n",
       "      <td>13717</td>\n",
       "    </tr>\n",
       "    <tr>\n",
       "      <th>24</th>\n",
       "      <td>executive</td>\n",
       "      <td>Chief Technology Officer</td>\n",
       "      <td>12788</td>\n",
       "    </tr>\n",
       "    <tr>\n",
       "      <th>27</th>\n",
       "      <td>executive</td>\n",
       "      <td>President and CEO</td>\n",
       "      <td>12264</td>\n",
       "    </tr>\n",
       "    <tr>\n",
       "      <th>28</th>\n",
       "      <td>executive</td>\n",
       "      <td>Vice President</td>\n",
       "      <td>10942</td>\n",
       "    </tr>\n",
       "    <tr>\n",
       "      <th>29</th>\n",
       "      <td>executive</td>\n",
       "      <td>Managing Partner</td>\n",
       "      <td>9902</td>\n",
       "    </tr>\n",
       "    <tr>\n",
       "      <th>34</th>\n",
       "      <td>executive</td>\n",
       "      <td>Principal</td>\n",
       "      <td>7180</td>\n",
       "    </tr>\n",
       "    <tr>\n",
       "      <th>38</th>\n",
       "      <td>executive</td>\n",
       "      <td>CMO</td>\n",
       "      <td>6233</td>\n",
       "    </tr>\n",
       "    <tr>\n",
       "      <th>41</th>\n",
       "      <td>executive</td>\n",
       "      <td>Chief Marketing Officer</td>\n",
       "      <td>5576</td>\n",
       "    </tr>\n",
       "  </tbody>\n",
       "</table>\n",
       "</div>"
      ],
      "text/plain": [
       "     job_type                     title   count\n",
       "1   executive                       CEO  117646\n",
       "5   executive   Chief Executive Officer   35784\n",
       "8   executive                 President   31727\n",
       "9   executive                       CTO   30807\n",
       "10  executive         Managing Director   28536\n",
       "12  executive                     Owner   24752\n",
       "13  executive                  Director   24712\n",
       "14  executive                       CFO   24118\n",
       "16  executive   Chief Financial Officer   21094\n",
       "17  executive                   Partner   20669\n",
       "18  executive                       COO   19324\n",
       "21  executive   Chief Operating Officer   16600\n",
       "23  executive           President & CEO   13717\n",
       "24  executive  Chief Technology Officer   12788\n",
       "27  executive         President and CEO   12264\n",
       "28  executive            Vice President   10942\n",
       "29  executive          Managing Partner    9902\n",
       "34  executive                 Principal    7180\n",
       "38  executive                       CMO    6233\n",
       "41  executive   Chief Marketing Officer    5576"
      ]
     },
     "execution_count": 12,
     "metadata": {},
     "output_type": "execute_result"
    }
   ],
   "source": [
    "i = 0\n",
    "stats[stats['job_type'] == 'executive'].iloc[i:(i+20)]\n",
    "#stats[stats['title'].str.contains('mentor', case = False, na = False)].iloc[i:(i+20)]\n",
    "#stats[(stats['job_type'] == 'employee') & (stats['title'].str.contains('founder', case = False, na = False))].iloc[i:(i+20)]"
   ]
  },
  {
   "cell_type": "code",
   "execution_count": 21,
   "id": "4cff1522-6ed3-441d-8690-156cb5e14f2c",
   "metadata": {},
   "outputs": [
    {
     "data": {
      "text/plain": [
       "(595715, 3)"
      ]
     },
     "execution_count": 21,
     "metadata": {},
     "output_type": "execute_result"
    }
   ],
   "source": [
    "stats.shape"
   ]
  },
  {
   "cell_type": "code",
   "execution_count": null,
   "id": "5afc841b-c5da-4e0c-9485-49e3791b32e2",
   "metadata": {},
   "outputs": [],
   "source": []
  }
 ],
 "metadata": {
  "kernelspec": {
   "display_name": "Python 3 (ipykernel)",
   "language": "python",
   "name": "python3"
  },
  "language_info": {
   "codemirror_mode": {
    "name": "ipython",
    "version": 3
   },
   "file_extension": ".py",
   "mimetype": "text/x-python",
   "name": "python",
   "nbconvert_exporter": "python",
   "pygments_lexer": "ipython3",
   "version": "3.11.5"
  }
 },
 "nbformat": 4,
 "nbformat_minor": 5
}
