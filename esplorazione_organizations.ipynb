{
 "cells": [
  {
   "cell_type": "code",
   "execution_count": 1,
   "id": "a6228d84-f994-49dd-ba84-962aea7e99cd",
   "metadata": {
    "tags": []
   },
   "outputs": [],
   "source": [
    "import numpy as np\n",
    "import pandas as pd\n",
    "from matplotlib import pyplot as plt\n",
    "\n",
    "from utils import *\n",
    "\n",
    "path_data = '/Users/dariozappala/Library/CloudStorage/Dropbox/università/RTD-A/progetti/dati/Crunchbase/'\n",
    "path_images = './immagini/'"
   ]
  },
  {
   "cell_type": "markdown",
   "id": "a2341e28-ce70-49a6-aca8-45d37620a28f",
   "metadata": {},
   "source": [
    "# Lettura"
   ]
  },
  {
   "cell_type": "code",
   "execution_count": 2,
   "id": "26fc2553-4c42-4118-bf79-090ea9d8792e",
   "metadata": {
    "tags": []
   },
   "outputs": [
    {
     "name": "stdout",
     "output_type": "stream",
     "text": [
      "CPU times: user 24 s, sys: 4.68 s, total: 28.6 s\n",
      "Wall time: 30 s\n"
     ]
    }
   ],
   "source": [
    "%%time\n",
    "df_organizations = pd.read_csv(path_data + 'organizations.csv')\n",
    "clean_organizations(df_organizations)"
   ]
  },
  {
   "cell_type": "markdown",
   "id": "c0eb6be2-bb6e-4e9f-b838-49ffefabdfed",
   "metadata": {},
   "source": [
    "# Esplorazione"
   ]
  },
  {
   "cell_type": "code",
   "execution_count": 3,
   "id": "e3adb75a-2984-42c0-a63b-7104116e3334",
   "metadata": {
    "tags": []
   },
   "outputs": [
    {
     "name": "stdout",
     "output_type": "stream",
     "text": [
      "(3090736, 42) \n",
      "\n",
      "founded_on:\n",
      "1678-01-01 00:00:00\n",
      "2023-09-10 00:00:00\n",
      "\n",
      "closed_on:\n",
      "1700-01-01 00:00:00\n",
      "2023-09-06 00:00:00\n",
      "\n",
      "Rows: 3090736\n",
      "'founded_on' < '1900-01-01':\t 36367\n",
      "'closed_on' < '1900-01-01':\t 3\n"
     ]
    }
   ],
   "source": [
    "print(df_organizations.shape, '\\n')\n",
    "\n",
    "# Informazioni sulle date\n",
    "print('founded_on:')\n",
    "print(df_organizations['founded_on'].min())\n",
    "print(df_organizations['founded_on'].max())\n",
    "print('\\nclosed_on:')\n",
    "print(df_organizations['closed_on'].min())\n",
    "print(df_organizations['closed_on'].max())\n",
    "print('\\nRows:', df_organizations.shape[0])\n",
    "print(\"'founded_on' < '1900-01-01':\\t\", (df_organizations['founded_on'] < '1900-01-01').sum())\n",
    "print(\"'closed_on' < '1900-01-01':\\t\", (df_organizations['closed_on'] < '1900-01-01').sum())"
   ]
  },
  {
   "cell_type": "code",
   "execution_count": 4,
   "id": "faedda05-5673-430f-93bb-d29208e9f139",
   "metadata": {
    "tags": []
   },
   "outputs": [
    {
     "data": {
      "text/html": [
       "<div>\n",
       "<style scoped>\n",
       "    .dataframe tbody tr th:only-of-type {\n",
       "        vertical-align: middle;\n",
       "    }\n",
       "\n",
       "    .dataframe tbody tr th {\n",
       "        vertical-align: top;\n",
       "    }\n",
       "\n",
       "    .dataframe thead th {\n",
       "        text-align: right;\n",
       "    }\n",
       "</style>\n",
       "<table border=\"1\" class=\"dataframe\">\n",
       "  <thead>\n",
       "    <tr style=\"text-align: right;\">\n",
       "      <th></th>\n",
       "      <th>uuid</th>\n",
       "      <th>name</th>\n",
       "      <th>legal_name</th>\n",
       "      <th>country_code</th>\n",
       "      <th>founded_on</th>\n",
       "      <th>closed_on</th>\n",
       "    </tr>\n",
       "  </thead>\n",
       "  <tbody>\n",
       "    <tr>\n",
       "      <th>1070024</th>\n",
       "      <td>73886df6-7546-4dc1-9d88-d1925a6c727e</td>\n",
       "      <td>meg za impex pty ltd</td>\n",
       "      <td>Gill Lenord</td>\n",
       "      <td>NaN</td>\n",
       "      <td>NaT</td>\n",
       "      <td>1700-01-01</td>\n",
       "    </tr>\n",
       "    <tr>\n",
       "      <th>1125952</th>\n",
       "      <td>716addb2-ee19-4f10-bcf0-fe9437cfcf14</td>\n",
       "      <td>lfwefwf</td>\n",
       "      <td>ssccsasc</td>\n",
       "      <td>NaN</td>\n",
       "      <td>1700-01-01</td>\n",
       "      <td>1700-01-01</td>\n",
       "    </tr>\n",
       "    <tr>\n",
       "      <th>2103167</th>\n",
       "      <td>21e91bce-cb29-4530-aeba-2deba9152050</td>\n",
       "      <td>Ventcroft</td>\n",
       "      <td>Ventcroft Ltd.</td>\n",
       "      <td>GBR</td>\n",
       "      <td>NaT</td>\n",
       "      <td>1891-01-01</td>\n",
       "    </tr>\n",
       "  </tbody>\n",
       "</table>\n",
       "</div>"
      ],
      "text/plain": [
       "                                         uuid                  name  \\\n",
       "1070024  73886df6-7546-4dc1-9d88-d1925a6c727e  meg za impex pty ltd   \n",
       "1125952  716addb2-ee19-4f10-bcf0-fe9437cfcf14               lfwefwf   \n",
       "2103167  21e91bce-cb29-4530-aeba-2deba9152050             Ventcroft   \n",
       "\n",
       "             legal_name country_code founded_on  closed_on  \n",
       "1070024     Gill Lenord          NaN        NaT 1700-01-01  \n",
       "1125952        ssccsasc          NaN 1700-01-01 1700-01-01  \n",
       "2103167  Ventcroft Ltd.          GBR        NaT 1891-01-01  "
      ]
     },
     "execution_count": 4,
     "metadata": {},
     "output_type": "execute_result"
    }
   ],
   "source": [
    "df_organizations.loc[\n",
    "    df_organizations['closed_on'] < '1900-01-01',\n",
    "    ['uuid', 'name', 'legal_name', 'country_code', 'founded_on', 'closed_on']\n",
    "]"
   ]
  },
  {
   "cell_type": "code",
   "execution_count": 5,
   "id": "93a555f7-17c7-4a12-bdad-c8dbbeeeac61",
   "metadata": {
    "tags": []
   },
   "outputs": [
    {
     "data": {
      "text/html": [
       "<div>\n",
       "<style scoped>\n",
       "    .dataframe tbody tr th:only-of-type {\n",
       "        vertical-align: middle;\n",
       "    }\n",
       "\n",
       "    .dataframe tbody tr th {\n",
       "        vertical-align: top;\n",
       "    }\n",
       "\n",
       "    .dataframe thead th {\n",
       "        text-align: right;\n",
       "    }\n",
       "</style>\n",
       "<table border=\"1\" class=\"dataframe\">\n",
       "  <thead>\n",
       "    <tr style=\"text-align: right;\">\n",
       "      <th></th>\n",
       "      <th>uuid</th>\n",
       "      <th>name</th>\n",
       "      <th>type</th>\n",
       "      <th>permalink</th>\n",
       "      <th>cb_url</th>\n",
       "      <th>rank</th>\n",
       "      <th>created_at</th>\n",
       "      <th>updated_at</th>\n",
       "      <th>legal_name</th>\n",
       "      <th>roles</th>\n",
       "      <th>domain</th>\n",
       "      <th>homepage_url</th>\n",
       "      <th>country_code</th>\n",
       "      <th>state_code</th>\n",
       "    </tr>\n",
       "  </thead>\n",
       "  <tbody>\n",
       "    <tr>\n",
       "      <th>0</th>\n",
       "      <td>e1393508-30ea-8a36-3f96-dd3226033abd</td>\n",
       "      <td>Wetpaint</td>\n",
       "      <td>organization</td>\n",
       "      <td>wetpaint</td>\n",
       "      <td>https://www.crunchbase.com/organization/wetpaint</td>\n",
       "      <td>184663.0</td>\n",
       "      <td>2007-05-25 13:51:27</td>\n",
       "      <td>2023-08-01 00:01:37</td>\n",
       "      <td>NaN</td>\n",
       "      <td>company</td>\n",
       "      <td>wetpaint.com</td>\n",
       "      <td>http://www.wetpaint.com/</td>\n",
       "      <td>USA</td>\n",
       "      <td>NY</td>\n",
       "    </tr>\n",
       "    <tr>\n",
       "      <th>1</th>\n",
       "      <td>bf4d7b0e-b34d-2fd8-d292-6049c4f7efc7</td>\n",
       "      <td>Zoho</td>\n",
       "      <td>organization</td>\n",
       "      <td>zoho</td>\n",
       "      <td>https://www.crunchbase.com/organization/zoho</td>\n",
       "      <td>13591.0</td>\n",
       "      <td>2007-05-26 02:30:28</td>\n",
       "      <td>2023-06-19 08:30:22</td>\n",
       "      <td>Zoho Corporation Pvt. Ltd.</td>\n",
       "      <td>investor,company</td>\n",
       "      <td>zoho.com</td>\n",
       "      <td>https://www.zoho.com</td>\n",
       "      <td>USA</td>\n",
       "      <td>CA</td>\n",
       "    </tr>\n",
       "    <tr>\n",
       "      <th>2</th>\n",
       "      <td>5f2b40b8-d1b3-d323-d81a-b7a8e89553d0</td>\n",
       "      <td>Digg</td>\n",
       "      <td>organization</td>\n",
       "      <td>digg</td>\n",
       "      <td>https://www.crunchbase.com/organization/digg</td>\n",
       "      <td>29463.0</td>\n",
       "      <td>2007-05-26 03:03:23</td>\n",
       "      <td>2018-12-10 10:09:14</td>\n",
       "      <td>Digg Holdings, LLC</td>\n",
       "      <td>company</td>\n",
       "      <td>digg.com</td>\n",
       "      <td>http://www.digg.com</td>\n",
       "      <td>USA</td>\n",
       "      <td>NY</td>\n",
       "    </tr>\n",
       "    <tr>\n",
       "      <th>3</th>\n",
       "      <td>f4d5ab44-058b-298b-ea81-380e6e9a8eec</td>\n",
       "      <td>Omidyar Network</td>\n",
       "      <td>organization</td>\n",
       "      <td>omidyar-network</td>\n",
       "      <td>https://www.crunchbase.com/organization/omidya...</td>\n",
       "      <td>60637.0</td>\n",
       "      <td>2007-05-26 03:21:34</td>\n",
       "      <td>2023-08-30 02:27:06</td>\n",
       "      <td>NaN</td>\n",
       "      <td>investor,company</td>\n",
       "      <td>omidyar.com</td>\n",
       "      <td>http://www.omidyar.com</td>\n",
       "      <td>USA</td>\n",
       "      <td>CA</td>\n",
       "    </tr>\n",
       "    <tr>\n",
       "      <th>4</th>\n",
       "      <td>df662812-7f97-0b43-9d3e-12f64f504fbb</td>\n",
       "      <td>Meta</td>\n",
       "      <td>organization</td>\n",
       "      <td>facebook</td>\n",
       "      <td>https://www.crunchbase.com/organization/facebook</td>\n",
       "      <td>148.0</td>\n",
       "      <td>2007-05-26 04:22:15</td>\n",
       "      <td>2023-05-04 18:27:53</td>\n",
       "      <td>Meta Platforms, Inc.</td>\n",
       "      <td>investor,company</td>\n",
       "      <td>meta.com</td>\n",
       "      <td>https://meta.com</td>\n",
       "      <td>USA</td>\n",
       "      <td>CA</td>\n",
       "    </tr>\n",
       "  </tbody>\n",
       "</table>\n",
       "</div>"
      ],
      "text/plain": [
       "                                   uuid             name          type  \\\n",
       "0  e1393508-30ea-8a36-3f96-dd3226033abd         Wetpaint  organization   \n",
       "1  bf4d7b0e-b34d-2fd8-d292-6049c4f7efc7             Zoho  organization   \n",
       "2  5f2b40b8-d1b3-d323-d81a-b7a8e89553d0             Digg  organization   \n",
       "3  f4d5ab44-058b-298b-ea81-380e6e9a8eec  Omidyar Network  organization   \n",
       "4  df662812-7f97-0b43-9d3e-12f64f504fbb             Meta  organization   \n",
       "\n",
       "         permalink                                             cb_url  \\\n",
       "0         wetpaint   https://www.crunchbase.com/organization/wetpaint   \n",
       "1             zoho       https://www.crunchbase.com/organization/zoho   \n",
       "2             digg       https://www.crunchbase.com/organization/digg   \n",
       "3  omidyar-network  https://www.crunchbase.com/organization/omidya...   \n",
       "4         facebook   https://www.crunchbase.com/organization/facebook   \n",
       "\n",
       "       rank           created_at           updated_at  \\\n",
       "0  184663.0  2007-05-25 13:51:27  2023-08-01 00:01:37   \n",
       "1   13591.0  2007-05-26 02:30:28  2023-06-19 08:30:22   \n",
       "2   29463.0  2007-05-26 03:03:23  2018-12-10 10:09:14   \n",
       "3   60637.0  2007-05-26 03:21:34  2023-08-30 02:27:06   \n",
       "4     148.0  2007-05-26 04:22:15  2023-05-04 18:27:53   \n",
       "\n",
       "                   legal_name             roles        domain  \\\n",
       "0                         NaN           company  wetpaint.com   \n",
       "1  Zoho Corporation Pvt. Ltd.  investor,company      zoho.com   \n",
       "2          Digg Holdings, LLC           company      digg.com   \n",
       "3                         NaN  investor,company   omidyar.com   \n",
       "4        Meta Platforms, Inc.  investor,company      meta.com   \n",
       "\n",
       "               homepage_url country_code state_code  \n",
       "0  http://www.wetpaint.com/          USA         NY  \n",
       "1      https://www.zoho.com          USA         CA  \n",
       "2       http://www.digg.com          USA         NY  \n",
       "3    http://www.omidyar.com          USA         CA  \n",
       "4          https://meta.com          USA         CA  "
      ]
     },
     "execution_count": 5,
     "metadata": {},
     "output_type": "execute_result"
    }
   ],
   "source": [
    "df_organizations.iloc[:5, 0:14]"
   ]
  },
  {
   "cell_type": "code",
   "execution_count": 6,
   "id": "c02be7e9-8756-4526-8848-d953e631da56",
   "metadata": {
    "tags": []
   },
   "outputs": [
    {
     "data": {
      "text/html": [
       "<div>\n",
       "<style scoped>\n",
       "    .dataframe tbody tr th:only-of-type {\n",
       "        vertical-align: middle;\n",
       "    }\n",
       "\n",
       "    .dataframe tbody tr th {\n",
       "        vertical-align: top;\n",
       "    }\n",
       "\n",
       "    .dataframe thead th {\n",
       "        text-align: right;\n",
       "    }\n",
       "</style>\n",
       "<table border=\"1\" class=\"dataframe\">\n",
       "  <thead>\n",
       "    <tr style=\"text-align: right;\">\n",
       "      <th></th>\n",
       "      <th>region</th>\n",
       "      <th>city</th>\n",
       "      <th>address</th>\n",
       "      <th>postal_code</th>\n",
       "      <th>status</th>\n",
       "      <th>short_description</th>\n",
       "      <th>category_list</th>\n",
       "      <th>category_groups_list</th>\n",
       "      <th>num_funding_rounds</th>\n",
       "      <th>total_funding_usd</th>\n",
       "      <th>total_funding</th>\n",
       "      <th>total_funding_currency_code</th>\n",
       "      <th>founded_on</th>\n",
       "      <th>last_funding_on</th>\n",
       "    </tr>\n",
       "  </thead>\n",
       "  <tbody>\n",
       "    <tr>\n",
       "      <th>0</th>\n",
       "      <td>New York</td>\n",
       "      <td>New York</td>\n",
       "      <td>902 Broadway 11th Floor New</td>\n",
       "      <td>10010</td>\n",
       "      <td>acquired</td>\n",
       "      <td>Wetpaint offers an online social publishing pl...</td>\n",
       "      <td>Publishing,Social Media,Social Media Management</td>\n",
       "      <td>Content and Publishing,Internet Services,Media...</td>\n",
       "      <td>3.0</td>\n",
       "      <td>3.975000e+07</td>\n",
       "      <td>3.975000e+07</td>\n",
       "      <td>USD</td>\n",
       "      <td>2005-06-01</td>\n",
       "      <td>2008-05-19</td>\n",
       "    </tr>\n",
       "    <tr>\n",
       "      <th>1</th>\n",
       "      <td>California</td>\n",
       "      <td>Pleasanton</td>\n",
       "      <td>NaN</td>\n",
       "      <td>NaN</td>\n",
       "      <td>operating</td>\n",
       "      <td>Zoho offers a suite of business, collaboration...</td>\n",
       "      <td>Cloud Computing,Collaboration,Developer Tools,...</td>\n",
       "      <td>Administrative Services,Apps,Information Techn...</td>\n",
       "      <td>NaN</td>\n",
       "      <td>NaN</td>\n",
       "      <td>NaN</td>\n",
       "      <td>NaN</td>\n",
       "      <td>1996-03-17</td>\n",
       "      <td>NaN</td>\n",
       "    </tr>\n",
       "    <tr>\n",
       "      <th>2</th>\n",
       "      <td>New York</td>\n",
       "      <td>New York</td>\n",
       "      <td>NaN</td>\n",
       "      <td>NaN</td>\n",
       "      <td>acquired</td>\n",
       "      <td>Digg Inc. operates a website that enables its ...</td>\n",
       "      <td>Internet,Social Media,Social Network</td>\n",
       "      <td>Internet Services,Media and Entertainment</td>\n",
       "      <td>6.0</td>\n",
       "      <td>4.900000e+07</td>\n",
       "      <td>4.900000e+07</td>\n",
       "      <td>USD</td>\n",
       "      <td>2004-10-11</td>\n",
       "      <td>2016-09-13</td>\n",
       "    </tr>\n",
       "    <tr>\n",
       "      <th>3</th>\n",
       "      <td>California</td>\n",
       "      <td>Redwood City</td>\n",
       "      <td>1991 Broadway Suite 200</td>\n",
       "      <td>94063</td>\n",
       "      <td>operating</td>\n",
       "      <td>Omidyar Network is an investment firm.</td>\n",
       "      <td>Enterprise Software,Financial Services,Venture...</td>\n",
       "      <td>Financial Services,Lending and Investments,Sof...</td>\n",
       "      <td>NaN</td>\n",
       "      <td>NaN</td>\n",
       "      <td>NaN</td>\n",
       "      <td>NaN</td>\n",
       "      <td>2004-01-01</td>\n",
       "      <td>NaN</td>\n",
       "    </tr>\n",
       "    <tr>\n",
       "      <th>4</th>\n",
       "      <td>California</td>\n",
       "      <td>Menlo Park</td>\n",
       "      <td>1 Hacker Way</td>\n",
       "      <td>94025</td>\n",
       "      <td>ipo</td>\n",
       "      <td>Meta is a social technology company that enabl...</td>\n",
       "      <td>Augmented Reality,Social Media,Social Network,...</td>\n",
       "      <td>Hardware,Internet Services,Media and Entertain...</td>\n",
       "      <td>16.0</td>\n",
       "      <td>2.462282e+10</td>\n",
       "      <td>2.462282e+10</td>\n",
       "      <td>USD</td>\n",
       "      <td>2004-02-04</td>\n",
       "      <td>2022-08-04</td>\n",
       "    </tr>\n",
       "  </tbody>\n",
       "</table>\n",
       "</div>"
      ],
      "text/plain": [
       "       region          city                      address postal_code  \\\n",
       "0    New York      New York  902 Broadway 11th Floor New       10010   \n",
       "1  California    Pleasanton                          NaN         NaN   \n",
       "2    New York      New York                          NaN         NaN   \n",
       "3  California  Redwood City      1991 Broadway Suite 200       94063   \n",
       "4  California    Menlo Park                 1 Hacker Way       94025   \n",
       "\n",
       "      status                                  short_description  \\\n",
       "0   acquired  Wetpaint offers an online social publishing pl...   \n",
       "1  operating  Zoho offers a suite of business, collaboration...   \n",
       "2   acquired  Digg Inc. operates a website that enables its ...   \n",
       "3  operating             Omidyar Network is an investment firm.   \n",
       "4        ipo  Meta is a social technology company that enabl...   \n",
       "\n",
       "                                       category_list  \\\n",
       "0    Publishing,Social Media,Social Media Management   \n",
       "1  Cloud Computing,Collaboration,Developer Tools,...   \n",
       "2               Internet,Social Media,Social Network   \n",
       "3  Enterprise Software,Financial Services,Venture...   \n",
       "4  Augmented Reality,Social Media,Social Network,...   \n",
       "\n",
       "                                category_groups_list  num_funding_rounds  \\\n",
       "0  Content and Publishing,Internet Services,Media...                 3.0   \n",
       "1  Administrative Services,Apps,Information Techn...                 NaN   \n",
       "2          Internet Services,Media and Entertainment                 6.0   \n",
       "3  Financial Services,Lending and Investments,Sof...                 NaN   \n",
       "4  Hardware,Internet Services,Media and Entertain...                16.0   \n",
       "\n",
       "   total_funding_usd  total_funding total_funding_currency_code founded_on  \\\n",
       "0       3.975000e+07   3.975000e+07                         USD 2005-06-01   \n",
       "1                NaN            NaN                         NaN 1996-03-17   \n",
       "2       4.900000e+07   4.900000e+07                         USD 2004-10-11   \n",
       "3                NaN            NaN                         NaN 2004-01-01   \n",
       "4       2.462282e+10   2.462282e+10                         USD 2004-02-04   \n",
       "\n",
       "  last_funding_on  \n",
       "0      2008-05-19  \n",
       "1             NaN  \n",
       "2      2016-09-13  \n",
       "3             NaN  \n",
       "4      2022-08-04  "
      ]
     },
     "execution_count": 6,
     "metadata": {},
     "output_type": "execute_result"
    }
   ],
   "source": [
    "df_organizations.iloc[:5, 14:28]"
   ]
  },
  {
   "cell_type": "code",
   "execution_count": 7,
   "id": "7bd4df8f-135d-4bab-8915-41c26aa14a2c",
   "metadata": {
    "tags": []
   },
   "outputs": [
    {
     "data": {
      "text/html": [
       "<div>\n",
       "<style scoped>\n",
       "    .dataframe tbody tr th:only-of-type {\n",
       "        vertical-align: middle;\n",
       "    }\n",
       "\n",
       "    .dataframe tbody tr th {\n",
       "        vertical-align: top;\n",
       "    }\n",
       "\n",
       "    .dataframe thead th {\n",
       "        text-align: right;\n",
       "    }\n",
       "</style>\n",
       "<table border=\"1\" class=\"dataframe\">\n",
       "  <thead>\n",
       "    <tr style=\"text-align: right;\">\n",
       "      <th></th>\n",
       "      <th>closed_on</th>\n",
       "      <th>employee_count</th>\n",
       "      <th>email</th>\n",
       "      <th>phone</th>\n",
       "      <th>facebook_url</th>\n",
       "      <th>linkedin_url</th>\n",
       "      <th>twitter_url</th>\n",
       "      <th>logo_url</th>\n",
       "      <th>alias1</th>\n",
       "      <th>alias2</th>\n",
       "      <th>alias3</th>\n",
       "      <th>primary_role</th>\n",
       "      <th>num_exits</th>\n",
       "      <th>area</th>\n",
       "    </tr>\n",
       "  </thead>\n",
       "  <tbody>\n",
       "    <tr>\n",
       "      <th>0</th>\n",
       "      <td>NaT</td>\n",
       "      <td>51-100</td>\n",
       "      <td>info@wetpaint.com</td>\n",
       "      <td>206-859-6300</td>\n",
       "      <td>https://www.facebook.com/Wetpaint</td>\n",
       "      <td>https://www.linkedin.com/company/recruitment-c...</td>\n",
       "      <td>https://twitter.com/wetpainttv</td>\n",
       "      <td>https://images.crunchbase.com/image/upload/t_c...</td>\n",
       "      <td>NaN</td>\n",
       "      <td>NaN</td>\n",
       "      <td>NaN</td>\n",
       "      <td>company</td>\n",
       "      <td>NaN</td>\n",
       "      <td>USA</td>\n",
       "    </tr>\n",
       "    <tr>\n",
       "      <th>1</th>\n",
       "      <td>NaT</td>\n",
       "      <td>10000+</td>\n",
       "      <td>sales@zohocorp.com</td>\n",
       "      <td>044 - 67447070</td>\n",
       "      <td>http://www.facebook.com/zoho</td>\n",
       "      <td>https://www.linkedin.com/company/zoho</td>\n",
       "      <td>http://twitter.com/zoho</td>\n",
       "      <td>https://images.crunchbase.com/image/upload/t_c...</td>\n",
       "      <td>NaN</td>\n",
       "      <td>NaN</td>\n",
       "      <td>NaN</td>\n",
       "      <td>company</td>\n",
       "      <td>2.0</td>\n",
       "      <td>USA</td>\n",
       "    </tr>\n",
       "    <tr>\n",
       "      <th>2</th>\n",
       "      <td>NaT</td>\n",
       "      <td>51-100</td>\n",
       "      <td>feedback@digg.com</td>\n",
       "      <td>877-342-7222</td>\n",
       "      <td>http://www.facebook.com/digg</td>\n",
       "      <td>http://www.linkedin.com/company/digg</td>\n",
       "      <td>http://twitter.com/digg</td>\n",
       "      <td>https://images.crunchbase.com/image/upload/t_c...</td>\n",
       "      <td>NaN</td>\n",
       "      <td>NaN</td>\n",
       "      <td>NaN</td>\n",
       "      <td>company</td>\n",
       "      <td>NaN</td>\n",
       "      <td>USA</td>\n",
       "    </tr>\n",
       "    <tr>\n",
       "      <th>3</th>\n",
       "      <td>NaT</td>\n",
       "      <td>101-250</td>\n",
       "      <td>info@omidyar.com</td>\n",
       "      <td>650.482.2500</td>\n",
       "      <td>http://www.facebook.com/OmidyarNetwork</td>\n",
       "      <td>http://www.linkedin.com/company/22806</td>\n",
       "      <td>http://twitter.com/OmidyarNetwork</td>\n",
       "      <td>https://images.crunchbase.com/image/upload/t_c...</td>\n",
       "      <td>NaN</td>\n",
       "      <td>NaN</td>\n",
       "      <td>NaN</td>\n",
       "      <td>investor</td>\n",
       "      <td>59.0</td>\n",
       "      <td>USA</td>\n",
       "    </tr>\n",
       "    <tr>\n",
       "      <th>4</th>\n",
       "      <td>NaT</td>\n",
       "      <td>10000+</td>\n",
       "      <td>NaN</td>\n",
       "      <td>NaN</td>\n",
       "      <td>https://www.facebook.com/Meta</td>\n",
       "      <td>https://www.linkedin.com/company/meta</td>\n",
       "      <td>https://www.twitter.com/Meta</td>\n",
       "      <td>https://images.crunchbase.com/image/upload/t_c...</td>\n",
       "      <td>Facebook</td>\n",
       "      <td>Facebook, Inc.</td>\n",
       "      <td>NaN</td>\n",
       "      <td>company</td>\n",
       "      <td>1.0</td>\n",
       "      <td>USA</td>\n",
       "    </tr>\n",
       "  </tbody>\n",
       "</table>\n",
       "</div>"
      ],
      "text/plain": [
       "  closed_on employee_count               email           phone  \\\n",
       "0       NaT         51-100   info@wetpaint.com    206-859-6300   \n",
       "1       NaT         10000+  sales@zohocorp.com  044 - 67447070   \n",
       "2       NaT         51-100   feedback@digg.com    877-342-7222   \n",
       "3       NaT        101-250    info@omidyar.com    650.482.2500   \n",
       "4       NaT         10000+                 NaN             NaN   \n",
       "\n",
       "                             facebook_url  \\\n",
       "0       https://www.facebook.com/Wetpaint   \n",
       "1            http://www.facebook.com/zoho   \n",
       "2            http://www.facebook.com/digg   \n",
       "3  http://www.facebook.com/OmidyarNetwork   \n",
       "4           https://www.facebook.com/Meta   \n",
       "\n",
       "                                        linkedin_url  \\\n",
       "0  https://www.linkedin.com/company/recruitment-c...   \n",
       "1              https://www.linkedin.com/company/zoho   \n",
       "2               http://www.linkedin.com/company/digg   \n",
       "3              http://www.linkedin.com/company/22806   \n",
       "4              https://www.linkedin.com/company/meta   \n",
       "\n",
       "                         twitter_url  \\\n",
       "0     https://twitter.com/wetpainttv   \n",
       "1            http://twitter.com/zoho   \n",
       "2            http://twitter.com/digg   \n",
       "3  http://twitter.com/OmidyarNetwork   \n",
       "4       https://www.twitter.com/Meta   \n",
       "\n",
       "                                            logo_url    alias1  \\\n",
       "0  https://images.crunchbase.com/image/upload/t_c...       NaN   \n",
       "1  https://images.crunchbase.com/image/upload/t_c...       NaN   \n",
       "2  https://images.crunchbase.com/image/upload/t_c...       NaN   \n",
       "3  https://images.crunchbase.com/image/upload/t_c...       NaN   \n",
       "4  https://images.crunchbase.com/image/upload/t_c...  Facebook   \n",
       "\n",
       "           alias2 alias3 primary_role  num_exits area  \n",
       "0             NaN    NaN      company        NaN  USA  \n",
       "1             NaN    NaN      company        2.0  USA  \n",
       "2             NaN    NaN      company        NaN  USA  \n",
       "3             NaN    NaN     investor       59.0  USA  \n",
       "4  Facebook, Inc.    NaN      company        1.0  USA  "
      ]
     },
     "execution_count": 7,
     "metadata": {},
     "output_type": "execute_result"
    }
   ],
   "source": [
    "df_organizations.iloc[:5, 28:42]"
   ]
  },
  {
   "cell_type": "code",
   "execution_count": 8,
   "id": "4c67977a-43b2-4dd1-a1ea-e2eb9c3f50e6",
   "metadata": {
    "tags": []
   },
   "outputs": [
    {
     "data": {
      "text/plain": [
       "type\n",
       "organization    3090736\n",
       "Name: count, dtype: int64"
      ]
     },
     "execution_count": 8,
     "metadata": {},
     "output_type": "execute_result"
    }
   ],
   "source": [
    "df_organizations['type'].value_counts()"
   ]
  },
  {
   "cell_type": "code",
   "execution_count": 9,
   "id": "8b968fb4-28e6-47e8-8736-95e4e2445738",
   "metadata": {
    "tags": []
   },
   "outputs": [
    {
     "data": {
      "text/plain": [
       "primary_role\n",
       "company     2978252\n",
       "investor      88165\n",
       "school        24319\n",
       "Name: count, dtype: int64"
      ]
     },
     "execution_count": 9,
     "metadata": {},
     "output_type": "execute_result"
    }
   ],
   "source": [
    "df_organizations['primary_role'].value_counts()"
   ]
  },
  {
   "cell_type": "code",
   "execution_count": 10,
   "id": "8468bbf1-aedd-4320-bc78-907f6743d571",
   "metadata": {
    "tags": []
   },
   "outputs": [
    {
     "data": {
      "image/png": "[encoded data removed]",
      "text/plain": [
       "<Figure size 500x400 with 1 Axes>"
      ]
     },
     "metadata": {},
     "output_type": "display_data"
    },
    {
     "data": {
      "image/png": "[encoded data removed]",
      "text/plain": [
       "<Figure size 500x400 with 1 Axes>"
      ]
     },
     "metadata": {},
     "output_type": "display_data"
    },
    {
     "data": {
      "image/png": "[encoded data removed]",
      "text/plain": [
       "<Figure size 500x400 with 1 Axes>"
      ]
     },
     "metadata": {},
     "output_type": "display_data"
    },
    {
     "data": {
      "image/png": "[encoded data removed]",
      "text/plain": [
       "<Figure size 500x400 with 1 Axes>"
      ]
     },
     "metadata": {},
     "output_type": "display_data"
    }
   ],
   "source": [
    "for col in ['founded_on', 'closed_on', 'category_groups_list', 'category_list']:\n",
    "    values, counts = np.unique(~df_organizations[col].isna(), return_counts = True)\n",
    "    percents = 100 * counts / counts.sum()\n",
    "    Delta_y = percents.max() * 1/100\n",
    "\n",
    "    fig, ax = plt.subplots(figsize = (5, 4))\n",
    "    ax.bar(x = range(len(values)), height = percents)\n",
    "    for tick in ax.yaxis.get_major_ticks():\n",
    "        tick.tick1line.set_visible(False)\n",
    "        tick.tick2line.set_visible(False)\n",
    "    ax.set_xticks(range(len(values)), values)\n",
    "    for i in range(len(values)):\n",
    "        plt.text(i, percents[i] + Delta_y, f'{percents[i]:.1f}% ({counts[i]})', ha = 'center')\n",
    "    ax.set_ylabel('percent')\n",
    "    ax.set_title(col + '\\nhas a value')\n",
    "    plt.savefig(path_images + 'has_value.png', bbox_inches = 'tight')\n",
    "    plt.show()"
   ]
  },
  {
   "cell_type": "markdown",
   "id": "78565fb5-dc22-43c4-be59-82b89a1c0a24",
   "metadata": {},
   "source": [
    "## Settori di mercato"
   ]
  },
  {
   "cell_type": "code",
   "execution_count": 11,
   "id": "7ca75928-0ef7-4acb-a19b-7a04d9e448bc",
   "metadata": {
    "tags": []
   },
   "outputs": [
    {
     "name": "stdout",
     "output_type": "stream",
     "text": [
      "Selected organizations: 2159883 among 3090736.\n",
      "N. of generic sectors: 47\n",
      "\n"
     ]
    },
    {
     "data": {
      "text/plain": [
       "category_groups_list\n",
       "Software                            492612\n",
       "Professional Services               391410\n",
       "Information Technology              351407\n",
       "Other                               328191\n",
       "Sales and Marketing                 279285\n",
       "Media and Entertainment             268862\n",
       "Commerce and Shopping               268021\n",
       "Manufacturing                       263331\n",
       "Financial Services                  260425\n",
       "Health Care                         246337\n",
       "Internet Services                   243574\n",
       "Real Estate                         226309\n",
       "Design                              205463\n",
       "Hardware                            200460\n",
       "Science and Engineering             190710\n",
       "Advertising                         134948\n",
       "Transportation                      132120\n",
       "Education                           131754\n",
       "Data and Analytics                  119795\n",
       "Administrative Services             117859\n",
       "Community and Lifestyle              95254\n",
       "Consumer Electronics                 86102\n",
       "Food and Beverage                    85128\n",
       "Mobile                               85047\n",
       "Content and Publishing               84671\n",
       "Apps                                 78289\n",
       "Consumer Goods                       75540\n",
       "Lending and Investments              61114\n",
       "Energy                               60870\n",
       "Sustainability                       59531\n",
       "Privacy and Security                 59099\n",
       "Sports                               54799\n",
       "Travel and Tourism                   46666\n",
       "Video                                45363\n",
       "Natural Resources                    45151\n",
       "Events                               44884\n",
       "Artificial Intelligence              40197\n",
       "Biotechnology                        39886\n",
       "Clothing and Apparel                 39879\n",
       "Payments                             30064\n",
       "Music and Audio                      28747\n",
       "Government and Military              26335\n",
       "Gaming                               23698\n",
       "Agriculture and Farming              22111\n",
       "Messaging and Telecommunications     18989\n",
       "Platforms                            16017\n",
       "Navigation and Mapping                9250\n",
       "Name: count, dtype: int64"
      ]
     },
     "metadata": {},
     "output_type": "display_data"
    },
    {
     "name": "stdout",
     "output_type": "stream",
     "text": [
      "CPU times: user 2.03 s, sys: 158 ms, total: 2.19 s\n",
      "Wall time: 2.2 s\n"
     ]
    }
   ],
   "source": [
    "%%time\n",
    "\n",
    "rows_sel = (~df_organizations['category_groups_list'].isna()) & (df_organizations['founded_on'] > '1970-01-01')\n",
    "print(f'Selected organizations: {rows_sel.sum()} among {rows_sel.shape[0]}.')\n",
    "ser_generic_sectors_n = df_organizations.loc[rows_sel, 'category_groups_list'].str.split(',').explode().dropna().value_counts()\n",
    "print(f'N. of generic sectors: {ser_generic_sectors_n.shape[0]}\\n')\n",
    "display(ser_generic_sectors_n)"
   ]
  },
  {
   "cell_type": "code",
   "execution_count": 12,
   "id": "9c469c61-b4e9-4eac-aff7-499501a290b0",
   "metadata": {
    "tags": []
   },
   "outputs": [
    {
     "name": "stdout",
     "output_type": "stream",
     "text": [
      "Selected organizations: 2159883 among 3090736.\n",
      "N. of specific sectors: 743\n",
      "\n"
     ]
    },
    {
     "data": {
      "text/plain": [
       "category_list\n",
       "Software                  281558\n",
       "Information Technology    257105\n",
       "Consulting                230034\n",
       "Manufacturing             207698\n",
       "Health Care               184312\n",
       "                           ...  \n",
       "Roku                           7\n",
       "Darknet                        7\n",
       "Generation Y                   7\n",
       "RISC                           6\n",
       "Ultimate Frisbee               4\n",
       "Name: count, Length: 743, dtype: int64"
      ]
     },
     "metadata": {},
     "output_type": "display_data"
    },
    {
     "name": "stdout",
     "output_type": "stream",
     "text": [
      "CPU times: user 2.23 s, sys: 181 ms, total: 2.41 s\n",
      "Wall time: 2.46 s\n"
     ]
    }
   ],
   "source": [
    "%%time\n",
    "\n",
    "rows_sel = (~df_organizations['category_list'].isna()) & (df_organizations['founded_on'] > '1970-01-01')\n",
    "print(f'Selected organizations: {rows_sel.sum()} among {rows_sel.shape[0]}.')\n",
    "ser_specific_sectors_n = df_organizations.loc[rows_sel, 'category_list'].str.split(',').explode().dropna().value_counts()\n",
    "print(f'N. of specific sectors: {ser_specific_sectors_n.shape[0]}\\n')\n",
    "display(ser_specific_sectors_n)"
   ]
  },
  {
   "cell_type": "markdown",
   "id": "c6816c05-fb9c-4140-8052-0cc3f7625ce2",
   "metadata": {},
   "source": [
    "# Unicità delle compagnie"
   ]
  },
  {
   "cell_type": "code",
   "execution_count": 3,
   "id": "7ce4eb18-a19f-4d3c-b8e8-67ca22e6353e",
   "metadata": {
    "tags": []
   },
   "outputs": [
    {
     "data": {
      "text/plain": [
       "uuid\n",
       "000005f0-ac09-4c67-9086-92180e11b083    1\n",
       "aaabc21f-bd83-4478-8e0d-f00e48c9ad21    1\n",
       "aaab8fdf-eca9-d3cc-510b-d2cd9efcd261    1\n",
       "aaab9c5b-ea94-47b5-9b50-d253b4d15269    1\n",
       "aaab9e3e-f7c9-4f06-9fe8-88740275aff9    1\n",
       "                                       ..\n",
       "553fba12-3bfa-4694-b36e-8d4596a660b8    1\n",
       "553fd3bd-2936-44af-a38f-20797b6f7f5c    1\n",
       "553fd452-5de7-437a-8c93-b92a1a961401    1\n",
       "553fe35c-d589-6bf6-7af7-8edf25bfeda9    1\n",
       "fffff91b-f695-4301-90bd-3a402b4991a2    1\n",
       "Name: count, Length: 3090736, dtype: int64"
      ]
     },
     "execution_count": 3,
     "metadata": {},
     "output_type": "execute_result"
    }
   ],
   "source": [
    "ser_uuid = df_organizations.value_counts('uuid')\n",
    "ser_uuid"
   ]
  },
  {
   "cell_type": "code",
   "execution_count": 4,
   "id": "f6089889-e0c5-46da-a616-9f0646efbeed",
   "metadata": {},
   "outputs": [
    {
     "data": {
      "text/plain": [
       "1"
      ]
     },
     "execution_count": 4,
     "metadata": {},
     "output_type": "execute_result"
    }
   ],
   "source": [
    "ser_uuid.max()"
   ]
  },
  {
   "cell_type": "code",
   "execution_count": null,
   "id": "25177cb2-b066-481d-9d04-c246cf6f76c6",
   "metadata": {},
   "outputs": [],
   "source": []
  }
 ],
 "metadata": {
  "kernelspec": {
   "display_name": "Python 3 (ipykernel)",
   "language": "python",
   "name": "python3"
  },
  "language_info": {
   "codemirror_mode": {
    "name": "ipython",
    "version": 3
   },
   "file_extension": ".py",
   "mimetype": "text/x-python",
   "name": "python",
   "nbconvert_exporter": "python",
   "pygments_lexer": "ipython3",
   "version": "3.11.5"
  }
 },
 "nbformat": 4,
 "nbformat_minor": 5
}
