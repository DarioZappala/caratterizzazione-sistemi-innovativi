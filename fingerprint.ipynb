{
 "cells": [
  {
   "cell_type": "code",
   "execution_count": 3,
   "metadata": {},
   "outputs": [
    {
     "data": {
      "text/html": [
       "<style>.container { width:100% !important; }</style>"
      ],
      "text/plain": [
       "<IPython.core.display.HTML object>"
      ]
     },
     "metadata": {},
     "output_type": "display_data"
    },
    {
     "data": {
      "text/html": [
       "<style>.container { width:100% !important; }</style>"
      ],
      "text/plain": [
       "<IPython.core.display.HTML object>"
      ]
     },
     "metadata": {},
     "output_type": "display_data"
    }
   ],
   "source": [
    "from collections import defaultdict,OrderedDict\n",
    "import seaborn as sns\n",
    "import matplotlib.pyplot as plt\n",
    "import pandas as pd\n",
    "import glob\n",
    "import os\n",
    "from sklearn.preprocessing import MultiLabelBinarizer\n",
    "\n",
    "    \n",
    "pd.set_option('display.max_columns', None)\n",
    "from sklearn.linear_model import LinearRegression\n",
    "\n",
    "from scipy.stats import entropy\n",
    "import string\n",
    "\n",
    "\n",
    "import datetime\n",
    "import numpy as np\n",
    "from joblib import Parallel, delayed\n",
    "from time import sleep\n",
    "from utils import *\n",
    "from sklearn.mixture import BayesianGaussianMixture\n",
    "import scipy.stats as stats\n",
    "from scipy.cluster.hierarchy import linkage, dendrogram, fcluster\n",
    "import importlib\n",
    "import utils\n",
    "import warnings\n",
    "\n",
    "from IPython.core.display import display, HTML\n",
    "display(HTML(\"<style>.container { width:100% !important; }</style>\"))\n",
    "plt.rcParams.update({'font.size': 14})\n",
    "warnings.filterwarnings(\"ignore\", category=DeprecationWarning)\n",
    "warnings.filterwarnings(\"ignore\", category=pd.core.common.SettingWithCopyWarning)\n",
    "import networkx as nx\n",
    "\n",
    "import pandas as pd\n",
    "import leidenalg\n",
    "import igraph as ig\n",
    "import seaborn as sns\n",
    "from pyvis.network import Network\n",
    "from IPython.display import display, HTML\n",
    "\n",
    "importlib.reload(utils)\n",
    "import webbrowser\n"
   ]
  },
  {
   "cell_type": "code",
   "execution_count": 4,
   "metadata": {},
   "outputs": [],
   "source": [
    "def create_category_graph(df):\n",
    "    G = nx.Graph()\n",
    "    for row in df.itertuples(index=False):\n",
    "        categories = row.category_list.split(',')\n",
    "        for cat1, cat2 in zip(categories, categories[1:]):\n",
    "            cat1 = cat1.strip()\n",
    "            cat2 = cat2.strip()\n",
    "            if G.has_edge(cat1, cat2):\n",
    "                G[cat1][cat2]['weight'] += 1\n",
    "            else:\n",
    "                G.add_edge(cat1, cat2, weight=1)\n",
    "    return G\n",
    "\n",
    "def networkx_to_igraph(nx_graph):\n",
    "    ig_graph = ig.Graph(directed=nx_graph.is_directed())\n",
    "    mapping = {name: idx for idx, name in enumerate(nx_graph.nodes())}\n",
    "    \n",
    "    ig_graph.add_vertices(len(mapping))\n",
    "    for name, idx in mapping.items():\n",
    "        ig_graph.vs[idx]['name'] = name\n",
    "\n",
    "    edges = [(mapping[u], mapping[v]) for u, v in nx_graph.edges()]\n",
    "    ig_graph.add_edges(edges)\n",
    "    weights = [nx_graph[u][v]['weight'] for u, v in nx_graph.edges()]\n",
    "    ig_graph.es['weight'] = weights\n",
    "    \n",
    "    return ig_graph\n",
    "\n",
    "def print_random_node_properties(graph, num_nodes=10):\n",
    "    # Ensure we don't try to sample more nodes than exist in the graph\n",
    "    num_nodes = min(num_nodes, len(graph.nodes))\n",
    "\n",
    "    # Sample random nodes\n",
    "    random_nodes = random.sample(graph.nodes, num_nodes)\n",
    "\n",
    "    # Print the properties of the sampled nodes\n",
    "    for node in random_nodes:\n",
    "        print(f\"Node: {node}\")\n",
    "        for key, value in graph.nodes[node].items():\n",
    "            print(f\"  {key}: {value}\")\n",
    "        print()  # Print a blank line for better readability\n",
    "\n",
    "def show_clusters(df,\n",
    "                  dimension_labels,\n",
    "                  colors,\n",
    "                  Z,\n",
    "                  normalized=True, \n",
    "                  difference=False,\n",
    "                  clusters = 7):\n",
    "\n",
    "    cluster_labels = fcluster(Z, t=clusters, criterion='maxclust')\n",
    "\n",
    "    # Extract the fingerprint of each cluster\n",
    "    fingerprints = []\n",
    "    for cluster in range(1, clusters+1):\n",
    "        cluster_members = df.iloc[cluster_labels == cluster]\n",
    "        fingerprint = cluster_members.mean().values\n",
    "        fingerprints.append(fingerprint)\n",
    "\n",
    "\n",
    "    # Number of arrays and dimensions\n",
    "    if normalized:\n",
    "        normalized_arrays = [array / np.sum(array) for array in fingerprints]\n",
    "        if difference:\n",
    "            rep_fing = normalized_arrays[0]\n",
    "            normalized_arrays = [rep_fing - fing for fing in normalized_arrays]\n",
    "    else:\n",
    "        normalized_arrays = fingerprints\n",
    "\n",
    "    n_arrays = len(normalized_arrays)\n",
    "    n_dimensions = len(normalized_arrays[0])\n",
    "\n",
    "    # X locations for the groups\n",
    "    indices = np.arange(n_arrays)\n",
    "\n",
    "    # Width of a bar\n",
    "    bar_width = 0.1\n",
    "\n",
    "    # Create a figure and an axis\n",
    "    fig, ax = plt.subplots(figsize=(20, 6))\n",
    "\n",
    "    # Generate bars for each dimension and add labels\n",
    "    for j in range(n_dimensions):\n",
    "        values = [array[j] for array in normalized_arrays]\n",
    "        ax.bar(indices + j * bar_width, values, bar_width, color=colors[j], label=dimension_labels[j])\n",
    "\n",
    "    # Add some text for labels, title, and axes ticks\n",
    "    ax.set_xlabel('Cities Fingerprints')\n",
    "    ax.set_ylabel('Values')\n",
    "    ax.set_title('Bar Chart of Arrays')\n",
    "    ax.set_xticks(indices + bar_width * (n_dimensions - 1) / 2)\n",
    "    ax.set_xticklabels([f'Cluster {i+1}' for i in range(n_arrays)])\n",
    "\n",
    "    # Create custom legend\n",
    "    legend_handles = [plt.Line2D([0], [0], color=colors[i], lw=4) for i in range(n_dimensions)]\n",
    "    bbox_coords = (1.02, 0.5)  # x, y coordinates for the legend box\n",
    "    ax.legend(legend_handles, dimension_labels, title=\"Dimensions\", bbox_to_anchor=bbox_coords, loc='center left', borderaxespad=0.)\n",
    "    # Display the plot\n",
    "    plt.tight_layout()\n",
    "    plt.show()"
   ]
  },
  {
   "cell_type": "code",
   "execution_count": 5,
   "metadata": {},
   "outputs": [],
   "source": [
    "groups = {\n",
    "    'ExCo': ['ceo', 'cto', 'cfo', 'coo', 'cmo', 'cio', 'cso', 'cpo', 'cco', 'cro', 'svp', 'evp', 'cdo', 'cbo', 'cxo'],\n",
    "    'Founder': ['founder'],\n",
    "    'Engineering': ['software engineer', 'data scientist'],\n",
    "    'Leadership': ['president', 'managing director', 'director', 'vp', 'chairman', 'executive director', 'general manager', 'vp engineering'],\n",
    "    'Board': ['board member', 'member board director', 'board directors', 'chairman board', 'advisory board member', 'board observer'],\n",
    "    'Ownership': ['owner', 'partner', 'managing partner', 'founding partner'],\n",
    "    'Investor':['investor'],\n",
    "    'Advisory': ['advisor', 'consultant'],\n",
    "    'Other': ['member', 'team member', 'associate', 'product manager', 'principal']\n",
    "}"
   ]
  },
  {
   "cell_type": "code",
   "execution_count": 7,
   "metadata": {},
   "outputs": [],
   "source": [
    "df_org         = pd.read_csv('../data/organizations.csv')\n",
    "df_jobs        = pd.read_csv('../data/jobs.csv')\n",
    "df_people      = pd.read_csv('../data/people.csv')\n",
    "# df_fund_rounds = pd.read_csv('../data/funding_rounds.csv')\n",
    "# df_ipos        = pd.read_csv('../data/ipos.csv')"
   ]
  },
  {
   "cell_type": "code",
   "execution_count": 8,
   "metadata": {},
   "outputs": [],
   "source": [
    "pple_new_roles = df_jobs.copy()\n",
    "pple_new_roles['cleaned_title'] = pple_new_roles['title'].apply(lambda x: clean_text(x))\n",
    "sorted_counts = pple_new_roles.groupby('cleaned_title')['cleaned_title'].count().sort_values(ascending=False)\n",
    "sorted_counts_df = sorted_counts.reset_index(name='count')"
   ]
  },
  {
   "cell_type": "code",
   "execution_count": 9,
   "metadata": {},
   "outputs": [],
   "source": [
    "chief_job_dataframe = (\n",
    "    find_job_word(sorted_counts_df,'cleaned_title','chief')\n",
    "    .groupby('cleaned_title')\n",
    "    .size()\n",
    "    .reset_index(name='count')\n",
    "    .sort_values(by='count', ascending=False)\n",
    "    .rename(columns={'index': 'chief_jobs'})\n",
    ")"
   ]
  },
  {
   "cell_type": "markdown",
   "metadata": {},
   "source": [
    "## Chief analysis"
   ]
  },
  {
   "cell_type": "code",
   "execution_count": 10,
   "metadata": {},
   "outputs": [],
   "source": [
    "cumulative_chief = (\n",
    "    find_job_word(sorted_counts_df,'cleaned_title','chief')\n",
    "    .reset_index()  # Reset the index to make it a column\n",
    "    .assign(cumulative_count=lambda x: x['count'].cumsum())  # Add a new column with cumulative sum\n",
    ")\n",
    "\n",
    "norm = cumulative_chief['cumulative_count'].tail(1).values[0]\n",
    "cumulative_chief['percentage_cumulative']=cumulative_chief['cumulative_count']/norm\n",
    "cumulative_chief['abbreviated_cleaned_title']=cumulative_chief['cleaned_title'].apply(abbreviate_title)\n",
    "\n",
    "cumulative_chief['abbreviated_cleaned_title_round2']=cumulative_chief['abbreviated_cleaned_title'].apply(abbreviate_title_round_2)\n",
    "\n",
    "cumulative_chief['abbreviated_cleaned_title_round3']=cumulative_chief['abbreviated_cleaned_title_round2'].apply(lambda x: remove_executives(x))\n",
    "# cumulative_chief.head(5)\n",
    "\n",
    "# cumulative_chief[cumulative_chief['percentage_cumulative']<0.60]\n",
    "\n",
    "chief_df = find_job_word(sorted_counts_df,'cleaned_title','chief')\n",
    "chief_df['abbreviated_cleaned_title']=chief_df['cleaned_title'].apply(abbreviate_title)\n",
    "chief_df['abbreviated_cleaned_title_round2']=chief_df['abbreviated_cleaned_title'].apply(abbreviate_title_round_2)\n",
    "chief_df['abbreviated_cleaned_title_round3']=chief_df['abbreviated_cleaned_title_round2'].apply(lambda x: remove_executives(x))\n"
   ]
  },
  {
   "cell_type": "code",
   "execution_count": 11,
   "metadata": {},
   "outputs": [],
   "source": [
    "# Create a dictionary mapping cleaned_title to abbreviated_cleaned_title_round3\n",
    "title_mapping = chief_df.set_index('cleaned_title')['abbreviated_cleaned_title_round3'].to_dict()\n",
    "\n",
    "# Merge df1 and df2, keeping all rows from df1\n",
    "new_df = pd.merge(pple_new_roles, chief_df[['cleaned_title', 'abbreviated_cleaned_title_round3']], \n",
    "                  how='left', \n",
    "                  on='cleaned_title')\n",
    "\n",
    "# Create the final_title column\n",
    "new_df['final_title'] = new_df['cleaned_title'].where(\n",
    "    ~new_df['cleaned_title'].isin(title_mapping),\n",
    "    new_df['abbreviated_cleaned_title_round3']\n",
    ")\n",
    "\n",
    "new_df = new_df.dropna(subset=['started_on'])\n",
    "\n",
    "new_df['final_final_title'] = new_df['final_title'].apply(move_founder_to_end)"
   ]
  },
  {
   "cell_type": "code",
   "execution_count": 12,
   "metadata": {},
   "outputs": [],
   "source": [
    "# mask = new_df['title'].str.contains('director', case=False, regex=True) & new_df['title'].notna()\n",
    "# chief_titles = new_df[mask]\n",
    "# chief_titles.groupby(by=['job_type']).count()\n",
    "\n",
    "# tmp_df = new_df\\\n",
    "#     .groupby('final_final_title')\\\n",
    "#     .size()\\\n",
    "#     .reset_index(name='count')\\\n",
    "#     .sort_values(by='count', ascending=False)\\\n",
    "#     .rename(columns={'index': 'three_letter_title'}).head(60)\n",
    "\n",
    "# cumulative_tmp_df = (\n",
    "#     tmp_df\n",
    "#     .reset_index()  # Reset the index to make it a column\n",
    "#     .assign(cumulative_count=lambda x: x['count'].cumsum())  # Add a new column with cumulative sum\n",
    "# )\n",
    "\n",
    "# norm = cumulative_tmp_df['cumulative_count'].tail(1).values[0]\n",
    "\n",
    "# cumulative_tmp_df['percentage_cumulative']=cumulative_tmp_df['cumulative_count']/norm\n",
    "\n",
    "# cumulative_tmp_df.head(10)"
   ]
  },
  {
   "cell_type": "code",
   "execution_count": 13,
   "metadata": {},
   "outputs": [],
   "source": [
    "tmp_df = new_df\\\n",
    "    .groupby('final_final_title')\\\n",
    "    .size()\\\n",
    "    .reset_index(name='count')\\\n",
    "    .sort_values(by='count', ascending=False)\\\n",
    "    .rename(columns={'index': 'three_letter_title'}).head(60)\n",
    "\n",
    "cumulative_tmp_df = (\n",
    "    tmp_df\n",
    "    .reset_index()  # Reset the index to make it a column\n",
    "    .assign(cumulative_count=lambda x: x['count'].cumsum())  # Add a new column with cumulative sum\n",
    ")\n",
    "\n",
    "norm = cumulative_tmp_df['cumulative_count'].tail(1).values[0]\n",
    "\n",
    "cumulative_tmp_df['percentage_cumulative']=cumulative_tmp_df['cumulative_count']/norm\n",
    "\n",
    "# cumulative_tmp_df.head(10)"
   ]
  },
  {
   "cell_type": "code",
   "execution_count": 14,
   "metadata": {},
   "outputs": [],
   "source": [
    "three_letter_titles = (\n",
    "    new_df[new_df['cleaned_title'].str.len() == 3]\n",
    "    .groupby('cleaned_title')\n",
    "    .size()\n",
    "    .reset_index(name='count')\n",
    "    .sort_values(by='count', ascending=False)\n",
    "    .rename(columns={'index': 'three_letter_title'})\n",
    ")\n",
    "\n",
    "cumulative_three_letter = (\n",
    "    three_letter_titles\n",
    "    .reset_index()  # Reset the index to make it a column\n",
    "    .assign(cumulative_count=lambda x: x['count'].cumsum())  # Add a new column with cumulative sum\n",
    ")\n",
    "\n",
    "norm = cumulative_three_letter['cumulative_count'].tail(1).values[0]\n",
    "\n",
    "cumulative_three_letter['percentage_cumulative']=cumulative_three_letter['cumulative_count']/norm\n",
    "\n",
    "# cumulative_three_letter.head(10)"
   ]
  },
  {
   "cell_type": "code",
   "execution_count": 15,
   "metadata": {},
   "outputs": [],
   "source": [
    "# Call the group_roles function\n",
    "grouped_df = group_roles(new_df, 'final_final_title', groups)\n",
    "grouped_df['group'] = grouped_df['group'].apply(lambda x: x if isinstance(x, list) else [x])"
   ]
  },
  {
   "cell_type": "code",
   "execution_count": 16,
   "metadata": {},
   "outputs": [],
   "source": [
    "df_jobs_cleaned = grouped_df[['started_on','org_uuid','group']]\n",
    "df_jobs_cleaned['started_on'] = pd.to_datetime(df_jobs_cleaned['started_on'], errors='coerce')\n",
    "df_jobs_cleaned = df_jobs_cleaned[df_jobs_cleaned['started_on'].notna()]\n",
    "\n",
    "df_org_foundation = df_org[['uuid', 'founded_on','country_code','city','total_funding_usd']]\n",
    "# Convert the 'founded_on' column to datetime\n",
    "df_org_foundation['founded_on'] = pd.to_datetime(df_org_foundation['founded_on'], errors='coerce')\n",
    "# Drop rows with NaN values (including out-of-bounds datetime)\n",
    "df_org_foundation = df_org_foundation[df_org_foundation['founded_on'].notna()]\n",
    "df_org_foundation = df_org_foundation[df_org_foundation['country_code'].notna()]\n",
    "\n",
    "dimension_labels = list(groups.keys())\n"
   ]
  },
  {
   "cell_type": "code",
   "execution_count": 17,
   "metadata": {},
   "outputs": [],
   "source": [
    "colors = sns.color_palette(\"tab10\", n_colors=len(dimension_labels))"
   ]
  },
  {
   "cell_type": "code",
   "execution_count": 29,
   "metadata": {},
   "outputs": [
    {
     "data": {
      "text/plain": [
       "22"
      ]
     },
     "execution_count": 29,
     "metadata": {},
     "output_type": "execute_result"
    }
   ],
   "source": [
    "start_year = 2000\n",
    "end_year = start_year+1\n",
    "df_org_filtered  = filter_by_year_range(df_org_foundation,'founded_on',start_year,end_year)\n",
    "df_jobs_filtered = filter_by_year_range(df_jobs_cleaned,'started_on',start_year,end_year)\n",
    "\n",
    "# Count the occurrences of cities in df_org_filtered\n",
    "city_counts = df_org_filtered['city'].value_counts()\n",
    "\n",
    "# Filter the city counts based on the minimum count\n",
    "minimum_count = 100\n",
    "filtered_city_counts = city_counts[city_counts >= minimum_count]\n",
    "\n",
    "# df_tmp = pd.DataFrame(filtered_city_counts).reset_index().rename(columns={'index':'city','city':'count'})\n",
    "\n",
    "df_org_filtered = df_org_filtered[df_org_filtered.city.isin(filtered_city_counts.index.tolist())]\n",
    "\n",
    "df_merge = pd.merge(df_org_filtered, df_jobs_filtered, left_on='uuid',right_on='org_uuid')\n",
    "\n",
    "# Explode the 'groups' column into rows\n",
    "exploded = df_merge.explode('group').reset_index(drop=True)\n",
    "\n",
    "# Count the occurrences of unique elements, grouped by 'city' and 'groups'\n",
    "group_counts = exploded.groupby(['city', 'group']).size().reset_index(name='count')\n",
    "\n",
    "# Pivot the data to have the groups as columns\n",
    "pivoted = group_counts.pivot(index='city', columns='group', values='count').fillna(0)\n",
    "\n",
    "city_totals = pivoted.sum(axis=1)\n",
    "\n",
    "minimum_count = 100\n",
    "filtered_pivoted = pivoted[city_totals >= minimum_count]\n",
    "\n",
    "len(filtered_pivoted)"
   ]
  },
  {
   "cell_type": "code",
   "execution_count": 30,
   "metadata": {},
   "outputs": [],
   "source": [
    "# # Create the HDBSCAN clustering\n",
    "# clusterer = hdbscan.HDBSCAN(metric='euclidean', cluster_selection_method='eom')\n",
    "# cluster_labels = clusterer.fit_predict(filtered_pivoted)\n",
    "\n",
    "# # Print the cluster labels\n",
    "# print(\"Cluster labels:\", cluster_labels)\n",
    "\n",
    "# # Plot the dendrogram\n",
    "# clusterer.condensed_tree_.plot(select_clusters=True)\n",
    "# plt.title(\"Dendrogram\")\n",
    "# plt.show()"
   ]
  },
  {
   "cell_type": "code",
   "execution_count": 31,
   "metadata": {},
   "outputs": [
    {
     "data": {
      "image/png": "[encoded data removed]",
      "text/plain": [
       "<Figure size 1440x576 with 1 Axes>"
      ]
     },
     "metadata": {
      "needs_background": "light"
     },
     "output_type": "display_data"
    }
   ],
   "source": [
    "normalized_pivoted = filtered_pivoted.apply(lambda row: row / row.sum(), axis=1)\n",
    "\n",
    "Z = linkage(normalized_pivoted, method='ward')\n",
    "\n",
    "max_d = max(Z[:, 2])\n",
    "\n",
    "threshold = 0.23\n",
    "\n",
    "clusters = fcluster(Z, t=threshold, criterion='distance')\n",
    "\n",
    "\n",
    "plt.figure(figsize=(20, 8))\n",
    "\n",
    "# Generate the dendrogram\n",
    "dendro = dendrogram(Z, labels=normalized_pivoted.index,show_leaf_counts=True,color_threshold=threshold)\n",
    "\n",
    "# Customize the tick label font size\n",
    "plt.setp(plt.gca().get_xticklabels(), fontsize=10)\n",
    "plt.setp(plt.gca().get_yticklabels(), fontsize=14)\n",
    "\n",
    "plt.title(\"Hierarchical Clustering Dendrogram\", fontsize=16)\n",
    "plt.xlabel(\"Cities\", fontsize=14)\n",
    "plt.ylabel(\"Distance\", fontsize=14)\n",
    "plt.xticks(rotation=80)  # Rotate x-axis labels if necessary\n",
    "\n",
    "plt.tight_layout()\n",
    "plt.show()"
   ]
  },
  {
   "cell_type": "code",
   "execution_count": 33,
   "metadata": {},
   "outputs": [
    {
     "data": {
      "image/png": "[encoded data removed]",
      "text/plain": [
       "<Figure size 1440x432 with 1 Axes>"
      ]
     },
     "metadata": {
      "needs_background": "light"
     },
     "output_type": "display_data"
    }
   ],
   "source": [
    "show_clusters(filtered_pivoted,\n",
    "              list(filtered_pivoted.columns),\n",
    "              colors,\n",
    "                  Z,\n",
    "              normalized=True, \n",
    "              difference=False,\n",
    "              clusters = 4)       "
   ]
  },
  {
   "cell_type": "code",
   "execution_count": null,
   "metadata": {},
   "outputs": [],
   "source": []
  },
  {
   "cell_type": "markdown",
   "metadata": {},
   "source": [
    "Coppia Founder-Investor. Contare numero di link tra startup che sono legate tra loro tramite quel link. "
   ]
  },
  {
   "cell_type": "markdown",
   "metadata": {},
   "source": [
    "## Entropy and city trend"
   ]
  },
  {
   "cell_type": "code",
   "execution_count": 34,
   "metadata": {},
   "outputs": [
    {
     "data": {
      "image/png": "[encoded data removed]",
      "text/plain": [
       "<Figure size 1440x432 with 2 Axes>"
      ]
     },
     "metadata": {
      "needs_background": "light"
     },
     "output_type": "display_data"
    },
    {
     "data": {
      "image/png": "[encoded data removed]",
      "text/plain": [
       "<Figure size 720x432 with 1 Axes>"
      ]
     },
     "metadata": {
      "needs_background": "light"
     },
     "output_type": "display_data"
    }
   ],
   "source": [
    "city = 'New York'\n",
    "matrix = np.zeros((2024-2000,len(dimension_labels)))\n",
    "\n",
    "unique_groups = dimension_labels\n",
    "\n",
    "for year_index, start_year in enumerate(range(2000, 2024)):\n",
    "    end_year = start_year\n",
    "    df_org_filtered  = filter_by_year_range(df_org_foundation,'founded_on',start_year,end_year)\n",
    "    df_jobs_filtered = filter_by_year_range(df_jobs_cleaned,'started_on',start_year,end_year)\n",
    "\n",
    "    df_merge = pd.merge(df_org_filtered[df_org_filtered.city==city], df_jobs_filtered, left_on='uuid',right_on='org_uuid')\n",
    "\n",
    "    # Explode the 'groups' column into rows\n",
    "    exploded = df_merge.explode('group').reset_index(drop=True)\n",
    "\n",
    "    # Count the occurrences of unique elements, grouped by 'city' and 'groups'\n",
    "    group_counts = exploded.groupby(['city', 'group']).size().reset_index(name='count')\n",
    "\n",
    "    # Normalize the group counts by the city totals\n",
    "    if not group_counts.empty:\n",
    "        group_counts['normalized_count'] = group_counts['count'] / group_counts['count'].sum()\n",
    "\n",
    "        # Assign counts to the appropriate position in the matrix\n",
    "        for i, group in enumerate(unique_groups):\n",
    "            if group in group_counts['group'].values:\n",
    "                matrix[year_index, i] = group_counts[group_counts['group'] == group]['normalized_count'].values[0]\n",
    "\n",
    "\n",
    "# Transpose the matrix\n",
    "transposed_matrix = matrix.T\n",
    "\n",
    "# Create a DataFrame from the transposed matrix\n",
    "heatmap_data = pd.DataFrame(transposed_matrix, columns=range(2000, 2024), index=unique_groups)\n",
    "\n",
    "# Plot the heatmap with axes swapped\n",
    "plt.figure(figsize=(20, 6))\n",
    "sns.heatmap(heatmap_data, cmap='RdBu_r', annot=False, linewidths=.002)\n",
    "plt.title(city+' Trend')\n",
    "plt.xlabel('Year')\n",
    "plt.ylabel('Groups')\n",
    "plt.xticks(rotation=45)\n",
    "\n",
    "plt.show()\n",
    "\n",
    "entropies = [entropy(group_counts, base=2) for group_counts in matrix]\n",
    "\n",
    "# Plot the scatter plot\n",
    "plt.figure(figsize=(10, 6))\n",
    "plt.scatter(range(2000, 2024), entropies)\n",
    "plt.title('Entropy over the years')\n",
    "plt.xlabel('Year')\n",
    "plt.ylabel('Entropy')\n",
    "plt.show()"
   ]
  },
  {
   "cell_type": "code",
   "execution_count": 23,
   "metadata": {},
   "outputs": [],
   "source": [
    "def calculate_angular_coeff(values):\n",
    "    X = np.array([i for i in range(len(values))]).reshape(-1,1)\n",
    "    # Create a range of values for the independent variable (e.g., time)\n",
    "    y = values\n",
    "\n",
    "    # Create and fit the linear regression model\n",
    "    model = LinearRegression().fit(X, y)\n",
    "\n",
    "    # Get the angular coefficient (slope)\n",
    "    return model.coef_[0]"
   ]
  },
  {
   "cell_type": "code",
   "execution_count": 24,
   "metadata": {},
   "outputs": [],
   "source": [
    "l_coeff = list()\n",
    "city_coeff = defaultdict(float)\n",
    "for city in list(filtered_pivoted.index):\n",
    "    if city in ['Campbell','Johannesburg','Rockville','Waltham']:\n",
    "        continue\n",
    "    if city in city_coeff.keys():\n",
    "        continue\n",
    "    matrix = np.zeros((2021-2000,len(dimension_labels)))\n",
    "\n",
    "    unique_groups = dimension_labels\n",
    "\n",
    "    for year_index, start_year in enumerate(range(2000, 2021)):\n",
    "        end_year = start_year\n",
    "        df_org_filtered  = filter_by_year_range(df_org_foundation,'founded_on',start_year,end_year)\n",
    "        df_jobs_filtered = filter_by_year_range(df_jobs_cleaned,'started_on',start_year,end_year)\n",
    "\n",
    "        df_merge = pd.merge(df_org_filtered[df_org_filtered.city==city], df_jobs_filtered, left_on='uuid',right_on='org_uuid')\n",
    "\n",
    "        # Explode the 'groups' column into rows\n",
    "        exploded = df_merge.explode('group').reset_index(drop=True)\n",
    "\n",
    "        # Count the occurrences of unique elements, grouped by 'city' and 'groups'\n",
    "        group_counts = exploded.groupby(['city', 'group']).size().reset_index(name='count')\n",
    "\n",
    "        # Normalize the group counts by the city totals\n",
    "        if not group_counts.empty:\n",
    "            group_counts['normalized_count'] = group_counts['count'] / group_counts['count'].sum()\n",
    "\n",
    "            # Assign counts to the appropriate position in the matrix\n",
    "            for i, group in enumerate(unique_groups):\n",
    "                if group in group_counts['group'].values:\n",
    "                    matrix[year_index, i] = group_counts[group_counts['group'] == group]['normalized_count'].values[0]\n",
    "\n",
    "\n",
    "    # Transpose the matrix\n",
    "    transposed_matrix = matrix.T\n",
    "\n",
    "    entropies = [entropy(group_counts, base=2) for group_counts in matrix]\n",
    "    \n",
    "    # print(city)\n",
    "    l_coeff.append(calculate_angular_coeff(entropies))\n",
    "    city_coeff[city] = calculate_angular_coeff(entropies)\n",
    "\n"
   ]
  },
  {
   "cell_type": "code",
   "execution_count": 25,
   "metadata": {},
   "outputs": [
    {
     "data": {
      "text/plain": [
       "[('Bedford', -0.01585564934269041), ('Burlington', -0.013941887493704709)]"
      ]
     },
     "execution_count": 25,
     "metadata": {},
     "output_type": "execute_result"
    }
   ],
   "source": [
    "filtered_dict = {key: value for key, value in city_coeff.items() if value<=-0.01}\n",
    "sorted(filtered_dict.items(), key=lambda item: item[1])"
   ]
  },
  {
   "cell_type": "code",
   "execution_count": 26,
   "metadata": {},
   "outputs": [
    {
     "data": {
      "text/plain": [
       "<matplotlib.lines.Line2D at 0x61996e400>"
      ]
     },
     "execution_count": 26,
     "metadata": {},
     "output_type": "execute_result"
    },
    {
     "data": {
      "image/png": "[encoded data removed]",
      "text/plain": [
       "<Figure size 432x288 with 1 Axes>"
      ]
     },
     "metadata": {
      "needs_background": "light"
     },
     "output_type": "display_data"
    }
   ],
   "source": [
    "plt.plot(sorted(l_coeff,reverse=True))\n",
    "plt.axhline(y=0)"
   ]
  },
  {
   "cell_type": "code",
   "execution_count": 27,
   "metadata": {},
   "outputs": [
    {
     "data": {
      "image/png": "[encoded data removed]",
      "text/plain": [
       "<Figure size 1440x432 with 2 Axes>"
      ]
     },
     "metadata": {
      "needs_background": "light"
     },
     "output_type": "display_data"
    },
    {
     "data": {
      "image/png": "[encoded data removed]",
      "text/plain": [
       "<Figure size 720x432 with 1 Axes>"
      ]
     },
     "metadata": {
      "needs_background": "light"
     },
     "output_type": "display_data"
    }
   ],
   "source": [
    "city = 'Burlington'\n",
    "matrix = np.zeros((2021-2000,len(dimension_labels)))\n",
    "\n",
    "unique_groups = dimension_labels\n",
    "\n",
    "for year_index, start_year in enumerate(range(2000, 2021)):\n",
    "    end_year = start_year\n",
    "    df_org_filtered  = filter_by_year_range(df_org_foundation,'founded_on',start_year,end_year)\n",
    "    df_jobs_filtered = filter_by_year_range(df_jobs_cleaned,'started_on',start_year,end_year)\n",
    "\n",
    "    df_merge = pd.merge(df_org_filtered[df_org_filtered.city==city], df_jobs_filtered, left_on='uuid',right_on='org_uuid')\n",
    "\n",
    "    # Explode the 'groups' column into rows\n",
    "    exploded = df_merge.explode('group').reset_index(drop=True)\n",
    "\n",
    "    # Count the occurrences of unique elements, grouped by 'city' and 'groups'\n",
    "    group_counts = exploded.groupby(['city', 'group']).size().reset_index(name='count')\n",
    "\n",
    "    # Normalize the group counts by the city totals\n",
    "    if not group_counts.empty:\n",
    "        group_counts['normalized_count'] = group_counts['count'] / group_counts['count'].sum()\n",
    "\n",
    "        # Assign counts to the appropriate position in the matrix\n",
    "        for i, group in enumerate(unique_groups):\n",
    "            if group in group_counts['group'].values:\n",
    "                matrix[year_index, i] = group_counts[group_counts['group'] == group]['normalized_count'].values[0]\n",
    "\n",
    "\n",
    "# Transpose the matrix\n",
    "transposed_matrix = matrix.T\n",
    "\n",
    "# Create a DataFrame from the transposed matrix\n",
    "heatmap_data = pd.DataFrame(transposed_matrix, columns=range(2000, 2021), index=unique_groups)\n",
    "\n",
    "# Plot the heatmap with axes swapped\n",
    "plt.figure(figsize=(20, 6))\n",
    "sns.heatmap(heatmap_data, cmap='RdBu_r', annot=False, linewidths=.002)\n",
    "plt.title(city+' Trend')\n",
    "plt.xlabel('Year')\n",
    "plt.ylabel('Groups')\n",
    "plt.xticks(rotation=45)\n",
    "\n",
    "plt.show()\n",
    "\n",
    "entropies = [entropy(group_counts, base=2) for group_counts in matrix]\n",
    "\n",
    "# Plot the scatter plot\n",
    "plt.figure(figsize=(10, 6))\n",
    "plt.scatter(range(2000, 2021), entropies)\n",
    "plt.ylim(1,3)\n",
    "plt.title('Entropy over the years')\n",
    "plt.xlabel('Year')\n",
    "plt.ylabel('Entropy')\n",
    "plt.show()"
   ]
  },
  {
   "cell_type": "code",
   "execution_count": 27,
   "metadata": {},
   "outputs": [],
   "source": [
    "# # Convert the list to a NumPy array and reshape it\n",
    "# X = np.array([i for i in range(len(entropies))]).reshape(-1,1)\n",
    "# # Create a range of values for the independent variable (e.g., time)\n",
    "# y = entropies\n",
    "\n",
    "# # Create and fit the linear regression model\n",
    "# model = LinearRegression().fit(X, y)\n",
    "\n",
    "# # Get the angular coefficient (slope)\n",
    "# angular_coefficient = model.coef_[0]\n",
    "\n",
    "# print(f\"Angular Coefficient (Slope): {angular_coefficient}\")\n",
    "\n",
    "# plt.scatter(X, y, color='blue')\n",
    "# plt.plot(X, model.predict(X), color='red', linewidth=2)\n",
    "# plt.title(\"Linear Regression\")\n",
    "# plt.xlabel(\"Values\")\n",
    "# plt.ylabel(\"Independent Variable\")\n",
    "# plt.show()"
   ]
  },
  {
   "cell_type": "markdown",
   "metadata": {},
   "source": [
    "# Organizations Fingerprints"
   ]
  },
  {
   "cell_type": "code",
   "execution_count": 6,
   "metadata": {},
   "outputs": [],
   "source": [
    "org_categories = df_org[['uuid', 'founded_on','country_code','category_list','category_groups_list','city']]\n",
    "org_categories['founded_on'] = pd.to_datetime(org_categories['founded_on'], errors='coerce')\n",
    "org_categories = org_categories[org_categories['founded_on'].notna()]\n",
    "org_categories = org_categories[org_categories['category_groups_list'].notna()]\n",
    "org_categories = org_categories[org_categories['category_list'].notna()]"
   ]
  },
  {
   "cell_type": "code",
   "execution_count": 7,
   "metadata": {},
   "outputs": [],
   "source": [
    "def create_category_list_graph(df,is_list=True):\n",
    "    G = nx.Graph()\n",
    "    edge_counts = {}\n",
    "    for row in df.itertuples(index=False):\n",
    "        if is_list:\n",
    "            categories = row.category_list.split(',')\n",
    "        else:\n",
    "            categories = row.category_groups_list.split(',')\n",
    "        for cat1, cat2 in zip(categories, categories[1:]):\n",
    "            cat1 = cat1.strip()\n",
    "            cat2 = cat2.strip()\n",
    "            edge = tuple(sorted([cat1, cat2]))\n",
    "            edge_counts[edge] = edge_counts.get(edge, 0) + 1\n",
    "            G.add_edge(cat1, cat2, weight=edge_counts[edge])\n",
    "    for node in G.nodes:\n",
    "        G.nodes[node]['label'] = node \n",
    "    return G"
   ]
  },
  {
   "cell_type": "markdown",
   "metadata": {},
   "source": [
    "## Community analysis"
   ]
  },
  {
   "cell_type": "code",
   "execution_count": 30,
   "metadata": {},
   "outputs": [],
   "source": [
    "# start_year = 2020\n",
    "# end_year = 2021\n",
    "networks = defaultdict()\n",
    "# communities_dict = defaultdict()\n",
    "for year in range(2000,2024):\n",
    "\n",
    "    df_org_filtered = filter_by_year_range(org_categories,'founded_on',year,year+1)\n",
    "    # print(len(df_org_filtered))\n",
    "\n",
    "    category_graph = create_category_list_graph(df_org_filtered,is_list=True)\n",
    "    mapping = {label: label for label in nx.get_node_attributes(category_graph, 'label').values()}\n",
    "    integer_mapping = {i:label for i, label in enumerate(sorted(set(mapping.values())))}\n",
    "    category_graph = nx.convert_node_labels_to_integers(category_graph,ordering='sorted',label_attribute='label')\n",
    "\n",
    "    igraph_category_graph = networkx_to_igraph(category_graph)\n",
    "\n",
    "    # Run the Leiden algorithm\n",
    "    partition = leidenalg.find_partition(igraph_category_graph, \n",
    "                                        leidenalg.ModularityVertexPartition, \n",
    "                                        weights='weight')\n",
    "\n",
    "    # print(f\"Number of communities: {len(partition)}\")\n",
    "\n",
    "    # Map communities to nodes\n",
    "    communities = {}\n",
    "    for idx, community in enumerate(partition):\n",
    "        for node in community:\n",
    "            communities[igraph_category_graph.vs[node]['name']] = idx\n",
    "\n",
    "    # Assign community to nodes in NetworkX graph\n",
    "    community_mapping = {}\n",
    "    for community_id, community in enumerate(partition):\n",
    "        for node in community:\n",
    "            community_mapping[integer_mapping[igraph_category_graph.vs[node]['name']]] = community_id\n",
    "\n",
    "    G = nx.relabel_nodes(category_graph, integer_mapping)\n",
    "    nx.set_node_attributes(G, community_mapping, 'community')\n",
    "\n",
    "    networks[str(year)]= G\n",
    "\n",
    "    # Save the graph in GEXF format\n",
    "    nx.write_gexf(G, 'output_graph/category_graph_'+str(year)+'.gexf')\n",
    "\n",
    "    # for community in partition:\n",
    "    #     print(f\"Community: {[igraph_category_graph.vs[i]['name'] for i in community]}\")"
   ]
  },
  {
   "cell_type": "code",
   "execution_count": 31,
   "metadata": {},
   "outputs": [
    {
     "name": "stdout",
     "output_type": "stream",
     "text": [
      "8816\n",
      "8219\n"
     ]
    }
   ],
   "source": [
    "G2 = networks['2001']\n",
    "G1 = networks['2000']\n",
    "\n",
    "# Find the edges present in G1 but not in G2\n",
    "edges_in_G1_not_in_G2 = set(G1.edges) - set(G2.edges)\n",
    "# print(f\"Edges present in G1 but not in G2: {edges_in_G1_not_in_G2}\")\n",
    "print(len(edges_in_G1_not_in_G2))\n",
    "\n",
    "# Find the edges present in G2 but not in G1\n",
    "edges_in_G2_not_in_G1 = set(G2.edges) - set(G1.edges)\n",
    "# print(f\"Edges present in G2 but not in G1: {edges_in_G2_not_in_G1}\")\n",
    "print(len(edges_in_G2_not_in_G1))"
   ]
  },
  {
   "cell_type": "code",
   "execution_count": 32,
   "metadata": {},
   "outputs": [],
   "source": [
    "def merge_graphs(g1, g2):\n",
    "    \"\"\"\n",
    "    Merge two NetworkX graphs and update the weights of overlapping edges.\n",
    "    \n",
    "    Args:\n",
    "        g1 (networkx.Graph): The first input graph.\n",
    "        g2 (networkx.Graph): The second input graph.\n",
    "    \n",
    "    Returns:\n",
    "        networkx.Graph: A new graph that is the result of merging g1 and g2.\n",
    "    \"\"\"\n",
    "    # Create a new graph\n",
    "    merged_graph = nx.Graph()\n",
    "    \n",
    "    # Add edges and weights from the first graph\n",
    "    for u, v, data in g1.edges(data=True):\n",
    "        weight = data.get('weight', 1.0)\n",
    "        if merged_graph.has_edge(u, v):\n",
    "            merged_graph[u][v]['weight'] += weight\n",
    "        else:\n",
    "            merged_graph.add_edge(u, v, weight=weight)\n",
    "    \n",
    "    # Add edges and weights from the second graph\n",
    "    for u, v, data in g2.edges(data=True):\n",
    "        weight = data.get('weight', 1.0)\n",
    "        if merged_graph.has_edge(u, v):\n",
    "            merged_graph[u][v]['weight'] += weight\n",
    "        else:\n",
    "            merged_graph.add_edge(u, v, weight=weight)\n",
    "    \n",
    "    return merged_graph\n"
   ]
  },
  {
   "cell_type": "code",
   "execution_count": 33,
   "metadata": {},
   "outputs": [],
   "source": [
    "merged_G = merge_graphs(G1,G2)\n",
    "\n",
    "edges_to_remove = set(G1.edges)\n",
    "merged_G.remove_edges_from(edges_to_remove)\n",
    "\n",
    "nx.write_gexf(merged_G, 'output_graph/diff_G.gexf')\n"
   ]
  },
  {
   "cell_type": "code",
   "execution_count": 34,
   "metadata": {},
   "outputs": [],
   "source": [
    "# print(\"Edges and Weights:\")\n",
    "# for u, v, data in category_graph.edges(data=True):\n",
    "#     print(f\"{u} -- {v}: {data['weight']}\")"
   ]
  },
  {
   "cell_type": "code",
   "execution_count": 35,
   "metadata": {},
   "outputs": [],
   "source": [
    "# def create_category_graph(df):\n",
    "#     G = nx.Graph()\n",
    "#     for row in df.itertuples(index=False):\n",
    "#         categories = row.category_list.split(',')\n",
    "#         for cat1, cat2 in zip(categories, categories[1:]):\n",
    "#             cat1 = cat1.strip()\n",
    "#             cat2 = cat2.strip()\n",
    "#             if G.has_edge(cat1, cat2):\n",
    "#                 G[cat1][cat2]['weight'] += 1\n",
    "#             else:\n",
    "#                 G.add_edge(cat1, cat2, weight=1)\n",
    "#     return G\n",
    "\n",
    "# def networkx_to_igraph(nx_graph):\n",
    "#     # Create an igraph graph from the networkx graph\n",
    "#     ig_graph = ig.Graph(directed=nx_graph.is_directed())\n",
    "#     mapping = {name: idx for idx, name in enumerate(nx_graph.nodes())}\n",
    "    \n",
    "#     # Add vertices\n",
    "#     ig_graph.add_vertices(len(mapping))\n",
    "#     for name, idx in mapping.items():\n",
    "#         ig_graph.vs[idx]['name'] = name\n",
    "\n",
    "#     # Add edges\n",
    "#     edges = [(mapping[u], mapping[v]) for u, v in nx_graph.edges()]\n",
    "#     ig_graph.add_edges(edges)\n",
    "\n",
    "#     # Add weights\n",
    "#     weights = [nx_graph[u][v]['weight'] for u, v in nx_graph.edges()]\n",
    "#     ig_graph.es['weight'] = weights\n",
    "    \n",
    "#     return ig_graph"
   ]
  },
  {
   "cell_type": "code",
   "execution_count": 36,
   "metadata": {},
   "outputs": [],
   "source": [
    "# palette=sns.color_palette(\"husl\",\n",
    "#                           n_colors=len(set(communities.values()))\n",
    "#                           )\n",
    "\n",
    "# N = net.Network(height='500px',\n",
    "#                 width='1000px',\n",
    "#                 bgcolor='#222222',\n",
    "#                 font_color='white',\n",
    "#                 cdn_resources='in_line',\n",
    "#                 directed=False,\n",
    "#                 notebook=True)\n",
    "\n",
    "# degreeResults = nx.degree(category_graph)\n",
    "\n",
    "# for n in category_graph:\n",
    "#     try:\n",
    "#         N.add_node(n, \n",
    "#                    size=degreeResults[n]/100+10,\n",
    "#                    label=n,\n",
    "#                    color=palette.as_hex()[communities[n]])\n",
    "#     except:\n",
    "#         print(n)\n",
    "# for e in category_graph.edges:\n",
    "#     N.add_edge(e[0],e[1])"
   ]
  },
  {
   "cell_type": "markdown",
   "metadata": {},
   "source": [
    "## Diversification vs Specialization"
   ]
  },
  {
   "cell_type": "code",
   "execution_count": 8,
   "metadata": {},
   "outputs": [],
   "source": [
    "year = 2000\n",
    "df = org_categories.dropna(subset=['country_code'])\n",
    "org_filtered = filter_by_year_range(df,'founded_on',year,year+1)"
   ]
  },
  {
   "cell_type": "code",
   "execution_count": 9,
   "metadata": {},
   "outputs": [],
   "source": [
    "# Create a set of all unique categories\n",
    "all_categories = set(cat for categories in org_filtered['category_list'] for cat in categories)\n",
    "\n",
    "# Explode the 'Categories' column to create a new DataFrame\n",
    "df_exploded = org_filtered.explode('category_list').reset_index(drop=True)"
   ]
  },
  {
   "cell_type": "code",
   "execution_count": 10,
   "metadata": {},
   "outputs": [],
   "source": [
    "# Create the matrix with cities as rows and categories as columns\n",
    "matrix = pd.crosstab(df_exploded['city'], df_exploded['category_list'])"
   ]
  },
  {
   "cell_type": "code",
   "execution_count": 11,
   "metadata": {},
   "outputs": [],
   "source": [
    "# Fill missing values with 0\n",
    "matrix = matrix.fillna(0)\n",
    "\n",
    "matrix[matrix > 1] = 1\n",
    "# Sort the rows and columns\n",
    "sorted_rows = matrix.sum(axis=1).sort_values(ascending=False).index\n",
    "sorted_cols = matrix.sum(axis=0).sort_values(ascending=False).index\n"
   ]
  },
  {
   "cell_type": "code",
   "execution_count": 11,
   "metadata": {},
   "outputs": [
    {
     "ename": "",
     "evalue": "",
     "output_type": "error",
     "traceback": [
      "\u001b[1;31mThe Kernel crashed while executing code in the current cell or a previous cell. \n",
      "\u001b[1;31mPlease review the code in the cell(s) to identify a possible cause of the failure. \n",
      "\u001b[1;31mClick <a href='https://aka.ms/vscodeJupyterKernelCrash'>here</a> for more info. \n",
      "\u001b[1;31mView Jupyter <a href='command:jupyter.viewOutput'>log</a> for further details."
     ]
    }
   ],
   "source": [
    "# Create the heatmap\n",
    "plt.figure(figsize=(20, 10))\n",
    "heatmap = sns.heatmap(matrix.loc[sorted_rows, sorted_cols].head(1000))\n",
    "\n",
    "# Adjust the layout\n",
    "heatmap.set_xticklabels(heatmap.get_xticklabels(), rotation=45, horizontalalignment='right')\n",
    "plt.tight_layout()\n",
    "plt.show()"
   ]
  },
  {
   "cell_type": "code",
   "execution_count": null,
   "metadata": {},
   "outputs": [],
   "source": []
  }
 ],
 "metadata": {
  "kernelspec": {
   "display_name": "atomico",
   "language": "python",
   "name": "python3"
  },
  "language_info": {
   "codemirror_mode": {
    "name": "ipython",
    "version": 3
   },
   "file_extension": ".py",
   "mimetype": "text/x-python",
   "name": "python",
   "nbconvert_exporter": "python",
   "pygments_lexer": "ipython3",
   "version": "3.8.12"
  }
 },
 "nbformat": 4,
 "nbformat_minor": 2
}
