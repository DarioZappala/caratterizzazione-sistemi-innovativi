{
 "cells": [
  {
   "cell_type": "code",
   "execution_count": 8,
   "metadata": {},
   "outputs": [],
   "source": [
    "import pandas as pd\n",
    "import glob\n",
    "import os\n",
    "import string\n",
    "import datetime\n",
    "import numpy as np\n",
    "from joblib import Parallel, delayed\n",
    "import seaborn as sns\n",
    "import matplotlib.pyplot as plt\n",
    "import networkx as nx\n",
    "import warnings\n",
    "from utils import *\n",
    "\n",
    "pd.set_option('display.max_columns', None)\n",
    "plt.rcParams.update({'font.size': 14})\n",
    "warnings.filterwarnings(\"ignore\", category=DeprecationWarning)\n",
    "warnings.filterwarnings(\"ignore\", category=pd.core.common.SettingWithCopyWarning)"
   ]
  },
  {
   "cell_type": "markdown",
   "metadata": {},
   "source": [
    "# Loading data"
   ]
  },
  {
   "cell_type": "code",
   "execution_count": 9,
   "metadata": {},
   "outputs": [],
   "source": [
    "df_org          = pd.read_csv('../data/organizations.csv')\n",
    "df_jobs         = pd.read_csv('../data/jobs.csv')\n",
    "df_people       = pd.read_csv('../data/people.csv')\n",
    "df_fund_rounds  = pd.read_csv('../data/funding_rounds.csv')\n",
    "df_ipos         = pd.read_csv('../data/ipos.csv')\n",
    "df_acquisitions = pd.read_csv('../data/acquisitions.csv')"
   ]
  },
  {
   "cell_type": "code",
   "execution_count": 18,
   "metadata": {},
   "outputs": [],
   "source": [
    "df_jobs_cleaned = pd.read_csv('../data/jobs_cleaned.csv',\n",
    "                              converters={'group': str_to_list})\n",
    "\n",
    "df_org_foundation = df_org[['uuid', 'founded_on','country_code','city','total_funding_usd']]\n",
    "# Convert the 'founded_on' column to datetime\n",
    "df_org_foundation['founded_on'] = pd.to_datetime(df_org_foundation['founded_on'], errors='coerce')\n",
    "# Drop rows with NaN values (including out-of-bounds datetime)\n",
    "df_org_foundation.dropna(subset=['founded_on','country_code','city'],inplace=True)\n",
    "df_org_foundation = df_org_foundation.rename(columns={'uuid':'org_uuid'})"
   ]
  },
  {
   "cell_type": "code",
   "execution_count": 59,
   "metadata": {},
   "outputs": [
    {
     "data": {
      "text/html": [
       "<div>\n",
       "<style scoped>\n",
       "    .dataframe tbody tr th:only-of-type {\n",
       "        vertical-align: middle;\n",
       "    }\n",
       "\n",
       "    .dataframe tbody tr th {\n",
       "        vertical-align: top;\n",
       "    }\n",
       "\n",
       "    .dataframe thead th {\n",
       "        text-align: right;\n",
       "    }\n",
       "</style>\n",
       "<table border=\"1\" class=\"dataframe\">\n",
       "  <thead>\n",
       "    <tr style=\"text-align: right;\">\n",
       "      <th></th>\n",
       "      <th>started_on</th>\n",
       "      <th>org_uuid</th>\n",
       "      <th>group</th>\n",
       "      <th>person_uuid</th>\n",
       "    </tr>\n",
       "  </thead>\n",
       "  <tbody>\n",
       "    <tr>\n",
       "      <th>0</th>\n",
       "      <td>2005-10-01</td>\n",
       "      <td>e1393508-30ea-8a36-3f96-dd3226033abd</td>\n",
       "      <td>[ExCo, Founder]</td>\n",
       "      <td>ed13cd36-fe2b-3707-197b-0c2d56e37a71</td>\n",
       "    </tr>\n",
       "    <tr>\n",
       "      <th>1</th>\n",
       "      <td>2000-11-01</td>\n",
       "      <td>bf4d7b0e-b34d-2fd8-d292-6049c4f7efc7</td>\n",
       "      <td>[Other]</td>\n",
       "      <td>9f99a98a-aa97-b30b-0d36-db67c1d277e0</td>\n",
       "    </tr>\n",
       "    <tr>\n",
       "      <th>2</th>\n",
       "      <td>2006-03-01</td>\n",
       "      <td>bf4d7b0e-b34d-2fd8-d292-6049c4f7efc7</td>\n",
       "      <td>[Leadership]</td>\n",
       "      <td>6e1bca72-a865-b518-b305-31214ce2d1b0</td>\n",
       "    </tr>\n",
       "    <tr>\n",
       "      <th>3</th>\n",
       "      <td>2005-07-01</td>\n",
       "      <td>5f2b40b8-d1b3-d323-d81a-b7a8e89553d0</td>\n",
       "      <td>[ExCo]</td>\n",
       "      <td>c92a1f00-8c19-bf2e-0f28-dbbd383dc968</td>\n",
       "    </tr>\n",
       "    <tr>\n",
       "      <th>4</th>\n",
       "      <td>2004-01-01</td>\n",
       "      <td>df662812-7f97-0b43-9d3e-12f64f504fbb</td>\n",
       "      <td>[ExCo, Leadership, Founder]</td>\n",
       "      <td>a01b8d46-d311-3333-7c34-aa3ae9c03f22</td>\n",
       "    </tr>\n",
       "    <tr>\n",
       "      <th>...</th>\n",
       "      <td>...</td>\n",
       "      <td>...</td>\n",
       "      <td>...</td>\n",
       "      <td>...</td>\n",
       "    </tr>\n",
       "    <tr>\n",
       "      <th>2012047</th>\n",
       "      <td>2022-01-03</td>\n",
       "      <td>708a2573-690b-456f-9de4-53344e493104</td>\n",
       "      <td>[Ownership]</td>\n",
       "      <td>3e8a1b46-9884-7f7c-6c36-19ec417291ee</td>\n",
       "    </tr>\n",
       "    <tr>\n",
       "      <th>2012048</th>\n",
       "      <td>2022-07-01</td>\n",
       "      <td>fbdacb6c-cd3e-49cc-82da-30eb9f3dffb0</td>\n",
       "      <td>[Board, Other]</td>\n",
       "      <td>3e8a1b46-9884-7f7c-6c36-19ec417291ee</td>\n",
       "    </tr>\n",
       "    <tr>\n",
       "      <th>2012049</th>\n",
       "      <td>2024-01-01</td>\n",
       "      <td>cb9a8725-767c-4462-bbae-2f23f6887bb8</td>\n",
       "      <td>[Leadership]</td>\n",
       "      <td>bc0f88f0-fcc0-ebac-0470-8939d76484bc</td>\n",
       "    </tr>\n",
       "    <tr>\n",
       "      <th>2012050</th>\n",
       "      <td>2024-01-01</td>\n",
       "      <td>cb9a8725-767c-4462-bbae-2f23f6887bb8</td>\n",
       "      <td>[Leadership]</td>\n",
       "      <td>bc0f88f0-fcc0-ebac-0470-8939d76484bc</td>\n",
       "    </tr>\n",
       "    <tr>\n",
       "      <th>2012051</th>\n",
       "      <td>2021-09-19</td>\n",
       "      <td>cc73fbc5-f8c6-4337-80a3-1921ef64079c</td>\n",
       "      <td>[ExCo]</td>\n",
       "      <td>86e0ffa7-3c7f-4c6c-b54e-55c25dc43008</td>\n",
       "    </tr>\n",
       "  </tbody>\n",
       "</table>\n",
       "<p>2012052 rows × 4 columns</p>\n",
       "</div>"
      ],
      "text/plain": [
       "        started_on                              org_uuid  \\\n",
       "0       2005-10-01  e1393508-30ea-8a36-3f96-dd3226033abd   \n",
       "1       2000-11-01  bf4d7b0e-b34d-2fd8-d292-6049c4f7efc7   \n",
       "2       2006-03-01  bf4d7b0e-b34d-2fd8-d292-6049c4f7efc7   \n",
       "3       2005-07-01  5f2b40b8-d1b3-d323-d81a-b7a8e89553d0   \n",
       "4       2004-01-01  df662812-7f97-0b43-9d3e-12f64f504fbb   \n",
       "...            ...                                   ...   \n",
       "2012047 2022-01-03  708a2573-690b-456f-9de4-53344e493104   \n",
       "2012048 2022-07-01  fbdacb6c-cd3e-49cc-82da-30eb9f3dffb0   \n",
       "2012049 2024-01-01  cb9a8725-767c-4462-bbae-2f23f6887bb8   \n",
       "2012050 2024-01-01  cb9a8725-767c-4462-bbae-2f23f6887bb8   \n",
       "2012051 2021-09-19  cc73fbc5-f8c6-4337-80a3-1921ef64079c   \n",
       "\n",
       "                               group                           person_uuid  \n",
       "0                    [ExCo, Founder]  ed13cd36-fe2b-3707-197b-0c2d56e37a71  \n",
       "1                            [Other]  9f99a98a-aa97-b30b-0d36-db67c1d277e0  \n",
       "2                       [Leadership]  6e1bca72-a865-b518-b305-31214ce2d1b0  \n",
       "3                             [ExCo]  c92a1f00-8c19-bf2e-0f28-dbbd383dc968  \n",
       "4        [ExCo, Leadership, Founder]  a01b8d46-d311-3333-7c34-aa3ae9c03f22  \n",
       "...                              ...                                   ...  \n",
       "2012047                  [Ownership]  3e8a1b46-9884-7f7c-6c36-19ec417291ee  \n",
       "2012048               [Board, Other]  3e8a1b46-9884-7f7c-6c36-19ec417291ee  \n",
       "2012049                 [Leadership]  bc0f88f0-fcc0-ebac-0470-8939d76484bc  \n",
       "2012050                 [Leadership]  bc0f88f0-fcc0-ebac-0470-8939d76484bc  \n",
       "2012051                       [ExCo]  86e0ffa7-3c7f-4c6c-b54e-55c25dc43008  \n",
       "\n",
       "[2012052 rows x 4 columns]"
      ]
     },
     "execution_count": 59,
     "metadata": {},
     "output_type": "execute_result"
    }
   ],
   "source": [
    "df_jobs_cleaned"
   ]
  },
  {
   "cell_type": "code",
   "execution_count": 96,
   "metadata": {},
   "outputs": [],
   "source": [
    "def extractBipartiteEdgelist(org,jobs,f1,f2,city=None,year='all'):\n",
    "    \n",
    "    if year != 'all':\n",
    "        org = filter_up_to_year(org,f1,year)\n",
    "        jobs = filter_up_to_year(jobs,f2,year)\n",
    "    \n",
    "    if city:\n",
    "        org = org[org.city==city]\n",
    "    \n",
    "    org_list = org.org_uuid.tolist()\n",
    "    \n",
    "    jobs = jobs[jobs.org_uuid.isin(org_list)]\n",
    "\n",
    "    merged = pd.merge(jobs,org, how='left',on='org_uuid')\n",
    "    # Group by person_uuid and collect unique org_uuid\n",
    "    person_orgs = merged.groupby('person_uuid').agg({\n",
    "        'org_uuid': lambda x: list(x),\n",
    "        'city': lambda x: list(x),\n",
    "        'started_on': lambda x: list(x)\n",
    "    })\n",
    "\n",
    "    # Create an empty set to store unique org connections\n",
    "    org_connections = set()\n",
    "\n",
    "   # Iterate through each person's organizations\n",
    "    for orgs, cities, dates in zip(person_orgs['org_uuid'], person_orgs['city'], person_orgs['started_on']):\n",
    "        # Create all possible unique pairs of organizations\n",
    "        for (org1, city1, date1), (org2, city2, date2) in combinations(zip(orgs, cities, dates), 2):\n",
    "            # Determine the latest year\n",
    "            latest_year = max(date1.year, date2.year)\n",
    "            # Add the sorted tuple with orgs, cities, and latest year to the set to avoid duplicates\n",
    "            if org1 == org2:\n",
    "                continue\n",
    "            org_pair = tuple(sorted([(org1, city1), (org2, city2)]))\n",
    "            org_connections.add((org_pair[0][0], org_pair[1][0], org_pair[0][1], org_pair[1][1], latest_year))\n",
    "    \n",
    "    # Convert the set to a dataframe\n",
    "    org_connections_df = pd.DataFrame(list(org_connections), columns=['org_uuid_1', 'org_uuid_2', 'city_1', 'city_2', 'year'])\n",
    "    \n",
    "    return org_connections_df\n",
    "\n",
    "\n",
    "def createStartupNetwork(edgelist,source,target, city=None, year=None, edge_attr=None, create_using=None, edge_key=None):\n",
    "    \n",
    "    if city:\n",
    "        edgelist = edgelist[(edgelist.city_1==city) & (edgelist.city_2==city)]\n",
    "    if year:\n",
    "        edgelist = edgelist[edgelist.year<=year]\n",
    "\n",
    "    return nx.from_pandas_edgelist(edgelist, source=source, target=target, edge_attr=edge_attr, create_using=create_using, edge_key=edge_key)\n",
    "\n",
    "    "
   ]
  },
  {
   "cell_type": "code",
   "execution_count": 107,
   "metadata": {},
   "outputs": [],
   "source": [
    "df = extractBipartiteEdgelist(df_org_foundation,df_jobs_cleaned,'founded_on','started_on',year=2024)"
   ]
  },
  {
   "cell_type": "code",
   "execution_count": 125,
   "metadata": {},
   "outputs": [],
   "source": [
    "def find_largest_component(G):\n",
    "    # Find all connected components\n",
    "    components = list(nx.connected_components(G))\n",
    "    largest_component = max(components, key=len)\n",
    "    return len(components),largest_component"
   ]
  },
  {
   "cell_type": "code",
   "execution_count": 130,
   "metadata": {},
   "outputs": [],
   "source": [
    "def networkMetrics(G):\n",
    "    number_of_components, largest_component = find_largest_component(G)\n",
    "    G = G.subgraph(largest_component)\n",
    "    density = nx.density(G)\n",
    "    n_nodes = G.number_of_nodes()\n",
    "    n_edges = G.number_of_edges()\n",
    "    global_efficiency = nx.global_efficiency(G)\n",
    "    diameter = nx.diameter(G)\n",
    "    shortest_path = nx.average_shortest_path_length(G)\n",
    "\n",
    "    return [number_of_components,n_nodes,n_edges,density,global_efficiency,diameter,shortest_path]\n"
   ]
  },
  {
   "cell_type": "code",
   "execution_count": 131,
   "metadata": {},
   "outputs": [
    {
     "name": "stdout",
     "output_type": "stream",
     "text": [
      "Year,Nodes,Edges\n",
      "2000 [44, 25, 28, 0.09333333333333334, 0.40316666666666756, 6, 3.0233333333333334]\n",
      "2001 [49, 31, 34, 0.07311827956989247, 0.3640604198668709, 7, 3.382795698924731]\n",
      "2002 [57, 34, 38, 0.0677361853832442, 0.3631928528987336, 8, 3.376114081996435]\n",
      "2003 [66, 73, 88, 0.0334855403348554, 0.2750389851988083, 11, 4.5156012176560125]\n",
      "2004 [79, 91, 114, 0.02783882783882784, 0.2761783807021887, 11, 4.3992673992674]\n",
      "2005 [88, 191, 239, 0.013171672637090107, 0.2203190352404822, 14, 5.469440617249931]\n",
      "2006 [108, 288, 384, 0.009291521486643438, 0.2215709162864395, 12, 5.229045683313976]\n",
      "2007 [130, 405, 569, 0.006955139958440289, 0.2177800795953782, 12, 5.247451411807847]\n",
      "2008 [142, 577, 900, 0.005415944540727903, 0.2174781797867157, 12, 5.174459609089158]\n",
      "2009 [156, 761, 1315, 0.004547340756622173, 0.21575499422151354, 13, 5.167145030776679]\n",
      "2010 [193, 1039, 2042, 0.003786804044944654, 0.22220056949722247, 13, 4.946586034815602]\n",
      "2011 [233, 1435, 3078, 0.0029915589054276674, 0.22350186882870895, 14, 4.8935343256600525]\n",
      "2012 [277, 1913, 4513, 0.0024677006257559485, 0.22995510297513627, 14, 4.720878617344004]\n",
      "2013 [368, 2441, 6101, 0.0020486766374973975, 0.2343421026043821, 13, 4.60078239904366]\n",
      "2014 [411, 3101, 8194, 0.0017047570502751455, 0.23538719652382672, 13, 4.574462348253945]\n",
      "2015 [448, 3809, 10618, 0.0014640799874688652, 0.23740795868922562, 13, 4.530725272519089]\n",
      "2016 [509, 4489, 13083, 0.0012987778800943007, 0.24002296353613267, 12, 4.474335065037174]\n"
     ]
    }
   ],
   "source": [
    "print('Year,Nodes,Edges')\n",
    "for year in range(2000,2020):\n",
    "    G = createStartupNetwork(df,'org_uuid_1','org_uuid_2',city='San Francisco',year=year)\n",
    "    print(year,networkMetrics(G))"
   ]
  },
  {
   "cell_type": "code",
   "execution_count": 103,
   "metadata": {},
   "outputs": [
    {
     "data": {
      "text/plain": [
       "(127, 108)"
      ]
     },
     "execution_count": 103,
     "metadata": {},
     "output_type": "execute_result"
    }
   ],
   "source": [
    "\n"
   ]
  },
  {
   "cell_type": "code",
   "execution_count": null,
   "metadata": {},
   "outputs": [],
   "source": []
  }
 ],
 "metadata": {
  "kernelspec": {
   "display_name": "atomico",
   "language": "python",
   "name": "python3"
  },
  "language_info": {
   "codemirror_mode": {
    "name": "ipython",
    "version": 3
   },
   "file_extension": ".py",
   "mimetype": "text/x-python",
   "name": "python",
   "nbconvert_exporter": "python",
   "pygments_lexer": "ipython3",
   "version": "3.8.12"
  }
 },
 "nbformat": 4,
 "nbformat_minor": 2
}
